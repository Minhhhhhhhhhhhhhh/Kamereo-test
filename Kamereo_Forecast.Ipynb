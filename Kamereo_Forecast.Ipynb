{
 "cells": [
  {
   "cell_type": "code",
   "execution_count": 13,
   "metadata": {},
   "outputs": [],
   "source": [
    "from datetime import datetime, timedelta\n",
    "import matplotlib.pyplot as plt\n",
    "import seaborn as sns\n",
    "import pandas as pd\n",
    "import numpy as np\n",
    "\n",
    "from chart_studio import plotly\n",
    "import plotly.offline as pyoff\n",
    "import plotly.graph_objs as go\n",
    "from plotly.subplots import make_subplots\n",
    "\n",
    "from pmdarima import auto_arima\n",
    "from sklearn.base import BaseEstimator\n",
    "from sklearn.metrics import mean_squared_error\n",
    "from sklearn.model_selection import GridSearchCV"
   ]
  },
  {
   "cell_type": "code",
   "execution_count": 10,
   "metadata": {},
   "outputs": [
    {
     "data": {
      "text/html": [
       "<div>\n",
       "<style scoped>\n",
       "    .dataframe tbody tr th:only-of-type {\n",
       "        vertical-align: middle;\n",
       "    }\n",
       "\n",
       "    .dataframe tbody tr th {\n",
       "        vertical-align: top;\n",
       "    }\n",
       "\n",
       "    .dataframe thead th {\n",
       "        text-align: right;\n",
       "    }\n",
       "</style>\n",
       "<table border=\"1\" class=\"dataframe\">\n",
       "  <thead>\n",
       "    <tr style=\"text-align: right;\">\n",
       "      <th></th>\n",
       "      <th>Category A</th>\n",
       "      <th>Customer</th>\n",
       "      <th>Qty Sold</th>\n",
       "      <th>Revenue</th>\n",
       "    </tr>\n",
       "    <tr>\n",
       "      <th>Date</th>\n",
       "      <th></th>\n",
       "      <th></th>\n",
       "      <th></th>\n",
       "      <th></th>\n",
       "    </tr>\n",
       "  </thead>\n",
       "  <tbody>\n",
       "    <tr>\n",
       "      <th>20171001</th>\n",
       "      <td>A</td>\n",
       "      <td>2</td>\n",
       "      <td>18</td>\n",
       "      <td>4058699</td>\n",
       "    </tr>\n",
       "    <tr>\n",
       "      <th>20171001</th>\n",
       "      <td>A</td>\n",
       "      <td>1</td>\n",
       "      <td>29</td>\n",
       "      <td>13178000</td>\n",
       "    </tr>\n",
       "    <tr>\n",
       "      <th>20171002</th>\n",
       "      <td>A</td>\n",
       "      <td>1</td>\n",
       "      <td>55</td>\n",
       "      <td>23493200</td>\n",
       "    </tr>\n",
       "    <tr>\n",
       "      <th>20171002</th>\n",
       "      <td>A</td>\n",
       "      <td>2</td>\n",
       "      <td>30</td>\n",
       "      <td>6540835</td>\n",
       "    </tr>\n",
       "    <tr>\n",
       "      <th>20171003</th>\n",
       "      <td>A</td>\n",
       "      <td>2</td>\n",
       "      <td>25</td>\n",
       "      <td>5888624</td>\n",
       "    </tr>\n",
       "    <tr>\n",
       "      <th>...</th>\n",
       "      <td>...</td>\n",
       "      <td>...</td>\n",
       "      <td>...</td>\n",
       "      <td>...</td>\n",
       "    </tr>\n",
       "    <tr>\n",
       "      <th>20180928</th>\n",
       "      <td>A</td>\n",
       "      <td>1</td>\n",
       "      <td>106</td>\n",
       "      <td>88288800</td>\n",
       "    </tr>\n",
       "    <tr>\n",
       "      <th>20180929</th>\n",
       "      <td>A</td>\n",
       "      <td>2</td>\n",
       "      <td>183</td>\n",
       "      <td>33435608</td>\n",
       "    </tr>\n",
       "    <tr>\n",
       "      <th>20180929</th>\n",
       "      <td>A</td>\n",
       "      <td>1</td>\n",
       "      <td>79</td>\n",
       "      <td>70059570</td>\n",
       "    </tr>\n",
       "    <tr>\n",
       "      <th>20180930</th>\n",
       "      <td>A</td>\n",
       "      <td>1</td>\n",
       "      <td>76</td>\n",
       "      <td>56706500</td>\n",
       "    </tr>\n",
       "    <tr>\n",
       "      <th>20180930</th>\n",
       "      <td>A</td>\n",
       "      <td>2</td>\n",
       "      <td>166</td>\n",
       "      <td>29831990</td>\n",
       "    </tr>\n",
       "  </tbody>\n",
       "</table>\n",
       "<p>730 rows × 4 columns</p>\n",
       "</div>"
      ],
      "text/plain": [
       "         Category A  Customer  Qty Sold   Revenue\n",
       "Date                                             \n",
       "20171001          A         2        18   4058699\n",
       "20171001          A         1        29  13178000\n",
       "20171002          A         1        55  23493200\n",
       "20171002          A         2        30   6540835\n",
       "20171003          A         2        25   5888624\n",
       "...             ...       ...       ...       ...\n",
       "20180928          A         1       106  88288800\n",
       "20180929          A         2       183  33435608\n",
       "20180929          A         1        79  70059570\n",
       "20180930          A         1        76  56706500\n",
       "20180930          A         2       166  29831990\n",
       "\n",
       "[730 rows x 4 columns]"
      ]
     },
     "execution_count": 10,
     "metadata": {},
     "output_type": "execute_result"
    }
   ],
   "source": [
    "df = pd.read_excel(r'C:\\Users\\MinhDH\\Downloads\\kamereo_test.xlsx')\n",
    "df.set_index('Date', inplace=True)\n",
    "df"
   ]
  },
  {
   "cell_type": "code",
   "execution_count": 4,
   "metadata": {},
   "outputs": [
    {
     "name": "stdout",
     "output_type": "stream",
     "text": [
      "Performing stepwise search to minimize aic\n",
      " ARIMA(2,0,2)(1,0,1)[12] intercept   : AIC=inf, Time=2.29 sec\n",
      " ARIMA(0,0,0)(0,0,0)[12] intercept   : AIC=851.724, Time=0.05 sec\n",
      " ARIMA(1,0,0)(1,0,0)[12] intercept   : AIC=681.315, Time=0.57 sec\n",
      " ARIMA(0,0,1)(0,0,1)[12] intercept   : AIC=inf, Time=1.32 sec\n",
      " ARIMA(0,0,0)(0,0,0)[12]             : AIC=2194.434, Time=0.01 sec\n",
      " ARIMA(1,0,0)(0,0,0)[12] intercept   : AIC=681.292, Time=0.03 sec\n",
      " ARIMA(1,0,0)(0,0,1)[12] intercept   : AIC=681.255, Time=0.21 sec\n",
      " ARIMA(1,0,0)(1,0,1)[12] intercept   : AIC=684.720, Time=1.35 sec\n",
      " ARIMA(1,0,0)(0,0,2)[12] intercept   : AIC=683.125, Time=0.58 sec\n",
      " ARIMA(1,0,0)(1,0,2)[12] intercept   : AIC=inf, Time=2.68 sec\n",
      " ARIMA(0,0,0)(0,0,1)[12] intercept   : AIC=852.278, Time=0.11 sec\n",
      " ARIMA(2,0,0)(0,0,1)[12] intercept   : AIC=616.970, Time=0.21 sec\n",
      " ARIMA(2,0,0)(0,0,0)[12] intercept   : AIC=616.719, Time=0.08 sec\n",
      " ARIMA(2,0,0)(1,0,0)[12] intercept   : AIC=617.042, Time=1.10 sec\n",
      " ARIMA(2,0,0)(1,0,1)[12] intercept   : AIC=620.252, Time=1.63 sec\n",
      " ARIMA(3,0,0)(0,0,0)[12] intercept   : AIC=586.908, Time=0.16 sec\n",
      " ARIMA(3,0,0)(1,0,0)[12] intercept   : AIC=587.656, Time=1.30 sec\n",
      " ARIMA(3,0,0)(0,0,1)[12] intercept   : AIC=587.645, Time=0.67 sec\n",
      " ARIMA(3,0,0)(1,0,1)[12] intercept   : AIC=589.756, Time=2.20 sec\n",
      " ARIMA(4,0,0)(0,0,0)[12] intercept   : AIC=564.132, Time=0.16 sec\n",
      " ARIMA(4,0,0)(1,0,0)[12] intercept   : AIC=564.829, Time=2.47 sec\n",
      " ARIMA(4,0,0)(0,0,1)[12] intercept   : AIC=564.787, Time=0.33 sec\n",
      " ARIMA(4,0,0)(1,0,1)[12] intercept   : AIC=566.927, Time=1.82 sec\n",
      " ARIMA(5,0,0)(0,0,0)[12] intercept   : AIC=552.878, Time=0.22 sec\n",
      " ARIMA(5,0,0)(1,0,0)[12] intercept   : AIC=553.988, Time=2.91 sec\n",
      " ARIMA(5,0,0)(0,0,1)[12] intercept   : AIC=553.540, Time=0.70 sec\n",
      " ARIMA(5,0,0)(1,0,1)[12] intercept   : AIC=604.359, Time=2.61 sec\n",
      " ARIMA(5,0,1)(0,0,0)[12] intercept   : AIC=531.317, Time=1.01 sec\n",
      " ARIMA(5,0,1)(1,0,0)[12] intercept   : AIC=569.766, Time=3.02 sec\n",
      " ARIMA(5,0,1)(0,0,1)[12] intercept   : AIC=550.066, Time=1.78 sec\n",
      " ARIMA(5,0,1)(1,0,1)[12] intercept   : AIC=574.106, Time=3.01 sec\n",
      " ARIMA(4,0,1)(0,0,0)[12] intercept   : AIC=514.576, Time=0.75 sec\n",
      " ARIMA(4,0,1)(1,0,0)[12] intercept   : AIC=584.950, Time=2.05 sec\n",
      " ARIMA(4,0,1)(0,0,1)[12] intercept   : AIC=511.695, Time=1.96 sec\n",
      " ARIMA(4,0,1)(1,0,1)[12] intercept   : AIC=590.378, Time=2.22 sec\n",
      " ARIMA(4,0,1)(0,0,2)[12] intercept   : AIC=539.733, Time=3.66 sec\n",
      " ARIMA(4,0,1)(1,0,2)[12] intercept   : AIC=inf, Time=4.56 sec\n",
      " ARIMA(3,0,1)(0,0,1)[12] intercept   : AIC=472.022, Time=2.36 sec\n",
      " ARIMA(3,0,1)(0,0,0)[12] intercept   : AIC=488.489, Time=0.77 sec\n",
      " ARIMA(3,0,1)(1,0,1)[12] intercept   : AIC=623.667, Time=2.16 sec\n",
      " ARIMA(3,0,1)(0,0,2)[12] intercept   : AIC=501.816, Time=3.27 sec\n",
      " ARIMA(3,0,1)(1,0,0)[12] intercept   : AIC=620.791, Time=2.03 sec\n",
      " ARIMA(3,0,1)(1,0,2)[12] intercept   : AIC=inf, Time=3.64 sec\n",
      " ARIMA(2,0,1)(0,0,1)[12] intercept   : AIC=487.007, Time=1.91 sec\n",
      " ARIMA(3,0,2)(0,0,1)[12] intercept   : AIC=478.909, Time=2.95 sec\n",
      " ARIMA(2,0,2)(0,0,1)[12] intercept   : AIC=477.553, Time=1.56 sec\n",
      " ARIMA(4,0,2)(0,0,1)[12] intercept   : AIC=inf, Time=2.46 sec\n",
      " ARIMA(3,0,1)(0,0,1)[12]             : AIC=inf, Time=1.56 sec\n",
      "\n",
      "Best model:  ARIMA(3,0,1)(0,0,1)[12] intercept\n",
      "Total fit time: 76.522 seconds\n",
      "Performing stepwise search to minimize aic\n"
     ]
    },
    {
     "name": "stderr",
     "output_type": "stream",
     "text": [
      "c:\\Users\\MinhDH\\AppData\\Local\\Programs\\Python\\Python312\\Lib\\site-packages\\sklearn\\model_selection\\_validation.py:993: UserWarning: Scoring failed. The score on this train-test partition for these parameters will be set to nan. Details: \n",
      "Traceback (most recent call last):\n",
      "  File \"c:\\Users\\MinhDH\\AppData\\Local\\Programs\\Python\\Python312\\Lib\\site-packages\\sklearn\\model_selection\\_validation.py\", line 982, in _score\n",
      "    scores = scorer(estimator, X_test, y_test, **score_params)\n",
      "             ^^^^^^^^^^^^^^^^^^^^^^^^^^^^^^^^^^^^^^^^^^^^^^^^^\n",
      "  File \"c:\\Users\\MinhDH\\AppData\\Local\\Programs\\Python\\Python312\\Lib\\site-packages\\sklearn\\metrics\\_scorer.py\", line 253, in __call__\n",
      "    return self._score(partial(_cached_call, None), estimator, X, y_true, **_kwargs)\n",
      "           ^^^^^^^^^^^^^^^^^^^^^^^^^^^^^^^^^^^^^^^^^^^^^^^^^^^^^^^^^^^^^^^^^^^^^^^^^\n",
      "  File \"c:\\Users\\MinhDH\\AppData\\Local\\Programs\\Python\\Python312\\Lib\\site-packages\\sklearn\\metrics\\_scorer.py\", line 345, in _score\n",
      "    y_pred = method_caller(\n",
      "             ^^^^^^^^^^^^^^\n",
      "  File \"c:\\Users\\MinhDH\\AppData\\Local\\Programs\\Python\\Python312\\Lib\\site-packages\\sklearn\\metrics\\_scorer.py\", line 87, in _cached_call\n",
      "    result, _ = _get_response_values(\n",
      "                ^^^^^^^^^^^^^^^^^^^^^\n",
      "  File \"c:\\Users\\MinhDH\\AppData\\Local\\Programs\\Python\\Python312\\Lib\\site-packages\\sklearn\\utils\\_response.py\", line 238, in _get_response_values\n",
      "    y_pred, pos_label = prediction_method(X), None\n",
      "                        ^^^^^^^^^^^^^^^^^^^^\n",
      "TypeError: AutoArimaEstimator.predict() missing 1 required positional argument: 'n_periods'\n",
      "\n",
      "  warnings.warn(\n"
     ]
    },
    {
     "name": "stdout",
     "output_type": "stream",
     "text": [
      " ARIMA(2,0,2)(1,0,1)[12] intercept   : AIC=inf, Time=2.16 sec\n",
      " ARIMA(0,0,0)(0,0,0)[12] intercept   : AIC=851.724, Time=0.05 sec\n",
      " ARIMA(1,0,0)(1,0,0)[12] intercept   : AIC=665.488, Time=0.82 sec\n",
      " ARIMA(0,0,1)(0,0,1)[12] intercept   : AIC=inf, Time=1.35 sec\n",
      " ARIMA(0,0,0)(0,0,0)[12]             : AIC=2194.434, Time=0.01 sec\n",
      " ARIMA(1,0,0)(0,0,0)[12] intercept   : AIC=667.289, Time=0.03 sec\n",
      " ARIMA(1,0,0)(2,0,0)[12] intercept   : AIC=667.211, Time=2.96 sec\n",
      " ARIMA(1,0,0)(1,0,1)[12] intercept   : AIC=668.982, Time=1.09 sec\n",
      " ARIMA(1,0,0)(0,0,1)[12] intercept   : AIC=665.640, Time=0.23 sec\n",
      " ARIMA(1,0,0)(2,0,1)[12] intercept   : AIC=669.228, Time=3.50 sec\n",
      " ARIMA(0,0,0)(1,0,0)[12] intercept   : AIC=853.473, Time=0.27 sec\n",
      " ARIMA(2,0,0)(1,0,0)[12] intercept   : AIC=609.097, Time=1.05 sec\n",
      " ARIMA(2,0,0)(0,0,0)[12] intercept   : AIC=608.968, Time=0.12 sec\n",
      " ARIMA(2,0,0)(0,0,1)[12] intercept   : AIC=609.191, Time=0.49 sec\n",
      " ARIMA(2,0,0)(1,0,1)[12] intercept   : AIC=611.252, Time=1.25 sec\n",
      " ARIMA(3,0,0)(0,0,0)[12] intercept   : AIC=576.078, Time=0.14 sec\n",
      " ARIMA(3,0,0)(1,0,0)[12] intercept   : AIC=577.395, Time=1.72 sec\n",
      " ARIMA(3,0,0)(0,0,1)[12] intercept   : AIC=577.442, Time=0.60 sec\n",
      " ARIMA(3,0,0)(1,0,1)[12] intercept   : AIC=578.453, Time=1.99 sec\n",
      " ARIMA(4,0,0)(0,0,0)[12] intercept   : AIC=556.575, Time=0.21 sec\n",
      " ARIMA(4,0,0)(1,0,0)[12] intercept   : AIC=557.967, Time=2.18 sec\n",
      " ARIMA(4,0,0)(0,0,1)[12] intercept   : AIC=558.005, Time=0.81 sec\n",
      " ARIMA(4,0,0)(1,0,1)[12] intercept   : AIC=559.609, Time=1.99 sec\n",
      " ARIMA(5,0,0)(0,0,0)[12] intercept   : AIC=548.982, Time=0.32 sec\n",
      " ARIMA(5,0,0)(1,0,0)[12] intercept   : AIC=549.887, Time=3.28 sec\n",
      " ARIMA(5,0,0)(0,0,1)[12] intercept   : AIC=549.971, Time=0.99 sec\n",
      " ARIMA(5,0,0)(1,0,1)[12] intercept   : AIC=576.238, Time=2.38 sec\n",
      " ARIMA(5,0,1)(0,0,0)[12] intercept   : AIC=544.662, Time=0.85 sec\n",
      " ARIMA(5,0,1)(1,0,0)[12] intercept   : AIC=556.384, Time=2.58 sec\n",
      " ARIMA(5,0,1)(0,0,1)[12] intercept   : AIC=538.775, Time=1.62 sec\n",
      " ARIMA(5,0,1)(1,0,1)[12] intercept   : AIC=566.354, Time=2.56 sec\n",
      " ARIMA(5,0,1)(0,0,2)[12] intercept   : AIC=541.659, Time=4.54 sec\n",
      " ARIMA(5,0,1)(1,0,2)[12] intercept   : AIC=600.009, Time=5.26 sec\n",
      " ARIMA(4,0,1)(0,0,1)[12] intercept   : AIC=521.003, Time=1.79 sec\n",
      " ARIMA(4,0,1)(0,0,0)[12] intercept   : AIC=509.861, Time=0.76 sec\n",
      " ARIMA(4,0,1)(1,0,0)[12] intercept   : AIC=575.092, Time=1.96 sec\n",
      " ARIMA(4,0,1)(1,0,1)[12] intercept   : AIC=577.469, Time=2.23 sec\n",
      " ARIMA(3,0,1)(0,0,0)[12] intercept   : AIC=484.782, Time=0.69 sec\n",
      " ARIMA(3,0,1)(1,0,0)[12] intercept   : AIC=607.957, Time=1.79 sec\n",
      " ARIMA(3,0,1)(0,0,1)[12] intercept   : AIC=489.930, Time=1.65 sec\n",
      " ARIMA(3,0,1)(1,0,1)[12] intercept   : AIC=615.126, Time=1.88 sec\n",
      " ARIMA(2,0,1)(0,0,0)[12] intercept   : AIC=479.337, Time=0.64 sec\n",
      " ARIMA(2,0,1)(1,0,0)[12] intercept   : AIC=561.863, Time=1.75 sec\n",
      " ARIMA(2,0,1)(0,0,1)[12] intercept   : AIC=470.084, Time=2.94 sec\n",
      " ARIMA(2,0,1)(1,0,1)[12] intercept   : AIC=660.189, Time=1.42 sec\n",
      " ARIMA(2,0,1)(0,0,2)[12] intercept   : AIC=482.515, Time=2.96 sec\n",
      " ARIMA(2,0,1)(1,0,2)[12] intercept   : AIC=653.687, Time=3.25 sec\n",
      " ARIMA(1,0,1)(0,0,1)[12] intercept   : AIC=467.459, Time=2.18 sec\n",
      " ARIMA(1,0,1)(0,0,0)[12] intercept   : AIC=471.243, Time=0.51 sec\n",
      " ARIMA(1,0,1)(1,0,1)[12] intercept   : AIC=489.142, Time=1.48 sec\n",
      " ARIMA(1,0,1)(0,0,2)[12] intercept   : AIC=473.677, Time=3.27 sec\n",
      " ARIMA(1,0,1)(1,0,0)[12] intercept   : AIC=532.423, Time=1.85 sec\n",
      " ARIMA(1,0,1)(1,0,2)[12] intercept   : AIC=623.960, Time=3.04 sec\n",
      " ARIMA(1,0,2)(0,0,1)[12] intercept   : AIC=inf, Time=2.34 sec\n",
      " ARIMA(0,0,0)(0,0,1)[12] intercept   : AIC=853.488, Time=0.10 sec\n",
      " ARIMA(0,0,2)(0,0,1)[12] intercept   : AIC=inf, Time=1.57 sec\n",
      " ARIMA(2,0,2)(0,0,1)[12] intercept   : AIC=489.647, Time=1.06 sec\n",
      " ARIMA(1,0,1)(0,0,1)[12]             : AIC=inf, Time=0.97 sec\n",
      "\n",
      "Best model:  ARIMA(1,0,1)(0,0,1)[12] intercept\n",
      "Total fit time: 93.502 seconds\n",
      "Performing stepwise search to minimize aic\n"
     ]
    },
    {
     "name": "stderr",
     "output_type": "stream",
     "text": [
      "c:\\Users\\MinhDH\\AppData\\Local\\Programs\\Python\\Python312\\Lib\\site-packages\\sklearn\\model_selection\\_validation.py:993: UserWarning: Scoring failed. The score on this train-test partition for these parameters will be set to nan. Details: \n",
      "Traceback (most recent call last):\n",
      "  File \"c:\\Users\\MinhDH\\AppData\\Local\\Programs\\Python\\Python312\\Lib\\site-packages\\sklearn\\model_selection\\_validation.py\", line 982, in _score\n",
      "    scores = scorer(estimator, X_test, y_test, **score_params)\n",
      "             ^^^^^^^^^^^^^^^^^^^^^^^^^^^^^^^^^^^^^^^^^^^^^^^^^\n",
      "  File \"c:\\Users\\MinhDH\\AppData\\Local\\Programs\\Python\\Python312\\Lib\\site-packages\\sklearn\\metrics\\_scorer.py\", line 253, in __call__\n",
      "    return self._score(partial(_cached_call, None), estimator, X, y_true, **_kwargs)\n",
      "           ^^^^^^^^^^^^^^^^^^^^^^^^^^^^^^^^^^^^^^^^^^^^^^^^^^^^^^^^^^^^^^^^^^^^^^^^^\n",
      "  File \"c:\\Users\\MinhDH\\AppData\\Local\\Programs\\Python\\Python312\\Lib\\site-packages\\sklearn\\metrics\\_scorer.py\", line 345, in _score\n",
      "    y_pred = method_caller(\n",
      "             ^^^^^^^^^^^^^^\n",
      "  File \"c:\\Users\\MinhDH\\AppData\\Local\\Programs\\Python\\Python312\\Lib\\site-packages\\sklearn\\metrics\\_scorer.py\", line 87, in _cached_call\n",
      "    result, _ = _get_response_values(\n",
      "                ^^^^^^^^^^^^^^^^^^^^^\n",
      "  File \"c:\\Users\\MinhDH\\AppData\\Local\\Programs\\Python\\Python312\\Lib\\site-packages\\sklearn\\utils\\_response.py\", line 238, in _get_response_values\n",
      "    y_pred, pos_label = prediction_method(X), None\n",
      "                        ^^^^^^^^^^^^^^^^^^^^\n",
      "TypeError: AutoArimaEstimator.predict() missing 1 required positional argument: 'n_periods'\n",
      "\n",
      "  warnings.warn(\n"
     ]
    },
    {
     "name": "stdout",
     "output_type": "stream",
     "text": [
      " ARIMA(2,0,2)(1,0,1)[12] intercept   : AIC=497.617, Time=2.63 sec\n",
      " ARIMA(0,0,0)(0,0,0)[12] intercept   : AIC=851.724, Time=0.07 sec\n",
      " ARIMA(1,0,0)(1,0,0)[12] intercept   : AIC=683.102, Time=0.65 sec\n",
      " ARIMA(0,0,1)(0,0,1)[12] intercept   : AIC=inf, Time=1.29 sec\n",
      " ARIMA(0,0,0)(0,0,0)[12]             : AIC=2194.434, Time=0.01 sec\n",
      " ARIMA(2,0,2)(0,0,1)[12] intercept   : AIC=472.681, Time=2.08 sec\n",
      " ARIMA(2,0,2)(0,0,0)[12] intercept   : AIC=474.463, Time=0.78 sec\n",
      " ARIMA(2,0,2)(0,0,2)[12] intercept   : AIC=469.797, Time=4.46 sec\n",
      " ARIMA(2,0,2)(1,0,2)[12] intercept   : AIC=655.437, Time=5.28 sec\n",
      " ARIMA(1,0,2)(0,0,2)[12] intercept   : AIC=inf, Time=3.80 sec\n",
      " ARIMA(2,0,1)(0,0,2)[12] intercept   : AIC=497.685, Time=2.88 sec\n",
      " ARIMA(3,0,2)(0,0,2)[12] intercept   : AIC=490.595, Time=5.67 sec\n",
      " ARIMA(2,0,3)(0,0,2)[12] intercept   : AIC=466.739, Time=4.13 sec\n",
      " ARIMA(2,0,3)(0,0,1)[12] intercept   : AIC=466.941, Time=2.03 sec\n",
      " ARIMA(2,0,3)(1,0,2)[12] intercept   : AIC=489.683, Time=9.54 sec\n",
      " ARIMA(2,0,3)(1,0,1)[12] intercept   : AIC=inf, Time=nan sec\n",
      " ARIMA(1,0,3)(0,0,2)[12] intercept   : AIC=inf, Time=4.55 sec\n",
      " ARIMA(3,0,3)(0,0,2)[12] intercept   : AIC=inf, Time=5.24 sec\n",
      " ARIMA(2,0,4)(0,0,2)[12] intercept   : AIC=467.617, Time=5.61 sec\n",
      " ARIMA(1,0,4)(0,0,2)[12] intercept   : AIC=inf, Time=4.71 sec\n",
      " ARIMA(3,0,4)(0,0,2)[12] intercept   : AIC=470.916, Time=5.61 sec\n",
      " ARIMA(2,0,3)(0,0,2)[12]             : AIC=inf, Time=3.78 sec\n",
      "\n",
      "Best model:  ARIMA(2,0,3)(0,0,2)[12] intercept\n",
      "Total fit time: 80.228 seconds\n",
      "Performing stepwise search to minimize aic\n"
     ]
    },
    {
     "name": "stderr",
     "output_type": "stream",
     "text": [
      "c:\\Users\\MinhDH\\AppData\\Local\\Programs\\Python\\Python312\\Lib\\site-packages\\sklearn\\model_selection\\_validation.py:993: UserWarning: Scoring failed. The score on this train-test partition for these parameters will be set to nan. Details: \n",
      "Traceback (most recent call last):\n",
      "  File \"c:\\Users\\MinhDH\\AppData\\Local\\Programs\\Python\\Python312\\Lib\\site-packages\\sklearn\\model_selection\\_validation.py\", line 982, in _score\n",
      "    scores = scorer(estimator, X_test, y_test, **score_params)\n",
      "             ^^^^^^^^^^^^^^^^^^^^^^^^^^^^^^^^^^^^^^^^^^^^^^^^^\n",
      "  File \"c:\\Users\\MinhDH\\AppData\\Local\\Programs\\Python\\Python312\\Lib\\site-packages\\sklearn\\metrics\\_scorer.py\", line 253, in __call__\n",
      "    return self._score(partial(_cached_call, None), estimator, X, y_true, **_kwargs)\n",
      "           ^^^^^^^^^^^^^^^^^^^^^^^^^^^^^^^^^^^^^^^^^^^^^^^^^^^^^^^^^^^^^^^^^^^^^^^^^\n",
      "  File \"c:\\Users\\MinhDH\\AppData\\Local\\Programs\\Python\\Python312\\Lib\\site-packages\\sklearn\\metrics\\_scorer.py\", line 345, in _score\n",
      "    y_pred = method_caller(\n",
      "             ^^^^^^^^^^^^^^\n",
      "  File \"c:\\Users\\MinhDH\\AppData\\Local\\Programs\\Python\\Python312\\Lib\\site-packages\\sklearn\\metrics\\_scorer.py\", line 87, in _cached_call\n",
      "    result, _ = _get_response_values(\n",
      "                ^^^^^^^^^^^^^^^^^^^^^\n",
      "  File \"c:\\Users\\MinhDH\\AppData\\Local\\Programs\\Python\\Python312\\Lib\\site-packages\\sklearn\\utils\\_response.py\", line 238, in _get_response_values\n",
      "    y_pred, pos_label = prediction_method(X), None\n",
      "                        ^^^^^^^^^^^^^^^^^^^^\n",
      "TypeError: AutoArimaEstimator.predict() missing 1 required positional argument: 'n_periods'\n",
      "\n",
      "  warnings.warn(\n"
     ]
    },
    {
     "name": "stdout",
     "output_type": "stream",
     "text": [
      " ARIMA(2,0,2)(1,0,1)[12] intercept   : AIC=inf, Time=2.41 sec\n",
      " ARIMA(0,0,0)(0,0,0)[12] intercept   : AIC=851.724, Time=0.06 sec\n",
      " ARIMA(1,0,0)(1,0,0)[12] intercept   : AIC=673.466, Time=0.69 sec\n",
      " ARIMA(0,0,1)(0,0,1)[12] intercept   : AIC=inf, Time=0.76 sec\n",
      " ARIMA(0,0,0)(0,0,0)[12]             : AIC=2194.434, Time=0.01 sec\n",
      " ARIMA(1,0,0)(0,0,0)[12] intercept   : AIC=683.995, Time=0.03 sec\n",
      " ARIMA(1,0,0)(2,0,0)[12] intercept   : AIC=675.363, Time=2.61 sec\n",
      " ARIMA(1,0,0)(1,0,1)[12] intercept   : AIC=686.856, Time=1.06 sec\n",
      " ARIMA(1,0,0)(0,0,1)[12] intercept   : AIC=674.105, Time=0.36 sec\n",
      " ARIMA(1,0,0)(2,0,1)[12] intercept   : AIC=676.363, Time=3.16 sec\n",
      " ARIMA(0,0,0)(1,0,0)[12] intercept   : AIC=848.977, Time=0.32 sec\n",
      " ARIMA(2,0,0)(1,0,0)[12] intercept   : AIC=611.640, Time=0.83 sec\n",
      " ARIMA(2,0,0)(0,0,0)[12] intercept   : AIC=618.107, Time=0.08 sec\n",
      " ARIMA(2,0,0)(2,0,0)[12] intercept   : AIC=613.435, Time=3.23 sec\n",
      " ARIMA(2,0,0)(1,0,1)[12] intercept   : AIC=618.714, Time=1.38 sec\n",
      " ARIMA(2,0,0)(0,0,1)[12] intercept   : AIC=612.075, Time=0.26 sec\n",
      " ARIMA(2,0,0)(2,0,1)[12] intercept   : AIC=614.905, Time=2.87 sec\n",
      " ARIMA(3,0,0)(1,0,0)[12] intercept   : AIC=571.313, Time=1.52 sec\n",
      " ARIMA(3,0,0)(0,0,0)[12] intercept   : AIC=578.201, Time=0.17 sec\n",
      " ARIMA(3,0,0)(2,0,0)[12] intercept   : AIC=572.643, Time=4.59 sec\n",
      " ARIMA(3,0,0)(1,0,1)[12] intercept   : AIC=574.506, Time=1.84 sec\n",
      " ARIMA(3,0,0)(0,0,1)[12] intercept   : AIC=571.995, Time=0.38 sec\n",
      " ARIMA(3,0,0)(2,0,1)[12] intercept   : AIC=575.165, Time=4.71 sec\n",
      " ARIMA(4,0,0)(1,0,0)[12] intercept   : AIC=inf, Time=1.33 sec\n",
      " ARIMA(3,0,1)(1,0,0)[12] intercept   : AIC=595.396, Time=1.85 sec\n",
      " ARIMA(2,0,1)(1,0,0)[12] intercept   : AIC=655.369, Time=1.40 sec\n",
      " ARIMA(4,0,1)(1,0,0)[12] intercept   : AIC=568.523, Time=2.03 sec\n",
      " ARIMA(4,0,1)(0,0,0)[12] intercept   : AIC=530.002, Time=0.72 sec\n",
      " ARIMA(4,0,1)(0,0,1)[12] intercept   : AIC=485.650, Time=2.01 sec\n",
      " ARIMA(4,0,1)(1,0,1)[12] intercept   : AIC=576.086, Time=1.98 sec\n",
      " ARIMA(4,0,1)(0,0,2)[12] intercept   : AIC=520.229, Time=3.48 sec\n",
      " ARIMA(4,0,1)(1,0,2)[12] intercept   : AIC=573.726, Time=4.45 sec\n",
      " ARIMA(3,0,1)(0,0,1)[12] intercept   : AIC=491.665, Time=1.70 sec\n",
      " ARIMA(4,0,0)(0,0,1)[12] intercept   : AIC=553.268, Time=0.94 sec\n",
      " ARIMA(5,0,1)(0,0,1)[12] intercept   : AIC=526.673, Time=1.62 sec\n",
      " ARIMA(4,0,2)(0,0,1)[12] intercept   : AIC=inf, Time=2.03 sec\n",
      " ARIMA(3,0,2)(0,0,1)[12] intercept   : AIC=480.484, Time=2.69 sec\n",
      " ARIMA(3,0,2)(0,0,0)[12] intercept   : AIC=475.577, Time=3.32 sec\n",
      " ARIMA(3,0,2)(1,0,0)[12] intercept   : AIC=616.116, Time=2.14 sec\n",
      " ARIMA(3,0,2)(1,0,1)[12] intercept   : AIC=683.075, Time=2.24 sec\n",
      " ARIMA(2,0,2)(0,0,0)[12] intercept   : AIC=484.552, Time=0.82 sec\n",
      " ARIMA(3,0,1)(0,0,0)[12] intercept   : AIC=473.401, Time=0.95 sec\n",
      " ARIMA(3,0,1)(1,0,1)[12] intercept   : AIC=623.906, Time=1.86 sec\n",
      " ARIMA(2,0,1)(0,0,0)[12] intercept   : AIC=491.500, Time=0.52 sec\n",
      " ARIMA(4,0,0)(0,0,0)[12] intercept   : AIC=558.325, Time=0.14 sec\n",
      " ARIMA(4,0,2)(0,0,0)[12] intercept   : AIC=inf, Time=0.93 sec\n",
      " ARIMA(3,0,1)(0,0,0)[12]             : AIC=inf, Time=0.55 sec\n",
      "\n",
      "Best model:  ARIMA(3,0,1)(0,0,0)[12] intercept\n",
      "Total fit time: 75.049 seconds\n",
      "Performing stepwise search to minimize aic\n"
     ]
    },
    {
     "name": "stderr",
     "output_type": "stream",
     "text": [
      "c:\\Users\\MinhDH\\AppData\\Local\\Programs\\Python\\Python312\\Lib\\site-packages\\sklearn\\model_selection\\_validation.py:993: UserWarning: Scoring failed. The score on this train-test partition for these parameters will be set to nan. Details: \n",
      "Traceback (most recent call last):\n",
      "  File \"c:\\Users\\MinhDH\\AppData\\Local\\Programs\\Python\\Python312\\Lib\\site-packages\\sklearn\\model_selection\\_validation.py\", line 982, in _score\n",
      "    scores = scorer(estimator, X_test, y_test, **score_params)\n",
      "             ^^^^^^^^^^^^^^^^^^^^^^^^^^^^^^^^^^^^^^^^^^^^^^^^^\n",
      "  File \"c:\\Users\\MinhDH\\AppData\\Local\\Programs\\Python\\Python312\\Lib\\site-packages\\sklearn\\metrics\\_scorer.py\", line 253, in __call__\n",
      "    return self._score(partial(_cached_call, None), estimator, X, y_true, **_kwargs)\n",
      "           ^^^^^^^^^^^^^^^^^^^^^^^^^^^^^^^^^^^^^^^^^^^^^^^^^^^^^^^^^^^^^^^^^^^^^^^^^\n",
      "  File \"c:\\Users\\MinhDH\\AppData\\Local\\Programs\\Python\\Python312\\Lib\\site-packages\\sklearn\\metrics\\_scorer.py\", line 345, in _score\n",
      "    y_pred = method_caller(\n",
      "             ^^^^^^^^^^^^^^\n",
      "  File \"c:\\Users\\MinhDH\\AppData\\Local\\Programs\\Python\\Python312\\Lib\\site-packages\\sklearn\\metrics\\_scorer.py\", line 87, in _cached_call\n",
      "    result, _ = _get_response_values(\n",
      "                ^^^^^^^^^^^^^^^^^^^^^\n",
      "  File \"c:\\Users\\MinhDH\\AppData\\Local\\Programs\\Python\\Python312\\Lib\\site-packages\\sklearn\\utils\\_response.py\", line 238, in _get_response_values\n",
      "    y_pred, pos_label = prediction_method(X), None\n",
      "                        ^^^^^^^^^^^^^^^^^^^^\n",
      "TypeError: AutoArimaEstimator.predict() missing 1 required positional argument: 'n_periods'\n",
      "\n",
      "  warnings.warn(\n"
     ]
    },
    {
     "name": "stdout",
     "output_type": "stream",
     "text": [
      " ARIMA(2,0,2)(1,0,1)[12] intercept   : AIC=inf, Time=1.92 sec\n",
      " ARIMA(0,0,0)(0,0,0)[12] intercept   : AIC=851.724, Time=0.04 sec\n",
      " ARIMA(1,0,0)(1,0,0)[12] intercept   : AIC=683.295, Time=0.68 sec\n",
      " ARIMA(0,0,1)(0,0,1)[12] intercept   : AIC=inf, Time=1.27 sec\n",
      " ARIMA(0,0,0)(0,0,0)[12]             : AIC=2194.434, Time=0.01 sec\n",
      " ARIMA(1,0,0)(0,0,0)[12] intercept   : AIC=689.313, Time=0.03 sec\n",
      " ARIMA(1,0,0)(2,0,0)[12] intercept   : AIC=680.728, Time=1.60 sec\n",
      " ARIMA(1,0,0)(2,0,1)[12] intercept   : AIC=686.754, Time=2.03 sec\n",
      " ARIMA(1,0,0)(1,0,1)[12] intercept   : AIC=687.756, Time=1.13 sec\n",
      " ARIMA(0,0,0)(2,0,0)[12] intercept   : AIC=851.915, Time=0.99 sec\n",
      " ARIMA(2,0,0)(2,0,0)[12] intercept   : AIC=617.089, Time=3.35 sec\n",
      " ARIMA(2,0,0)(1,0,0)[12] intercept   : AIC=618.054, Time=1.00 sec\n",
      " ARIMA(2,0,0)(2,0,1)[12] intercept   : AIC=621.687, Time=3.00 sec\n",
      " ARIMA(2,0,0)(1,0,1)[12] intercept   : AIC=620.719, Time=1.21 sec\n",
      " ARIMA(3,0,0)(2,0,0)[12] intercept   : AIC=586.377, Time=5.80 sec\n",
      " ARIMA(3,0,0)(1,0,0)[12] intercept   : AIC=587.033, Time=2.03 sec\n",
      " ARIMA(3,0,0)(2,0,1)[12] intercept   : AIC=590.596, Time=3.80 sec\n",
      " ARIMA(3,0,0)(1,0,1)[12] intercept   : AIC=587.748, Time=1.82 sec\n",
      " ARIMA(4,0,0)(2,0,0)[12] intercept   : AIC=564.013, Time=5.09 sec\n",
      " ARIMA(4,0,0)(1,0,0)[12] intercept   : AIC=564.680, Time=1.68 sec\n",
      " ARIMA(4,0,0)(2,0,1)[12] intercept   : AIC=567.449, Time=4.30 sec\n",
      " ARIMA(4,0,0)(1,0,1)[12] intercept   : AIC=564.900, Time=1.99 sec\n",
      " ARIMA(5,0,0)(2,0,0)[12] intercept   : AIC=545.989, Time=7.15 sec\n",
      " ARIMA(5,0,0)(1,0,0)[12] intercept   : AIC=547.693, Time=2.41 sec\n",
      " ARIMA(5,0,0)(2,0,1)[12] intercept   : AIC=550.009, Time=5.17 sec\n",
      " ARIMA(5,0,0)(1,0,1)[12] intercept   : AIC=554.932, Time=2.43 sec\n",
      " ARIMA(5,0,1)(2,0,0)[12] intercept   : AIC=570.384, Time=6.34 sec\n",
      " ARIMA(4,0,1)(2,0,0)[12] intercept   : AIC=597.750, Time=5.13 sec\n",
      " ARIMA(5,0,0)(2,0,0)[12]             : AIC=inf, Time=0.99 sec\n",
      "\n",
      "Best model:  ARIMA(5,0,0)(2,0,0)[12] intercept\n",
      "Total fit time: 74.385 seconds\n",
      "Performing stepwise search to minimize aic\n"
     ]
    },
    {
     "name": "stderr",
     "output_type": "stream",
     "text": [
      "c:\\Users\\MinhDH\\AppData\\Local\\Programs\\Python\\Python312\\Lib\\site-packages\\sklearn\\model_selection\\_validation.py:993: UserWarning: Scoring failed. The score on this train-test partition for these parameters will be set to nan. Details: \n",
      "Traceback (most recent call last):\n",
      "  File \"c:\\Users\\MinhDH\\AppData\\Local\\Programs\\Python\\Python312\\Lib\\site-packages\\sklearn\\model_selection\\_validation.py\", line 982, in _score\n",
      "    scores = scorer(estimator, X_test, y_test, **score_params)\n",
      "             ^^^^^^^^^^^^^^^^^^^^^^^^^^^^^^^^^^^^^^^^^^^^^^^^^\n",
      "  File \"c:\\Users\\MinhDH\\AppData\\Local\\Programs\\Python\\Python312\\Lib\\site-packages\\sklearn\\metrics\\_scorer.py\", line 253, in __call__\n",
      "    return self._score(partial(_cached_call, None), estimator, X, y_true, **_kwargs)\n",
      "           ^^^^^^^^^^^^^^^^^^^^^^^^^^^^^^^^^^^^^^^^^^^^^^^^^^^^^^^^^^^^^^^^^^^^^^^^^\n",
      "  File \"c:\\Users\\MinhDH\\AppData\\Local\\Programs\\Python\\Python312\\Lib\\site-packages\\sklearn\\metrics\\_scorer.py\", line 345, in _score\n",
      "    y_pred = method_caller(\n",
      "             ^^^^^^^^^^^^^^\n",
      "  File \"c:\\Users\\MinhDH\\AppData\\Local\\Programs\\Python\\Python312\\Lib\\site-packages\\sklearn\\metrics\\_scorer.py\", line 87, in _cached_call\n",
      "    result, _ = _get_response_values(\n",
      "                ^^^^^^^^^^^^^^^^^^^^^\n",
      "  File \"c:\\Users\\MinhDH\\AppData\\Local\\Programs\\Python\\Python312\\Lib\\site-packages\\sklearn\\utils\\_response.py\", line 238, in _get_response_values\n",
      "    y_pred, pos_label = prediction_method(X), None\n",
      "                        ^^^^^^^^^^^^^^^^^^^^\n",
      "TypeError: AutoArimaEstimator.predict() missing 1 required positional argument: 'n_periods'\n",
      "\n",
      "  warnings.warn(\n",
      "c:\\Users\\MinhDH\\AppData\\Local\\Programs\\Python\\Python312\\Lib\\site-packages\\sklearn\\model_selection\\_search.py:1051: UserWarning: One or more of the test scores are non-finite: [nan]\n",
      "  warnings.warn(\n"
     ]
    },
    {
     "name": "stdout",
     "output_type": "stream",
     "text": [
      " ARIMA(2,0,2)(1,0,1)[12] intercept   : AIC=inf, Time=2.43 sec\n",
      " ARIMA(0,0,0)(0,0,0)[12] intercept   : AIC=1063.655, Time=0.05 sec\n",
      " ARIMA(1,0,0)(1,0,0)[12] intercept   : AIC=845.718, Time=0.71 sec\n",
      " ARIMA(0,0,1)(0,0,1)[12] intercept   : AIC=inf, Time=1.53 sec\n",
      " ARIMA(0,0,0)(0,0,0)[12]             : AIC=2742.542, Time=0.01 sec\n",
      " ARIMA(1,0,0)(0,0,0)[12] intercept   : AIC=852.581, Time=0.04 sec\n",
      " ARIMA(1,0,0)(2,0,0)[12] intercept   : AIC=847.687, Time=2.57 sec\n",
      " ARIMA(1,0,0)(1,0,1)[12] intercept   : AIC=855.058, Time=1.09 sec\n",
      " ARIMA(1,0,0)(0,0,1)[12] intercept   : AIC=845.884, Time=0.28 sec\n",
      " ARIMA(1,0,0)(2,0,1)[12] intercept   : AIC=inf, Time=3.70 sec\n",
      " ARIMA(0,0,0)(1,0,0)[12] intercept   : AIC=1062.702, Time=0.43 sec\n",
      " ARIMA(2,0,0)(1,0,0)[12] intercept   : AIC=766.448, Time=1.58 sec\n",
      " ARIMA(2,0,0)(0,0,0)[12] intercept   : AIC=770.158, Time=0.08 sec\n",
      " ARIMA(2,0,0)(2,0,0)[12] intercept   : AIC=768.430, Time=3.85 sec\n",
      " ARIMA(2,0,0)(1,0,1)[12] intercept   : AIC=772.062, Time=1.67 sec\n",
      " ARIMA(2,0,0)(0,0,1)[12] intercept   : AIC=766.518, Time=0.52 sec\n",
      " ARIMA(2,0,0)(2,0,1)[12] intercept   : AIC=770.233, Time=4.96 sec\n",
      " ARIMA(3,0,0)(1,0,0)[12] intercept   : AIC=724.234, Time=2.38 sec\n",
      " ARIMA(3,0,0)(0,0,0)[12] intercept   : AIC=726.847, Time=0.15 sec\n",
      " ARIMA(3,0,0)(2,0,0)[12] intercept   : AIC=726.074, Time=5.01 sec\n",
      " ARIMA(3,0,0)(1,0,1)[12] intercept   : AIC=728.570, Time=2.05 sec\n",
      " ARIMA(3,0,0)(0,0,1)[12] intercept   : AIC=724.368, Time=0.68 sec\n",
      " ARIMA(3,0,0)(2,0,1)[12] intercept   : AIC=730.403, Time=4.71 sec\n",
      " ARIMA(4,0,0)(1,0,0)[12] intercept   : AIC=697.270, Time=2.21 sec\n",
      " ARIMA(4,0,0)(0,0,0)[12] intercept   : AIC=699.340, Time=0.17 sec\n",
      " ARIMA(4,0,0)(2,0,0)[12] intercept   : AIC=inf, Time=4.97 sec\n",
      " ARIMA(4,0,0)(1,0,1)[12] intercept   : AIC=699.078, Time=2.09 sec\n",
      " ARIMA(4,0,0)(0,0,1)[12] intercept   : AIC=697.350, Time=1.73 sec\n",
      " ARIMA(4,0,0)(2,0,1)[12] intercept   : AIC=701.256, Time=5.24 sec\n",
      " ARIMA(5,0,0)(1,0,0)[12] intercept   : AIC=684.660, Time=3.18 sec\n",
      " ARIMA(5,0,0)(0,0,0)[12] intercept   : AIC=684.172, Time=0.39 sec\n",
      " ARIMA(5,0,0)(0,0,1)[12] intercept   : AIC=681.867, Time=0.63 sec\n",
      " ARIMA(5,0,0)(1,0,1)[12] intercept   : AIC=758.959, Time=3.00 sec\n",
      " ARIMA(5,0,0)(0,0,2)[12] intercept   : AIC=683.726, Time=1.97 sec\n",
      " ARIMA(5,0,0)(1,0,2)[12] intercept   : AIC=inf, Time=5.38 sec\n",
      " ARIMA(5,0,1)(0,0,1)[12] intercept   : AIC=671.287, Time=1.86 sec\n",
      " ARIMA(5,0,1)(0,0,0)[12] intercept   : AIC=670.423, Time=1.07 sec\n",
      " ARIMA(5,0,1)(1,0,0)[12] intercept   : AIC=701.435, Time=3.56 sec\n",
      " ARIMA(5,0,1)(1,0,1)[12] intercept   : AIC=706.226, Time=3.39 sec\n",
      " ARIMA(4,0,1)(0,0,0)[12] intercept   : AIC=652.993, Time=0.89 sec\n",
      " ARIMA(4,0,1)(1,0,0)[12] intercept   : AIC=719.599, Time=2.43 sec\n",
      " ARIMA(4,0,1)(0,0,1)[12] intercept   : AIC=629.674, Time=1.89 sec\n",
      " ARIMA(4,0,1)(1,0,1)[12] intercept   : AIC=725.943, Time=2.33 sec\n",
      " ARIMA(4,0,1)(0,0,2)[12] intercept   : AIC=634.718, Time=4.60 sec\n",
      " ARIMA(4,0,1)(1,0,2)[12] intercept   : AIC=inf, Time=4.57 sec\n",
      " ARIMA(3,0,1)(0,0,1)[12] intercept   : AIC=600.402, Time=2.49 sec\n",
      " ARIMA(3,0,1)(0,0,0)[12] intercept   : AIC=620.942, Time=0.96 sec\n",
      " ARIMA(3,0,1)(1,0,1)[12] intercept   : AIC=777.055, Time=2.27 sec\n",
      " ARIMA(3,0,1)(0,0,2)[12] intercept   : AIC=612.045, Time=3.71 sec\n",
      " ARIMA(3,0,1)(1,0,0)[12] intercept   : AIC=770.398, Time=2.09 sec\n",
      " ARIMA(3,0,1)(1,0,2)[12] intercept   : AIC=inf, Time=4.41 sec\n",
      " ARIMA(2,0,1)(0,0,1)[12] intercept   : AIC=587.678, Time=1.95 sec\n",
      " ARIMA(2,0,1)(0,0,0)[12] intercept   : AIC=589.725, Time=0.96 sec\n",
      " ARIMA(2,0,1)(1,0,1)[12] intercept   : AIC=743.124, Time=2.02 sec\n",
      " ARIMA(2,0,1)(0,0,2)[12] intercept   : AIC=591.953, Time=4.84 sec\n",
      " ARIMA(2,0,1)(1,0,0)[12] intercept   : AIC=791.607, Time=1.71 sec\n",
      " ARIMA(2,0,1)(1,0,2)[12] intercept   : AIC=inf, Time=4.01 sec\n",
      " ARIMA(1,0,1)(0,0,1)[12] intercept   : AIC=583.933, Time=2.32 sec\n",
      " ARIMA(1,0,1)(0,0,0)[12] intercept   : AIC=583.718, Time=0.63 sec\n",
      " ARIMA(1,0,1)(1,0,0)[12] intercept   : AIC=988.676, Time=0.93 sec\n",
      " ARIMA(1,0,1)(1,0,1)[12] intercept   : AIC=617.581, Time=2.40 sec\n",
      " ARIMA(0,0,1)(0,0,0)[12] intercept   : AIC=inf, Time=0.45 sec\n",
      " ARIMA(1,0,2)(0,0,0)[12] intercept   : AIC=inf, Time=0.67 sec\n",
      " ARIMA(0,0,2)(0,0,0)[12] intercept   : AIC=inf, Time=0.62 sec\n",
      " ARIMA(2,0,2)(0,0,0)[12] intercept   : AIC=579.116, Time=1.06 sec\n",
      " ARIMA(2,0,2)(1,0,0)[12] intercept   : AIC=639.598, Time=2.25 sec\n",
      " ARIMA(2,0,2)(0,0,1)[12] intercept   : AIC=592.115, Time=2.25 sec\n",
      " ARIMA(3,0,2)(0,0,0)[12] intercept   : AIC=580.104, Time=2.11 sec\n",
      " ARIMA(2,0,3)(0,0,0)[12] intercept   : AIC=576.405, Time=1.65 sec\n",
      " ARIMA(2,0,3)(1,0,0)[12] intercept   : AIC=648.792, Time=3.06 sec\n",
      " ARIMA(2,0,3)(0,0,1)[12] intercept   : AIC=576.237, Time=2.09 sec\n",
      " ARIMA(2,0,3)(1,0,1)[12] intercept   : AIC=612.177, Time=3.48 sec\n",
      " ARIMA(2,0,3)(0,0,2)[12] intercept   : AIC=582.386, Time=4.75 sec\n",
      " ARIMA(2,0,3)(1,0,2)[12] intercept   : AIC=inf, Time=5.99 sec\n",
      " ARIMA(1,0,3)(0,0,1)[12] intercept   : AIC=inf, Time=2.33 sec\n",
      " ARIMA(3,0,3)(0,0,1)[12] intercept   : AIC=inf, Time=3.65 sec\n",
      " ARIMA(2,0,4)(0,0,1)[12] intercept   : AIC=578.659, Time=3.81 sec\n",
      " ARIMA(1,0,2)(0,0,1)[12] intercept   : AIC=inf, Time=1.94 sec\n",
      " ARIMA(1,0,4)(0,0,1)[12] intercept   : AIC=inf, Time=3.73 sec\n",
      " ARIMA(3,0,2)(0,0,1)[12] intercept   : AIC=594.275, Time=3.09 sec\n",
      " ARIMA(3,0,4)(0,0,1)[12] intercept   : AIC=586.091, Time=3.13 sec\n",
      " ARIMA(2,0,3)(0,0,1)[12]             : AIC=inf, Time=1.63 sec\n",
      "\n",
      "Best model:  ARIMA(2,0,3)(0,0,1)[12] intercept\n",
      "Total fit time: 189.529 seconds\n",
      "Performing stepwise search to minimize aic\n",
      " ARIMA(2,1,2)(1,0,1)[12] intercept   : AIC=inf, Time=1.72 sec\n",
      " ARIMA(0,1,0)(0,0,0)[12] intercept   : AIC=6015.900, Time=0.01 sec\n",
      " ARIMA(1,1,0)(1,0,0)[12] intercept   : AIC=5803.112, Time=0.34 sec\n",
      " ARIMA(0,1,1)(0,0,1)[12] intercept   : AIC=5710.566, Time=0.26 sec\n",
      " ARIMA(0,1,0)(0,0,0)[12]             : AIC=6013.903, Time=0.01 sec\n",
      " ARIMA(0,1,1)(0,0,0)[12] intercept   : AIC=5710.585, Time=0.06 sec\n",
      " ARIMA(0,1,1)(1,0,1)[12] intercept   : AIC=5708.331, Time=0.63 sec\n",
      " ARIMA(0,1,1)(1,0,0)[12] intercept   : AIC=5710.780, Time=0.27 sec\n",
      " ARIMA(0,1,1)(2,0,1)[12] intercept   : AIC=5709.683, Time=1.28 sec\n",
      " ARIMA(0,1,1)(1,0,2)[12] intercept   : AIC=5709.793, Time=1.33 sec\n",
      " ARIMA(0,1,1)(0,0,2)[12] intercept   : AIC=5710.326, Time=0.78 sec\n",
      " ARIMA(0,1,1)(2,0,0)[12] intercept   : AIC=5711.312, Time=0.72 sec\n",
      " ARIMA(0,1,1)(2,0,2)[12] intercept   : AIC=inf, Time=2.85 sec\n",
      " ARIMA(0,1,0)(1,0,1)[12] intercept   : AIC=6016.949, Time=0.43 sec\n",
      " ARIMA(1,1,1)(1,0,1)[12] intercept   : AIC=5709.177, Time=0.87 sec\n",
      " ARIMA(0,1,2)(1,0,1)[12] intercept   : AIC=5709.619, Time=0.62 sec\n",
      " ARIMA(1,1,0)(1,0,1)[12] intercept   : AIC=5801.544, Time=0.47 sec\n",
      " ARIMA(1,1,2)(1,0,1)[12] intercept   : AIC=5711.994, Time=0.78 sec\n",
      " ARIMA(0,1,1)(1,0,1)[12]             : AIC=5707.300, Time=0.36 sec\n",
      " ARIMA(0,1,1)(0,0,1)[12]             : AIC=5709.136, Time=0.11 sec\n",
      " ARIMA(0,1,1)(1,0,0)[12]             : AIC=5709.333, Time=0.12 sec\n",
      " ARIMA(0,1,1)(2,0,1)[12]             : AIC=5708.672, Time=0.68 sec\n",
      " ARIMA(0,1,1)(1,0,2)[12]             : AIC=5708.777, Time=0.63 sec\n",
      " ARIMA(0,1,1)(0,0,0)[12]             : AIC=5709.061, Time=0.03 sec\n",
      " ARIMA(0,1,1)(0,0,2)[12]             : AIC=5709.058, Time=0.40 sec\n",
      " ARIMA(0,1,1)(2,0,0)[12]             : AIC=5709.951, Time=0.31 sec\n",
      " ARIMA(0,1,1)(2,0,2)[12]             : AIC=inf, Time=1.89 sec\n",
      " ARIMA(0,1,0)(1,0,1)[12]             : AIC=6014.954, Time=0.19 sec\n",
      " ARIMA(1,1,1)(1,0,1)[12]             : AIC=5708.625, Time=0.45 sec\n",
      " ARIMA(0,1,2)(1,0,1)[12]             : AIC=5708.875, Time=0.38 sec\n",
      " ARIMA(1,1,0)(1,0,1)[12]             : AIC=5799.560, Time=0.24 sec\n",
      " ARIMA(1,1,2)(1,0,1)[12]             : AIC=5710.832, Time=0.38 sec\n",
      "\n",
      "Best model:  ARIMA(0,1,1)(1,0,1)[12]          \n",
      "Total fit time: 19.626 seconds\n",
      "Performing stepwise search to minimize aic\n"
     ]
    },
    {
     "name": "stderr",
     "output_type": "stream",
     "text": [
      "c:\\Users\\MinhDH\\AppData\\Local\\Programs\\Python\\Python312\\Lib\\site-packages\\sklearn\\model_selection\\_validation.py:993: UserWarning: Scoring failed. The score on this train-test partition for these parameters will be set to nan. Details: \n",
      "Traceback (most recent call last):\n",
      "  File \"c:\\Users\\MinhDH\\AppData\\Local\\Programs\\Python\\Python312\\Lib\\site-packages\\sklearn\\model_selection\\_validation.py\", line 982, in _score\n",
      "    scores = scorer(estimator, X_test, y_test, **score_params)\n",
      "             ^^^^^^^^^^^^^^^^^^^^^^^^^^^^^^^^^^^^^^^^^^^^^^^^^\n",
      "  File \"c:\\Users\\MinhDH\\AppData\\Local\\Programs\\Python\\Python312\\Lib\\site-packages\\sklearn\\metrics\\_scorer.py\", line 253, in __call__\n",
      "    return self._score(partial(_cached_call, None), estimator, X, y_true, **_kwargs)\n",
      "           ^^^^^^^^^^^^^^^^^^^^^^^^^^^^^^^^^^^^^^^^^^^^^^^^^^^^^^^^^^^^^^^^^^^^^^^^^\n",
      "  File \"c:\\Users\\MinhDH\\AppData\\Local\\Programs\\Python\\Python312\\Lib\\site-packages\\sklearn\\metrics\\_scorer.py\", line 345, in _score\n",
      "    y_pred = method_caller(\n",
      "             ^^^^^^^^^^^^^^\n",
      "  File \"c:\\Users\\MinhDH\\AppData\\Local\\Programs\\Python\\Python312\\Lib\\site-packages\\sklearn\\metrics\\_scorer.py\", line 87, in _cached_call\n",
      "    result, _ = _get_response_values(\n",
      "                ^^^^^^^^^^^^^^^^^^^^^\n",
      "  File \"c:\\Users\\MinhDH\\AppData\\Local\\Programs\\Python\\Python312\\Lib\\site-packages\\sklearn\\utils\\_response.py\", line 238, in _get_response_values\n",
      "    y_pred, pos_label = prediction_method(X), None\n",
      "                        ^^^^^^^^^^^^^^^^^^^^\n",
      "TypeError: AutoArimaEstimator.predict() missing 1 required positional argument: 'n_periods'\n",
      "\n",
      "  warnings.warn(\n"
     ]
    },
    {
     "name": "stdout",
     "output_type": "stream",
     "text": [
      " ARIMA(2,1,2)(1,0,1)[12] intercept   : AIC=5782.855, Time=1.75 sec\n",
      " ARIMA(0,1,0)(0,0,0)[12] intercept   : AIC=6066.875, Time=0.01 sec\n",
      " ARIMA(1,1,0)(1,0,0)[12] intercept   : AIC=5885.293, Time=0.27 sec\n",
      " ARIMA(0,1,1)(0,0,1)[12] intercept   : AIC=5812.973, Time=0.28 sec\n",
      " ARIMA(0,1,0)(0,0,0)[12]             : AIC=6064.895, Time=0.01 sec\n",
      " ARIMA(2,1,2)(0,0,1)[12] intercept   : AIC=5780.857, Time=0.97 sec\n",
      " ARIMA(2,1,2)(0,0,0)[12] intercept   : AIC=5782.097, Time=0.39 sec\n",
      " ARIMA(2,1,2)(0,0,2)[12] intercept   : AIC=5782.853, Time=2.58 sec\n",
      " ARIMA(2,1,2)(1,0,0)[12] intercept   : AIC=5780.905, Time=1.12 sec\n",
      " ARIMA(2,1,2)(1,0,2)[12] intercept   : AIC=inf, Time=3.57 sec\n",
      " ARIMA(1,1,2)(0,0,1)[12] intercept   : AIC=5816.972, Time=0.53 sec\n",
      " ARIMA(2,1,1)(0,0,1)[12] intercept   : AIC=5780.358, Time=0.72 sec\n",
      " ARIMA(2,1,1)(0,0,0)[12] intercept   : AIC=5782.208, Time=0.28 sec\n",
      " ARIMA(2,1,1)(1,0,1)[12] intercept   : AIC=5782.356, Time=1.94 sec\n",
      " ARIMA(2,1,1)(0,0,2)[12] intercept   : AIC=5782.356, Time=1.84 sec\n",
      " ARIMA(2,1,1)(1,0,0)[12] intercept   : AIC=5780.413, Time=0.67 sec\n",
      " ARIMA(2,1,1)(1,0,2)[12] intercept   : AIC=inf, Time=3.26 sec\n",
      " ARIMA(1,1,1)(0,0,1)[12] intercept   : AIC=5805.602, Time=0.56 sec\n",
      " ARIMA(2,1,0)(0,0,1)[12] intercept   : AIC=5852.208, Time=0.28 sec\n",
      " ARIMA(3,1,1)(0,0,1)[12] intercept   : AIC=5780.297, Time=0.94 sec\n",
      " ARIMA(3,1,1)(0,0,0)[12] intercept   : AIC=5781.405, Time=0.40 sec\n",
      " ARIMA(3,1,1)(1,0,1)[12] intercept   : AIC=5782.293, Time=0.92 sec\n",
      " ARIMA(3,1,1)(0,0,2)[12] intercept   : AIC=5782.289, Time=1.94 sec\n",
      " ARIMA(3,1,1)(1,0,0)[12] intercept   : AIC=5780.350, Time=0.86 sec\n",
      " ARIMA(3,1,1)(1,0,2)[12] intercept   : AIC=inf, Time=3.68 sec\n",
      " ARIMA(3,1,0)(0,0,1)[12] intercept   : AIC=5847.028, Time=0.38 sec\n",
      " ARIMA(4,1,1)(0,0,1)[12] intercept   : AIC=5781.394, Time=1.01 sec\n",
      " ARIMA(3,1,2)(0,0,1)[12] intercept   : AIC=5780.937, Time=0.74 sec\n",
      " ARIMA(4,1,0)(0,0,1)[12] intercept   : AIC=5834.667, Time=0.40 sec\n",
      " ARIMA(4,1,2)(0,0,1)[12] intercept   : AIC=5782.920, Time=1.23 sec\n",
      " ARIMA(3,1,1)(0,0,1)[12]             : AIC=5784.223, Time=0.51 sec\n",
      "\n",
      "Best model:  ARIMA(3,1,1)(0,0,1)[12] intercept\n",
      "Total fit time: 34.043 seconds\n",
      "Performing stepwise search to minimize aic\n"
     ]
    },
    {
     "name": "stderr",
     "output_type": "stream",
     "text": [
      "c:\\Users\\MinhDH\\AppData\\Local\\Programs\\Python\\Python312\\Lib\\site-packages\\sklearn\\model_selection\\_validation.py:993: UserWarning: Scoring failed. The score on this train-test partition for these parameters will be set to nan. Details: \n",
      "Traceback (most recent call last):\n",
      "  File \"c:\\Users\\MinhDH\\AppData\\Local\\Programs\\Python\\Python312\\Lib\\site-packages\\sklearn\\model_selection\\_validation.py\", line 982, in _score\n",
      "    scores = scorer(estimator, X_test, y_test, **score_params)\n",
      "             ^^^^^^^^^^^^^^^^^^^^^^^^^^^^^^^^^^^^^^^^^^^^^^^^^\n",
      "  File \"c:\\Users\\MinhDH\\AppData\\Local\\Programs\\Python\\Python312\\Lib\\site-packages\\sklearn\\metrics\\_scorer.py\", line 253, in __call__\n",
      "    return self._score(partial(_cached_call, None), estimator, X, y_true, **_kwargs)\n",
      "           ^^^^^^^^^^^^^^^^^^^^^^^^^^^^^^^^^^^^^^^^^^^^^^^^^^^^^^^^^^^^^^^^^^^^^^^^^\n",
      "  File \"c:\\Users\\MinhDH\\AppData\\Local\\Programs\\Python\\Python312\\Lib\\site-packages\\sklearn\\metrics\\_scorer.py\", line 345, in _score\n",
      "    y_pred = method_caller(\n",
      "             ^^^^^^^^^^^^^^\n",
      "  File \"c:\\Users\\MinhDH\\AppData\\Local\\Programs\\Python\\Python312\\Lib\\site-packages\\sklearn\\metrics\\_scorer.py\", line 87, in _cached_call\n",
      "    result, _ = _get_response_values(\n",
      "                ^^^^^^^^^^^^^^^^^^^^^\n",
      "  File \"c:\\Users\\MinhDH\\AppData\\Local\\Programs\\Python\\Python312\\Lib\\site-packages\\sklearn\\utils\\_response.py\", line 238, in _get_response_values\n",
      "    y_pred, pos_label = prediction_method(X), None\n",
      "                        ^^^^^^^^^^^^^^^^^^^^\n",
      "TypeError: AutoArimaEstimator.predict() missing 1 required positional argument: 'n_periods'\n",
      "\n",
      "  warnings.warn(\n"
     ]
    },
    {
     "name": "stdout",
     "output_type": "stream",
     "text": [
      " ARIMA(2,1,2)(1,0,1)[12] intercept   : AIC=5742.039, Time=1.56 sec\n",
      " ARIMA(0,1,0)(0,0,0)[12] intercept   : AIC=6017.529, Time=0.01 sec\n",
      " ARIMA(1,1,0)(1,0,0)[12] intercept   : AIC=5836.810, Time=0.27 sec\n",
      " ARIMA(0,1,1)(0,0,1)[12] intercept   : AIC=5770.023, Time=0.26 sec\n",
      " ARIMA(0,1,0)(0,0,0)[12]             : AIC=6015.550, Time=0.09 sec\n",
      " ARIMA(2,1,2)(0,0,1)[12] intercept   : AIC=5740.160, Time=1.07 sec\n",
      " ARIMA(2,1,2)(0,0,0)[12] intercept   : AIC=5741.677, Time=0.46 sec\n",
      " ARIMA(2,1,2)(0,0,2)[12] intercept   : AIC=5742.024, Time=2.52 sec\n",
      " ARIMA(2,1,2)(1,0,0)[12] intercept   : AIC=5740.296, Time=1.07 sec\n",
      " ARIMA(2,1,2)(1,0,2)[12] intercept   : AIC=5743.288, Time=3.57 sec\n",
      " ARIMA(1,1,2)(0,0,1)[12] intercept   : AIC=5773.889, Time=0.51 sec\n",
      " ARIMA(2,1,1)(0,0,1)[12] intercept   : AIC=5740.213, Time=0.70 sec\n",
      " ARIMA(3,1,2)(0,0,1)[12] intercept   : AIC=5739.912, Time=0.71 sec\n",
      " ARIMA(3,1,2)(0,0,0)[12] intercept   : AIC=5741.310, Time=0.39 sec\n",
      " ARIMA(3,1,2)(1,0,1)[12] intercept   : AIC=5741.633, Time=1.18 sec\n",
      " ARIMA(3,1,2)(0,0,2)[12] intercept   : AIC=5741.617, Time=2.15 sec\n",
      " ARIMA(3,1,2)(1,0,0)[12] intercept   : AIC=5740.089, Time=0.77 sec\n",
      " ARIMA(3,1,2)(1,0,2)[12] intercept   : AIC=5742.739, Time=4.14 sec\n",
      " ARIMA(3,1,1)(0,0,1)[12] intercept   : AIC=5739.594, Time=0.90 sec\n",
      " ARIMA(3,1,1)(0,0,0)[12] intercept   : AIC=5740.995, Time=0.36 sec\n",
      " ARIMA(3,1,1)(1,0,1)[12] intercept   : AIC=5741.454, Time=0.94 sec\n",
      " ARIMA(3,1,1)(0,0,2)[12] intercept   : AIC=5741.435, Time=2.32 sec\n",
      " ARIMA(3,1,1)(1,0,0)[12] intercept   : AIC=5739.734, Time=0.84 sec\n",
      " ARIMA(3,1,1)(1,0,2)[12] intercept   : AIC=5742.626, Time=3.30 sec\n",
      " ARIMA(3,1,0)(0,0,1)[12] intercept   : AIC=5800.109, Time=0.32 sec\n",
      " ARIMA(4,1,1)(0,0,1)[12] intercept   : AIC=5740.906, Time=0.98 sec\n",
      " ARIMA(2,1,0)(0,0,1)[12] intercept   : AIC=5804.610, Time=0.31 sec\n",
      " ARIMA(4,1,0)(0,0,1)[12] intercept   : AIC=5785.447, Time=0.41 sec\n",
      " ARIMA(4,1,2)(0,0,1)[12] intercept   : AIC=5741.908, Time=1.18 sec\n",
      " ARIMA(3,1,1)(0,0,1)[12]             : AIC=5742.778, Time=0.48 sec\n",
      "\n",
      "Best model:  ARIMA(3,1,1)(0,0,1)[12] intercept\n",
      "Total fit time: 33.788 seconds\n",
      "Performing stepwise search to minimize aic\n"
     ]
    },
    {
     "name": "stderr",
     "output_type": "stream",
     "text": [
      "c:\\Users\\MinhDH\\AppData\\Local\\Programs\\Python\\Python312\\Lib\\site-packages\\sklearn\\model_selection\\_validation.py:993: UserWarning: Scoring failed. The score on this train-test partition for these parameters will be set to nan. Details: \n",
      "Traceback (most recent call last):\n",
      "  File \"c:\\Users\\MinhDH\\AppData\\Local\\Programs\\Python\\Python312\\Lib\\site-packages\\sklearn\\model_selection\\_validation.py\", line 982, in _score\n",
      "    scores = scorer(estimator, X_test, y_test, **score_params)\n",
      "             ^^^^^^^^^^^^^^^^^^^^^^^^^^^^^^^^^^^^^^^^^^^^^^^^^\n",
      "  File \"c:\\Users\\MinhDH\\AppData\\Local\\Programs\\Python\\Python312\\Lib\\site-packages\\sklearn\\metrics\\_scorer.py\", line 253, in __call__\n",
      "    return self._score(partial(_cached_call, None), estimator, X, y_true, **_kwargs)\n",
      "           ^^^^^^^^^^^^^^^^^^^^^^^^^^^^^^^^^^^^^^^^^^^^^^^^^^^^^^^^^^^^^^^^^^^^^^^^^\n",
      "  File \"c:\\Users\\MinhDH\\AppData\\Local\\Programs\\Python\\Python312\\Lib\\site-packages\\sklearn\\metrics\\_scorer.py\", line 345, in _score\n",
      "    y_pred = method_caller(\n",
      "             ^^^^^^^^^^^^^^\n",
      "  File \"c:\\Users\\MinhDH\\AppData\\Local\\Programs\\Python\\Python312\\Lib\\site-packages\\sklearn\\metrics\\_scorer.py\", line 87, in _cached_call\n",
      "    result, _ = _get_response_values(\n",
      "                ^^^^^^^^^^^^^^^^^^^^^\n",
      "  File \"c:\\Users\\MinhDH\\AppData\\Local\\Programs\\Python\\Python312\\Lib\\site-packages\\sklearn\\utils\\_response.py\", line 238, in _get_response_values\n",
      "    y_pred, pos_label = prediction_method(X), None\n",
      "                        ^^^^^^^^^^^^^^^^^^^^\n",
      "TypeError: AutoArimaEstimator.predict() missing 1 required positional argument: 'n_periods'\n",
      "\n",
      "  warnings.warn(\n"
     ]
    },
    {
     "name": "stdout",
     "output_type": "stream",
     "text": [
      " ARIMA(2,1,2)(1,0,1)[12] intercept   : AIC=5743.343, Time=1.34 sec\n",
      " ARIMA(0,1,0)(0,0,0)[12] intercept   : AIC=6034.569, Time=0.01 sec\n",
      " ARIMA(1,1,0)(1,0,0)[12] intercept   : AIC=5839.237, Time=0.24 sec\n",
      " ARIMA(0,1,1)(0,0,1)[12] intercept   : AIC=5765.507, Time=0.25 sec\n",
      " ARIMA(0,1,0)(0,0,0)[12]             : AIC=6032.590, Time=0.01 sec\n",
      " ARIMA(2,1,2)(0,0,1)[12] intercept   : AIC=5741.353, Time=0.95 sec\n",
      " ARIMA(2,1,2)(0,0,0)[12] intercept   : AIC=5743.036, Time=0.37 sec\n",
      " ARIMA(2,1,2)(0,0,2)[12] intercept   : AIC=5743.333, Time=2.43 sec\n",
      " ARIMA(2,1,2)(1,0,0)[12] intercept   : AIC=5741.361, Time=1.05 sec\n",
      " ARIMA(2,1,2)(1,0,2)[12] intercept   : AIC=inf, Time=3.47 sec\n",
      " ARIMA(1,1,2)(0,0,1)[12] intercept   : AIC=5768.451, Time=0.59 sec\n",
      " ARIMA(2,1,1)(0,0,1)[12] intercept   : AIC=5742.390, Time=0.60 sec\n",
      " ARIMA(3,1,2)(0,0,1)[12] intercept   : AIC=5742.590, Time=1.24 sec\n",
      " ARIMA(2,1,3)(0,0,1)[12] intercept   : AIC=5760.354, Time=1.95 sec\n",
      " ARIMA(1,1,1)(0,0,1)[12] intercept   : AIC=5766.894, Time=0.49 sec\n",
      " ARIMA(1,1,3)(0,0,1)[12] intercept   : AIC=5741.243, Time=1.00 sec\n",
      " ARIMA(1,1,3)(0,0,0)[12] intercept   : AIC=5742.939, Time=0.59 sec\n",
      " ARIMA(1,1,3)(1,0,1)[12] intercept   : AIC=5743.239, Time=1.49 sec\n",
      " ARIMA(1,1,3)(0,0,2)[12] intercept   : AIC=5743.234, Time=2.51 sec\n",
      " ARIMA(1,1,3)(1,0,0)[12] intercept   : AIC=5741.270, Time=0.97 sec\n",
      " ARIMA(1,1,3)(1,0,2)[12] intercept   : AIC=inf, Time=3.80 sec\n",
      " ARIMA(0,1,3)(0,0,1)[12] intercept   : AIC=5748.411, Time=0.57 sec\n",
      " ARIMA(1,1,4)(0,0,1)[12] intercept   : AIC=5743.062, Time=1.56 sec\n",
      " ARIMA(0,1,2)(0,0,1)[12] intercept   : AIC=5767.317, Time=0.39 sec\n",
      " ARIMA(0,1,4)(0,0,1)[12] intercept   : AIC=5744.773, Time=0.79 sec\n",
      " ARIMA(2,1,4)(0,0,1)[12] intercept   : AIC=5745.243, Time=1.20 sec\n",
      " ARIMA(1,1,3)(0,0,1)[12]             : AIC=5742.590, Time=0.51 sec\n",
      "\n",
      "Best model:  ARIMA(1,1,3)(0,0,1)[12] intercept\n",
      "Total fit time: 30.404 seconds\n",
      "Performing stepwise search to minimize aic\n"
     ]
    },
    {
     "name": "stderr",
     "output_type": "stream",
     "text": [
      "c:\\Users\\MinhDH\\AppData\\Local\\Programs\\Python\\Python312\\Lib\\site-packages\\sklearn\\model_selection\\_validation.py:993: UserWarning: Scoring failed. The score on this train-test partition for these parameters will be set to nan. Details: \n",
      "Traceback (most recent call last):\n",
      "  File \"c:\\Users\\MinhDH\\AppData\\Local\\Programs\\Python\\Python312\\Lib\\site-packages\\sklearn\\model_selection\\_validation.py\", line 982, in _score\n",
      "    scores = scorer(estimator, X_test, y_test, **score_params)\n",
      "             ^^^^^^^^^^^^^^^^^^^^^^^^^^^^^^^^^^^^^^^^^^^^^^^^^\n",
      "  File \"c:\\Users\\MinhDH\\AppData\\Local\\Programs\\Python\\Python312\\Lib\\site-packages\\sklearn\\metrics\\_scorer.py\", line 253, in __call__\n",
      "    return self._score(partial(_cached_call, None), estimator, X, y_true, **_kwargs)\n",
      "           ^^^^^^^^^^^^^^^^^^^^^^^^^^^^^^^^^^^^^^^^^^^^^^^^^^^^^^^^^^^^^^^^^^^^^^^^^\n",
      "  File \"c:\\Users\\MinhDH\\AppData\\Local\\Programs\\Python\\Python312\\Lib\\site-packages\\sklearn\\metrics\\_scorer.py\", line 345, in _score\n",
      "    y_pred = method_caller(\n",
      "             ^^^^^^^^^^^^^^\n",
      "  File \"c:\\Users\\MinhDH\\AppData\\Local\\Programs\\Python\\Python312\\Lib\\site-packages\\sklearn\\metrics\\_scorer.py\", line 87, in _cached_call\n",
      "    result, _ = _get_response_values(\n",
      "                ^^^^^^^^^^^^^^^^^^^^^\n",
      "  File \"c:\\Users\\MinhDH\\AppData\\Local\\Programs\\Python\\Python312\\Lib\\site-packages\\sklearn\\utils\\_response.py\", line 238, in _get_response_values\n",
      "    y_pred, pos_label = prediction_method(X), None\n",
      "                        ^^^^^^^^^^^^^^^^^^^^\n",
      "TypeError: AutoArimaEstimator.predict() missing 1 required positional argument: 'n_periods'\n",
      "\n",
      "  warnings.warn(\n"
     ]
    },
    {
     "name": "stdout",
     "output_type": "stream",
     "text": [
      " ARIMA(2,1,2)(1,0,1)[12] intercept   : AIC=inf, Time=1.76 sec\n",
      " ARIMA(0,1,0)(0,0,0)[12] intercept   : AIC=5461.247, Time=0.01 sec\n",
      " ARIMA(1,1,0)(1,0,0)[12] intercept   : AIC=5381.184, Time=0.24 sec\n",
      " ARIMA(0,1,1)(0,0,1)[12] intercept   : AIC=5359.317, Time=0.22 sec\n",
      " ARIMA(0,1,0)(0,0,0)[12]             : AIC=5459.267, Time=0.01 sec\n",
      " ARIMA(0,1,1)(0,0,0)[12] intercept   : AIC=5358.202, Time=0.09 sec\n",
      " ARIMA(0,1,1)(1,0,0)[12] intercept   : AIC=5359.296, Time=0.30 sec\n",
      " ARIMA(0,1,1)(1,0,1)[12] intercept   : AIC=5361.124, Time=0.52 sec\n",
      " ARIMA(1,1,1)(0,0,0)[12] intercept   : AIC=inf, Time=0.34 sec\n",
      " ARIMA(0,1,2)(0,0,0)[12] intercept   : AIC=5355.223, Time=0.13 sec\n",
      " ARIMA(0,1,2)(1,0,0)[12] intercept   : AIC=5356.528, Time=0.36 sec\n",
      " ARIMA(0,1,2)(0,0,1)[12] intercept   : AIC=5356.558, Time=0.41 sec\n",
      " ARIMA(0,1,2)(1,0,1)[12] intercept   : AIC=5358.328, Time=0.72 sec\n",
      " ARIMA(1,1,2)(0,0,0)[12] intercept   : AIC=inf, Time=0.51 sec\n",
      " ARIMA(0,1,3)(0,0,0)[12] intercept   : AIC=5328.818, Time=0.23 sec\n",
      " ARIMA(0,1,3)(1,0,0)[12] intercept   : AIC=5330.814, Time=0.61 sec\n",
      " ARIMA(0,1,3)(0,0,1)[12] intercept   : AIC=5330.814, Time=0.58 sec\n",
      " ARIMA(0,1,3)(1,0,1)[12] intercept   : AIC=5332.817, Time=0.78 sec\n",
      " ARIMA(1,1,3)(0,0,0)[12] intercept   : AIC=inf, Time=0.60 sec\n",
      " ARIMA(0,1,4)(0,0,0)[12] intercept   : AIC=inf, Time=0.60 sec\n",
      " ARIMA(1,1,4)(0,0,0)[12] intercept   : AIC=inf, Time=0.78 sec\n",
      " ARIMA(0,1,3)(0,0,0)[12]             : AIC=5328.345, Time=0.14 sec\n",
      " ARIMA(0,1,3)(1,0,0)[12]             : AIC=5330.343, Time=0.29 sec\n",
      " ARIMA(0,1,3)(0,0,1)[12]             : AIC=5330.343, Time=0.33 sec\n",
      " ARIMA(0,1,3)(1,0,1)[12]             : AIC=5332.344, Time=0.45 sec\n",
      " ARIMA(0,1,2)(0,0,0)[12]             : AIC=5353.320, Time=0.06 sec\n",
      " ARIMA(1,1,3)(0,0,0)[12]             : AIC=5308.312, Time=0.22 sec\n",
      " ARIMA(1,1,3)(1,0,0)[12]             : AIC=5309.758, Time=0.57 sec\n",
      " ARIMA(1,1,3)(0,0,1)[12]             : AIC=5309.785, Time=0.56 sec\n",
      " ARIMA(1,1,3)(1,0,1)[12]             : AIC=5311.288, Time=1.05 sec\n",
      " ARIMA(1,1,2)(0,0,0)[12]             : AIC=5309.091, Time=0.18 sec\n",
      " ARIMA(2,1,3)(0,0,0)[12]             : AIC=5313.087, Time=0.21 sec\n",
      " ARIMA(1,1,4)(0,0,0)[12]             : AIC=5310.252, Time=0.70 sec\n",
      " ARIMA(0,1,4)(0,0,0)[12]             : AIC=5314.146, Time=0.24 sec\n",
      " ARIMA(2,1,2)(0,0,0)[12]             : AIC=5308.578, Time=0.31 sec\n",
      " ARIMA(2,1,4)(0,0,0)[12]             : AIC=5311.509, Time=0.45 sec\n",
      "\n",
      "Best model:  ARIMA(1,1,3)(0,0,0)[12]          \n",
      "Total fit time: 15.629 seconds\n",
      "Performing stepwise search to minimize aic\n"
     ]
    },
    {
     "name": "stderr",
     "output_type": "stream",
     "text": [
      "c:\\Users\\MinhDH\\AppData\\Local\\Programs\\Python\\Python312\\Lib\\site-packages\\sklearn\\model_selection\\_validation.py:993: UserWarning: Scoring failed. The score on this train-test partition for these parameters will be set to nan. Details: \n",
      "Traceback (most recent call last):\n",
      "  File \"c:\\Users\\MinhDH\\AppData\\Local\\Programs\\Python\\Python312\\Lib\\site-packages\\sklearn\\model_selection\\_validation.py\", line 982, in _score\n",
      "    scores = scorer(estimator, X_test, y_test, **score_params)\n",
      "             ^^^^^^^^^^^^^^^^^^^^^^^^^^^^^^^^^^^^^^^^^^^^^^^^^\n",
      "  File \"c:\\Users\\MinhDH\\AppData\\Local\\Programs\\Python\\Python312\\Lib\\site-packages\\sklearn\\metrics\\_scorer.py\", line 253, in __call__\n",
      "    return self._score(partial(_cached_call, None), estimator, X, y_true, **_kwargs)\n",
      "           ^^^^^^^^^^^^^^^^^^^^^^^^^^^^^^^^^^^^^^^^^^^^^^^^^^^^^^^^^^^^^^^^^^^^^^^^^\n",
      "  File \"c:\\Users\\MinhDH\\AppData\\Local\\Programs\\Python\\Python312\\Lib\\site-packages\\sklearn\\metrics\\_scorer.py\", line 345, in _score\n",
      "    y_pred = method_caller(\n",
      "             ^^^^^^^^^^^^^^\n",
      "  File \"c:\\Users\\MinhDH\\AppData\\Local\\Programs\\Python\\Python312\\Lib\\site-packages\\sklearn\\metrics\\_scorer.py\", line 87, in _cached_call\n",
      "    result, _ = _get_response_values(\n",
      "                ^^^^^^^^^^^^^^^^^^^^^\n",
      "  File \"c:\\Users\\MinhDH\\AppData\\Local\\Programs\\Python\\Python312\\Lib\\site-packages\\sklearn\\utils\\_response.py\", line 238, in _get_response_values\n",
      "    y_pred, pos_label = prediction_method(X), None\n",
      "                        ^^^^^^^^^^^^^^^^^^^^\n",
      "TypeError: AutoArimaEstimator.predict() missing 1 required positional argument: 'n_periods'\n",
      "\n",
      "  warnings.warn(\n",
      "c:\\Users\\MinhDH\\AppData\\Local\\Programs\\Python\\Python312\\Lib\\site-packages\\sklearn\\model_selection\\_search.py:1051: UserWarning: One or more of the test scores are non-finite: [nan]\n",
      "  warnings.warn(\n"
     ]
    },
    {
     "name": "stdout",
     "output_type": "stream",
     "text": [
      " ARIMA(2,1,2)(1,0,1)[12] intercept   : AIC=7098.905, Time=1.61 sec\n",
      " ARIMA(0,1,0)(0,0,0)[12] intercept   : AIC=7445.296, Time=0.01 sec\n",
      " ARIMA(1,1,0)(1,0,0)[12] intercept   : AIC=7220.742, Time=0.53 sec\n",
      " ARIMA(0,1,1)(0,0,1)[12] intercept   : AIC=7139.545, Time=0.29 sec\n",
      " ARIMA(0,1,0)(0,0,0)[12]             : AIC=7443.315, Time=0.01 sec\n",
      " ARIMA(2,1,2)(0,0,1)[12] intercept   : AIC=7097.008, Time=1.41 sec\n",
      " ARIMA(2,1,2)(0,0,0)[12] intercept   : AIC=7097.985, Time=0.48 sec\n",
      " ARIMA(2,1,2)(0,0,2)[12] intercept   : AIC=7098.892, Time=3.30 sec\n",
      " ARIMA(2,1,2)(1,0,0)[12] intercept   : AIC=7097.100, Time=1.24 sec\n",
      " ARIMA(2,1,2)(1,0,2)[12] intercept   : AIC=inf, Time=4.21 sec\n",
      " ARIMA(1,1,2)(0,0,1)[12] intercept   : AIC=7143.438, Time=0.76 sec\n",
      " ARIMA(2,1,1)(0,0,1)[12] intercept   : AIC=7097.146, Time=0.98 sec\n",
      " ARIMA(3,1,2)(0,0,1)[12] intercept   : AIC=7096.797, Time=1.04 sec\n",
      " ARIMA(3,1,2)(0,0,0)[12] intercept   : AIC=7097.686, Time=0.56 sec\n",
      " ARIMA(3,1,2)(1,0,1)[12] intercept   : AIC=7098.583, Time=1.40 sec\n",
      " ARIMA(3,1,2)(0,0,2)[12] intercept   : AIC=7098.583, Time=2.73 sec\n",
      " ARIMA(3,1,2)(1,0,0)[12] intercept   : AIC=7096.911, Time=1.10 sec\n",
      " ARIMA(3,1,2)(1,0,2)[12] intercept   : AIC=inf, Time=4.72 sec\n",
      " ARIMA(3,1,1)(0,0,1)[12] intercept   : AIC=7096.242, Time=1.03 sec\n",
      " ARIMA(3,1,1)(0,0,0)[12] intercept   : AIC=7097.082, Time=0.37 sec\n",
      " ARIMA(3,1,1)(1,0,1)[12] intercept   : AIC=7098.118, Time=1.40 sec\n",
      " ARIMA(3,1,1)(0,0,2)[12] intercept   : AIC=7098.106, Time=2.75 sec\n",
      " ARIMA(3,1,1)(1,0,0)[12] intercept   : AIC=7096.335, Time=1.03 sec\n",
      " ARIMA(3,1,1)(1,0,2)[12] intercept   : AIC=inf, Time=4.32 sec\n",
      " ARIMA(3,1,0)(0,0,1)[12] intercept   : AIC=7174.315, Time=0.39 sec\n",
      " ARIMA(4,1,1)(0,0,1)[12] intercept   : AIC=7097.219, Time=1.26 sec\n",
      " ARIMA(2,1,0)(0,0,1)[12] intercept   : AIC=7180.520, Time=0.31 sec\n",
      " ARIMA(4,1,0)(0,0,1)[12] intercept   : AIC=7160.559, Time=0.48 sec\n",
      " ARIMA(4,1,2)(0,0,1)[12] intercept   : AIC=7098.796, Time=1.54 sec\n",
      " ARIMA(3,1,1)(0,0,1)[12]             : AIC=7099.145, Time=0.55 sec\n",
      "\n",
      "Best model:  ARIMA(3,1,1)(0,0,1)[12] intercept\n",
      "Total fit time: 41.822 seconds\n",
      "Performing stepwise search to minimize aic\n",
      " ARIMA(2,1,2)(1,0,1)[12] intercept   : AIC=21959.293, Time=0.73 sec\n",
      " ARIMA(0,1,0)(0,0,0)[12] intercept   : AIC=22405.234, Time=0.01 sec\n",
      " ARIMA(1,1,0)(1,0,0)[12] intercept   : AIC=22175.703, Time=0.15 sec\n",
      " ARIMA(0,1,1)(0,0,1)[12] intercept   : AIC=inf, Time=0.38 sec\n",
      " ARIMA(0,1,0)(0,0,0)[12]             : AIC=22403.236, Time=0.01 sec\n",
      " ARIMA(2,1,2)(0,0,1)[12] intercept   : AIC=21957.612, Time=0.79 sec\n",
      " ARIMA(2,1,2)(0,0,0)[12] intercept   : AIC=21955.947, Time=0.25 sec\n",
      " ARIMA(2,1,2)(1,0,0)[12] intercept   : AIC=21957.547, Time=0.63 sec\n",
      " ARIMA(1,1,2)(0,0,0)[12] intercept   : AIC=21956.064, Time=0.14 sec\n",
      " ARIMA(2,1,1)(0,0,0)[12] intercept   : AIC=inf, Time=0.23 sec\n",
      " ARIMA(3,1,2)(0,0,0)[12] intercept   : AIC=21957.337, Time=0.31 sec\n",
      " ARIMA(2,1,3)(0,0,0)[12] intercept   : AIC=21960.196, Time=0.24 sec\n",
      " ARIMA(1,1,1)(0,0,0)[12] intercept   : AIC=21958.667, Time=0.12 sec\n",
      " ARIMA(1,1,3)(0,0,0)[12] intercept   : AIC=21956.717, Time=0.26 sec\n",
      " ARIMA(3,1,1)(0,0,0)[12] intercept   : AIC=inf, Time=0.25 sec\n",
      " ARIMA(3,1,3)(0,0,0)[12] intercept   : AIC=inf, Time=0.92 sec\n",
      " ARIMA(2,1,2)(0,0,0)[12]             : AIC=21956.057, Time=0.19 sec\n",
      "\n",
      "Best model:  ARIMA(2,1,2)(0,0,0)[12] intercept\n",
      "Total fit time: 5.626 seconds\n"
     ]
    },
    {
     "name": "stderr",
     "output_type": "stream",
     "text": [
      "c:\\Users\\MinhDH\\AppData\\Local\\Programs\\Python\\Python312\\Lib\\site-packages\\sklearn\\model_selection\\_validation.py:993: UserWarning: Scoring failed. The score on this train-test partition for these parameters will be set to nan. Details: \n",
      "Traceback (most recent call last):\n",
      "  File \"c:\\Users\\MinhDH\\AppData\\Local\\Programs\\Python\\Python312\\Lib\\site-packages\\sklearn\\model_selection\\_validation.py\", line 982, in _score\n",
      "    scores = scorer(estimator, X_test, y_test, **score_params)\n",
      "             ^^^^^^^^^^^^^^^^^^^^^^^^^^^^^^^^^^^^^^^^^^^^^^^^^\n",
      "  File \"c:\\Users\\MinhDH\\AppData\\Local\\Programs\\Python\\Python312\\Lib\\site-packages\\sklearn\\metrics\\_scorer.py\", line 253, in __call__\n",
      "    return self._score(partial(_cached_call, None), estimator, X, y_true, **_kwargs)\n",
      "           ^^^^^^^^^^^^^^^^^^^^^^^^^^^^^^^^^^^^^^^^^^^^^^^^^^^^^^^^^^^^^^^^^^^^^^^^^\n",
      "  File \"c:\\Users\\MinhDH\\AppData\\Local\\Programs\\Python\\Python312\\Lib\\site-packages\\sklearn\\metrics\\_scorer.py\", line 345, in _score\n",
      "    y_pred = method_caller(\n",
      "             ^^^^^^^^^^^^^^\n",
      "  File \"c:\\Users\\MinhDH\\AppData\\Local\\Programs\\Python\\Python312\\Lib\\site-packages\\sklearn\\metrics\\_scorer.py\", line 87, in _cached_call\n",
      "    result, _ = _get_response_values(\n",
      "                ^^^^^^^^^^^^^^^^^^^^^\n",
      "  File \"c:\\Users\\MinhDH\\AppData\\Local\\Programs\\Python\\Python312\\Lib\\site-packages\\sklearn\\utils\\_response.py\", line 238, in _get_response_values\n",
      "    y_pred, pos_label = prediction_method(X), None\n",
      "                        ^^^^^^^^^^^^^^^^^^^^\n",
      "TypeError: AutoArimaEstimator.predict() missing 1 required positional argument: 'n_periods'\n",
      "\n",
      "  warnings.warn(\n"
     ]
    },
    {
     "name": "stdout",
     "output_type": "stream",
     "text": [
      "Performing stepwise search to minimize aic\n",
      " ARIMA(2,1,2)(1,0,1)[12] intercept   : AIC=21974.605, Time=1.19 sec\n",
      " ARIMA(0,1,0)(0,0,0)[12] intercept   : AIC=22407.918, Time=0.01 sec\n",
      " ARIMA(1,1,0)(1,0,0)[12] intercept   : AIC=22179.964, Time=0.12 sec\n",
      " ARIMA(0,1,1)(0,0,1)[12] intercept   : AIC=21983.295, Time=0.19 sec\n",
      " ARIMA(0,1,0)(0,0,0)[12]             : AIC=22405.919, Time=0.01 sec\n",
      " ARIMA(2,1,2)(0,0,1)[12] intercept   : AIC=21974.035, Time=0.65 sec\n",
      " ARIMA(2,1,2)(0,0,0)[12] intercept   : AIC=21973.136, Time=0.13 sec\n",
      " ARIMA(2,1,2)(1,0,0)[12] intercept   : AIC=21973.766, Time=0.56 sec\n",
      " ARIMA(1,1,2)(0,0,0)[12] intercept   : AIC=21973.003, Time=0.13 sec\n",
      " ARIMA(1,1,2)(1,0,0)[12] intercept   : AIC=21973.670, Time=0.48 sec\n",
      " ARIMA(1,1,2)(0,0,1)[12] intercept   : AIC=21974.033, Time=0.49 sec\n",
      " ARIMA(1,1,2)(1,0,1)[12] intercept   : AIC=inf, Time=1.02 sec\n",
      " ARIMA(0,1,2)(0,0,0)[12] intercept   : AIC=21978.322, Time=0.07 sec\n",
      " ARIMA(1,1,1)(0,0,0)[12] intercept   : AIC=21976.061, Time=0.09 sec\n",
      " ARIMA(1,1,3)(0,0,0)[12] intercept   : AIC=21973.194, Time=0.29 sec\n",
      " ARIMA(0,1,1)(0,0,0)[12] intercept   : AIC=21981.580, Time=0.05 sec\n",
      " ARIMA(0,1,3)(0,0,0)[12] intercept   : AIC=21980.204, Time=0.13 sec\n",
      " ARIMA(2,1,1)(0,0,0)[12] intercept   : AIC=21976.995, Time=0.14 sec\n",
      " ARIMA(2,1,3)(0,0,0)[12] intercept   : AIC=inf, Time=0.81 sec\n",
      " ARIMA(1,1,2)(0,0,0)[12]             : AIC=21970.993, Time=0.13 sec\n",
      " ARIMA(1,1,2)(1,0,0)[12]             : AIC=21972.219, Time=0.38 sec\n",
      " ARIMA(1,1,2)(0,0,1)[12]             : AIC=21972.235, Time=0.41 sec\n",
      " ARIMA(1,1,2)(1,0,1)[12]             : AIC=21974.203, Time=0.70 sec\n",
      " ARIMA(0,1,2)(0,0,0)[12]             : AIC=21972.960, Time=0.07 sec\n",
      " ARIMA(1,1,1)(0,0,0)[12]             : AIC=21974.651, Time=0.08 sec\n",
      " ARIMA(2,1,2)(0,0,0)[12]             : AIC=21971.876, Time=0.22 sec\n",
      " ARIMA(1,1,3)(0,0,0)[12]             : AIC=21970.238, Time=0.25 sec\n",
      " ARIMA(1,1,3)(1,0,0)[12]             : AIC=21971.082, Time=0.61 sec\n",
      " ARIMA(1,1,3)(0,0,1)[12]             : AIC=21971.093, Time=0.70 sec\n",
      " ARIMA(1,1,3)(1,0,1)[12]             : AIC=21973.079, Time=1.13 sec\n",
      " ARIMA(0,1,3)(0,0,0)[12]             : AIC=21969.871, Time=0.12 sec\n",
      " ARIMA(0,1,3)(1,0,0)[12]             : AIC=21971.347, Time=0.29 sec\n",
      " ARIMA(0,1,3)(0,0,1)[12]             : AIC=21971.359, Time=0.34 sec\n",
      " ARIMA(0,1,3)(1,0,1)[12]             : AIC=21973.319, Time=1.11 sec\n",
      " ARIMA(0,1,4)(0,0,0)[12]             : AIC=21971.210, Time=0.17 sec\n",
      " ARIMA(1,1,4)(0,0,0)[12]             : AIC=21970.865, Time=0.33 sec\n",
      "\n",
      "Best model:  ARIMA(0,1,3)(0,0,0)[12]          \n",
      "Total fit time: 13.625 seconds\n",
      "Performing stepwise search to minimize aic\n"
     ]
    },
    {
     "name": "stderr",
     "output_type": "stream",
     "text": [
      "c:\\Users\\MinhDH\\AppData\\Local\\Programs\\Python\\Python312\\Lib\\site-packages\\sklearn\\model_selection\\_validation.py:993: UserWarning: Scoring failed. The score on this train-test partition for these parameters will be set to nan. Details: \n",
      "Traceback (most recent call last):\n",
      "  File \"c:\\Users\\MinhDH\\AppData\\Local\\Programs\\Python\\Python312\\Lib\\site-packages\\sklearn\\model_selection\\_validation.py\", line 982, in _score\n",
      "    scores = scorer(estimator, X_test, y_test, **score_params)\n",
      "             ^^^^^^^^^^^^^^^^^^^^^^^^^^^^^^^^^^^^^^^^^^^^^^^^^\n",
      "  File \"c:\\Users\\MinhDH\\AppData\\Local\\Programs\\Python\\Python312\\Lib\\site-packages\\sklearn\\metrics\\_scorer.py\", line 253, in __call__\n",
      "    return self._score(partial(_cached_call, None), estimator, X, y_true, **_kwargs)\n",
      "           ^^^^^^^^^^^^^^^^^^^^^^^^^^^^^^^^^^^^^^^^^^^^^^^^^^^^^^^^^^^^^^^^^^^^^^^^^\n",
      "  File \"c:\\Users\\MinhDH\\AppData\\Local\\Programs\\Python\\Python312\\Lib\\site-packages\\sklearn\\metrics\\_scorer.py\", line 345, in _score\n",
      "    y_pred = method_caller(\n",
      "             ^^^^^^^^^^^^^^\n",
      "  File \"c:\\Users\\MinhDH\\AppData\\Local\\Programs\\Python\\Python312\\Lib\\site-packages\\sklearn\\metrics\\_scorer.py\", line 87, in _cached_call\n",
      "    result, _ = _get_response_values(\n",
      "                ^^^^^^^^^^^^^^^^^^^^^\n",
      "  File \"c:\\Users\\MinhDH\\AppData\\Local\\Programs\\Python\\Python312\\Lib\\site-packages\\sklearn\\utils\\_response.py\", line 238, in _get_response_values\n",
      "    y_pred, pos_label = prediction_method(X), None\n",
      "                        ^^^^^^^^^^^^^^^^^^^^\n",
      "TypeError: AutoArimaEstimator.predict() missing 1 required positional argument: 'n_periods'\n",
      "\n",
      "  warnings.warn(\n"
     ]
    },
    {
     "name": "stdout",
     "output_type": "stream",
     "text": [
      " ARIMA(2,1,2)(1,0,1)[12] intercept   : AIC=inf, Time=1.06 sec\n",
      " ARIMA(0,1,0)(0,0,0)[12] intercept   : AIC=22364.681, Time=0.01 sec\n",
      " ARIMA(1,1,0)(1,0,0)[12] intercept   : AIC=22151.445, Time=0.13 sec\n",
      " ARIMA(0,1,1)(0,0,1)[12] intercept   : AIC=21950.642, Time=0.21 sec\n",
      " ARIMA(0,1,0)(0,0,0)[12]             : AIC=22362.682, Time=0.01 sec\n",
      " ARIMA(0,1,1)(0,0,0)[12] intercept   : AIC=21948.817, Time=0.05 sec\n",
      " ARIMA(0,1,1)(1,0,0)[12] intercept   : AIC=21950.429, Time=0.17 sec\n",
      " ARIMA(0,1,1)(1,0,1)[12] intercept   : AIC=inf, Time=0.41 sec\n",
      " ARIMA(1,1,1)(0,0,0)[12] intercept   : AIC=21945.991, Time=0.10 sec\n",
      " ARIMA(1,1,1)(1,0,0)[12] intercept   : AIC=21947.506, Time=0.29 sec\n",
      " ARIMA(1,1,1)(0,0,1)[12] intercept   : AIC=21947.680, Time=0.30 sec\n",
      " ARIMA(1,1,1)(1,0,1)[12] intercept   : AIC=inf, Time=0.61 sec\n",
      " ARIMA(1,1,0)(0,0,0)[12] intercept   : AIC=22150.493, Time=0.02 sec\n",
      " ARIMA(2,1,1)(0,0,0)[12] intercept   : AIC=21947.343, Time=0.12 sec\n",
      " ARIMA(1,1,2)(0,0,0)[12] intercept   : AIC=21941.891, Time=0.17 sec\n",
      " ARIMA(1,1,2)(1,0,0)[12] intercept   : AIC=21942.715, Time=0.49 sec\n",
      " ARIMA(1,1,2)(0,0,1)[12] intercept   : AIC=21943.071, Time=0.46 sec\n",
      " ARIMA(1,1,2)(1,0,1)[12] intercept   : AIC=inf, Time=0.88 sec\n",
      " ARIMA(0,1,2)(0,0,0)[12] intercept   : AIC=21947.852, Time=0.08 sec\n",
      " ARIMA(2,1,2)(0,0,0)[12] intercept   : AIC=21942.802, Time=0.22 sec\n",
      " ARIMA(1,1,3)(0,0,0)[12] intercept   : AIC=21942.824, Time=0.26 sec\n",
      " ARIMA(0,1,3)(0,0,0)[12] intercept   : AIC=21950.507, Time=0.13 sec\n",
      " ARIMA(2,1,3)(0,0,0)[12] intercept   : AIC=inf, Time=0.93 sec\n",
      " ARIMA(1,1,2)(0,0,0)[12]             : AIC=21940.258, Time=0.12 sec\n",
      " ARIMA(1,1,2)(1,0,0)[12]             : AIC=21941.481, Time=0.42 sec\n",
      " ARIMA(1,1,2)(0,0,1)[12]             : AIC=21941.489, Time=0.45 sec\n",
      " ARIMA(1,1,2)(1,0,1)[12]             : AIC=21943.476, Time=0.64 sec\n",
      " ARIMA(0,1,2)(0,0,0)[12]             : AIC=21942.139, Time=0.07 sec\n",
      " ARIMA(1,1,1)(0,0,0)[12]             : AIC=21944.573, Time=0.13 sec\n",
      " ARIMA(2,1,2)(0,0,0)[12]             : AIC=21941.565, Time=0.18 sec\n",
      " ARIMA(1,1,3)(0,0,0)[12]             : AIC=21939.786, Time=0.23 sec\n",
      " ARIMA(1,1,3)(1,0,0)[12]             : AIC=21940.900, Time=0.58 sec\n",
      " ARIMA(1,1,3)(0,0,1)[12]             : AIC=21940.906, Time=0.70 sec\n",
      " ARIMA(1,1,3)(1,0,1)[12]             : AIC=21942.899, Time=1.03 sec\n",
      " ARIMA(0,1,3)(0,0,0)[12]             : AIC=21940.186, Time=0.12 sec\n",
      " ARIMA(2,1,3)(0,0,0)[12]             : AIC=21943.752, Time=0.39 sec\n",
      " ARIMA(1,1,4)(0,0,0)[12]             : AIC=21940.658, Time=0.29 sec\n",
      " ARIMA(0,1,4)(0,0,0)[12]             : AIC=21941.534, Time=0.17 sec\n",
      " ARIMA(2,1,4)(0,0,0)[12]             : AIC=21940.721, Time=0.94 sec\n",
      "\n",
      "Best model:  ARIMA(1,1,3)(0,0,0)[12]          \n",
      "Total fit time: 13.557 seconds\n",
      "Performing stepwise search to minimize aic\n"
     ]
    },
    {
     "name": "stderr",
     "output_type": "stream",
     "text": [
      "c:\\Users\\MinhDH\\AppData\\Local\\Programs\\Python\\Python312\\Lib\\site-packages\\sklearn\\model_selection\\_validation.py:993: UserWarning: Scoring failed. The score on this train-test partition for these parameters will be set to nan. Details: \n",
      "Traceback (most recent call last):\n",
      "  File \"c:\\Users\\MinhDH\\AppData\\Local\\Programs\\Python\\Python312\\Lib\\site-packages\\sklearn\\model_selection\\_validation.py\", line 982, in _score\n",
      "    scores = scorer(estimator, X_test, y_test, **score_params)\n",
      "             ^^^^^^^^^^^^^^^^^^^^^^^^^^^^^^^^^^^^^^^^^^^^^^^^^\n",
      "  File \"c:\\Users\\MinhDH\\AppData\\Local\\Programs\\Python\\Python312\\Lib\\site-packages\\sklearn\\metrics\\_scorer.py\", line 253, in __call__\n",
      "    return self._score(partial(_cached_call, None), estimator, X, y_true, **_kwargs)\n",
      "           ^^^^^^^^^^^^^^^^^^^^^^^^^^^^^^^^^^^^^^^^^^^^^^^^^^^^^^^^^^^^^^^^^^^^^^^^^\n",
      "  File \"c:\\Users\\MinhDH\\AppData\\Local\\Programs\\Python\\Python312\\Lib\\site-packages\\sklearn\\metrics\\_scorer.py\", line 345, in _score\n",
      "    y_pred = method_caller(\n",
      "             ^^^^^^^^^^^^^^\n",
      "  File \"c:\\Users\\MinhDH\\AppData\\Local\\Programs\\Python\\Python312\\Lib\\site-packages\\sklearn\\metrics\\_scorer.py\", line 87, in _cached_call\n",
      "    result, _ = _get_response_values(\n",
      "                ^^^^^^^^^^^^^^^^^^^^^\n",
      "  File \"c:\\Users\\MinhDH\\AppData\\Local\\Programs\\Python\\Python312\\Lib\\site-packages\\sklearn\\utils\\_response.py\", line 238, in _get_response_values\n",
      "    y_pred, pos_label = prediction_method(X), None\n",
      "                        ^^^^^^^^^^^^^^^^^^^^\n",
      "TypeError: AutoArimaEstimator.predict() missing 1 required positional argument: 'n_periods'\n",
      "\n",
      "  warnings.warn(\n"
     ]
    },
    {
     "name": "stdout",
     "output_type": "stream",
     "text": [
      " ARIMA(2,1,2)(1,0,1)[12] intercept   : AIC=inf, Time=1.30 sec\n",
      " ARIMA(0,1,0)(0,0,0)[12] intercept   : AIC=22345.713, Time=0.01 sec\n",
      " ARIMA(1,1,0)(1,0,0)[12] intercept   : AIC=22128.006, Time=0.13 sec\n",
      " ARIMA(0,1,1)(0,0,1)[12] intercept   : AIC=21926.161, Time=0.22 sec\n",
      " ARIMA(0,1,0)(0,0,0)[12]             : AIC=22343.714, Time=0.01 sec\n",
      " ARIMA(0,1,1)(0,0,0)[12] intercept   : AIC=21924.284, Time=0.05 sec\n",
      " ARIMA(0,1,1)(1,0,0)[12] intercept   : AIC=21925.999, Time=0.18 sec\n",
      " ARIMA(0,1,1)(1,0,1)[12] intercept   : AIC=inf, Time=0.49 sec\n",
      " ARIMA(1,1,1)(0,0,0)[12] intercept   : AIC=21920.121, Time=0.09 sec\n",
      " ARIMA(1,1,1)(1,0,0)[12] intercept   : AIC=21921.700, Time=0.25 sec\n",
      " ARIMA(1,1,1)(0,0,1)[12] intercept   : AIC=21921.823, Time=0.28 sec\n",
      " ARIMA(1,1,1)(1,0,1)[12] intercept   : AIC=inf, Time=0.79 sec\n",
      " ARIMA(1,1,0)(0,0,0)[12] intercept   : AIC=22127.130, Time=0.02 sec\n",
      " ARIMA(2,1,1)(0,0,0)[12] intercept   : AIC=21921.580, Time=0.13 sec\n",
      " ARIMA(1,1,2)(0,0,0)[12] intercept   : AIC=21916.247, Time=0.16 sec\n",
      " ARIMA(1,1,2)(1,0,0)[12] intercept   : AIC=21917.146, Time=0.48 sec\n",
      " ARIMA(1,1,2)(0,0,1)[12] intercept   : AIC=21917.437, Time=0.56 sec\n",
      " ARIMA(1,1,2)(1,0,1)[12] intercept   : AIC=inf, Time=0.84 sec\n",
      " ARIMA(0,1,2)(0,0,0)[12] intercept   : AIC=21921.655, Time=0.08 sec\n",
      " ARIMA(2,1,2)(0,0,0)[12] intercept   : AIC=21916.690, Time=0.20 sec\n",
      " ARIMA(1,1,3)(0,0,0)[12] intercept   : AIC=21916.398, Time=0.31 sec\n",
      " ARIMA(0,1,3)(0,0,0)[12] intercept   : AIC=21924.197, Time=0.12 sec\n",
      " ARIMA(2,1,3)(0,0,0)[12] intercept   : AIC=21917.805, Time=0.80 sec\n",
      " ARIMA(1,1,2)(0,0,0)[12]             : AIC=21914.486, Time=0.13 sec\n",
      " ARIMA(1,1,2)(1,0,0)[12]             : AIC=21915.711, Time=0.43 sec\n",
      " ARIMA(1,1,2)(0,0,1)[12]             : AIC=21915.719, Time=0.46 sec\n",
      " ARIMA(1,1,2)(1,0,1)[12]             : AIC=21917.709, Time=0.60 sec\n",
      " ARIMA(0,1,2)(0,0,0)[12]             : AIC=21916.358, Time=0.14 sec\n",
      " ARIMA(1,1,1)(0,0,0)[12]             : AIC=21918.614, Time=0.10 sec\n",
      " ARIMA(2,1,2)(0,0,0)[12]             : AIC=21915.311, Time=0.18 sec\n",
      " ARIMA(1,1,3)(0,0,0)[12]             : AIC=21913.502, Time=0.23 sec\n",
      " ARIMA(1,1,3)(1,0,0)[12]             : AIC=21914.574, Time=0.67 sec\n",
      " ARIMA(1,1,3)(0,0,1)[12]             : AIC=21914.580, Time=0.73 sec\n",
      " ARIMA(1,1,3)(1,0,1)[12]             : AIC=21916.574, Time=0.95 sec\n",
      " ARIMA(0,1,3)(0,0,0)[12]             : AIC=21914.370, Time=0.13 sec\n",
      " ARIMA(2,1,3)(0,0,0)[12]             : AIC=21917.446, Time=0.51 sec\n",
      " ARIMA(1,1,4)(0,0,0)[12]             : AIC=21914.338, Time=0.30 sec\n",
      " ARIMA(0,1,4)(0,0,0)[12]             : AIC=21916.204, Time=0.18 sec\n",
      " ARIMA(2,1,4)(0,0,0)[12]             : AIC=21916.309, Time=0.26 sec\n",
      "\n",
      "Best model:  ARIMA(1,1,3)(0,0,0)[12]          \n",
      "Total fit time: 13.540 seconds\n",
      "Performing stepwise search to minimize aic\n"
     ]
    },
    {
     "name": "stderr",
     "output_type": "stream",
     "text": [
      "c:\\Users\\MinhDH\\AppData\\Local\\Programs\\Python\\Python312\\Lib\\site-packages\\sklearn\\model_selection\\_validation.py:993: UserWarning: Scoring failed. The score on this train-test partition for these parameters will be set to nan. Details: \n",
      "Traceback (most recent call last):\n",
      "  File \"c:\\Users\\MinhDH\\AppData\\Local\\Programs\\Python\\Python312\\Lib\\site-packages\\sklearn\\model_selection\\_validation.py\", line 982, in _score\n",
      "    scores = scorer(estimator, X_test, y_test, **score_params)\n",
      "             ^^^^^^^^^^^^^^^^^^^^^^^^^^^^^^^^^^^^^^^^^^^^^^^^^\n",
      "  File \"c:\\Users\\MinhDH\\AppData\\Local\\Programs\\Python\\Python312\\Lib\\site-packages\\sklearn\\metrics\\_scorer.py\", line 253, in __call__\n",
      "    return self._score(partial(_cached_call, None), estimator, X, y_true, **_kwargs)\n",
      "           ^^^^^^^^^^^^^^^^^^^^^^^^^^^^^^^^^^^^^^^^^^^^^^^^^^^^^^^^^^^^^^^^^^^^^^^^^\n",
      "  File \"c:\\Users\\MinhDH\\AppData\\Local\\Programs\\Python\\Python312\\Lib\\site-packages\\sklearn\\metrics\\_scorer.py\", line 345, in _score\n",
      "    y_pred = method_caller(\n",
      "             ^^^^^^^^^^^^^^\n",
      "  File \"c:\\Users\\MinhDH\\AppData\\Local\\Programs\\Python\\Python312\\Lib\\site-packages\\sklearn\\metrics\\_scorer.py\", line 87, in _cached_call\n",
      "    result, _ = _get_response_values(\n",
      "                ^^^^^^^^^^^^^^^^^^^^^\n",
      "  File \"c:\\Users\\MinhDH\\AppData\\Local\\Programs\\Python\\Python312\\Lib\\site-packages\\sklearn\\utils\\_response.py\", line 238, in _get_response_values\n",
      "    y_pred, pos_label = prediction_method(X), None\n",
      "                        ^^^^^^^^^^^^^^^^^^^^\n",
      "TypeError: AutoArimaEstimator.predict() missing 1 required positional argument: 'n_periods'\n",
      "\n",
      "  warnings.warn(\n"
     ]
    },
    {
     "name": "stdout",
     "output_type": "stream",
     "text": [
      " ARIMA(2,1,2)(1,0,1)[12] intercept   : AIC=21351.728, Time=0.89 sec\n",
      " ARIMA(0,1,0)(0,0,0)[12] intercept   : AIC=21807.162, Time=0.01 sec\n",
      " ARIMA(1,1,0)(1,0,0)[12] intercept   : AIC=21522.535, Time=0.10 sec\n",
      " ARIMA(0,1,1)(0,0,1)[12] intercept   : AIC=21365.480, Time=0.18 sec\n",
      " ARIMA(0,1,0)(0,0,0)[12]             : AIC=21805.163, Time=0.01 sec\n",
      " ARIMA(2,1,2)(0,0,1)[12] intercept   : AIC=21351.031, Time=0.49 sec\n",
      " ARIMA(2,1,2)(0,0,0)[12] intercept   : AIC=21349.534, Time=0.16 sec\n",
      " ARIMA(2,1,2)(1,0,0)[12] intercept   : AIC=21350.900, Time=0.50 sec\n",
      " ARIMA(1,1,2)(0,0,0)[12] intercept   : AIC=21345.299, Time=0.11 sec\n",
      " ARIMA(1,1,2)(1,0,0)[12] intercept   : AIC=21346.760, Time=0.38 sec\n",
      " ARIMA(1,1,2)(0,0,1)[12] intercept   : AIC=21346.957, Time=0.43 sec\n",
      " ARIMA(1,1,2)(1,0,1)[12] intercept   : AIC=21346.293, Time=0.73 sec\n",
      " ARIMA(0,1,2)(0,0,0)[12] intercept   : AIC=21352.916, Time=0.09 sec\n",
      " ARIMA(1,1,1)(0,0,0)[12] intercept   : AIC=21348.239, Time=0.09 sec\n",
      " ARIMA(1,1,3)(0,0,0)[12] intercept   : AIC=inf, Time=0.47 sec\n",
      " ARIMA(0,1,1)(0,0,0)[12] intercept   : AIC=21363.596, Time=0.03 sec\n",
      " ARIMA(0,1,3)(0,0,0)[12] intercept   : AIC=21344.716, Time=0.12 sec\n",
      " ARIMA(0,1,3)(1,0,0)[12] intercept   : AIC=21346.304, Time=0.37 sec\n",
      " ARIMA(0,1,3)(0,0,1)[12] intercept   : AIC=21346.577, Time=0.33 sec\n",
      " ARIMA(0,1,3)(1,0,1)[12] intercept   : AIC=21342.648, Time=0.76 sec\n",
      " ARIMA(0,1,3)(2,0,1)[12] intercept   : AIC=inf, Time=2.79 sec\n",
      " ARIMA(0,1,3)(1,0,2)[12] intercept   : AIC=inf, Time=3.88 sec\n",
      " ARIMA(0,1,3)(0,0,2)[12] intercept   : AIC=21347.324, Time=0.87 sec\n",
      " ARIMA(0,1,3)(2,0,0)[12] intercept   : AIC=21347.601, Time=0.69 sec\n",
      " ARIMA(0,1,3)(2,0,2)[12] intercept   : AIC=inf, Time=4.16 sec\n",
      " ARIMA(0,1,2)(1,0,1)[12] intercept   : AIC=21352.924, Time=0.44 sec\n",
      " ARIMA(1,1,3)(1,0,1)[12] intercept   : AIC=inf, Time=1.61 sec\n",
      " ARIMA(0,1,4)(1,0,1)[12] intercept   : AIC=inf, Time=1.58 sec\n",
      " ARIMA(1,1,4)(1,0,1)[12] intercept   : AIC=21341.348, Time=1.05 sec\n",
      " ARIMA(1,1,4)(0,0,1)[12] intercept   : AIC=21342.981, Time=1.05 sec\n",
      " ARIMA(1,1,4)(1,0,0)[12] intercept   : AIC=21342.890, Time=0.78 sec\n",
      " ARIMA(1,1,4)(2,0,1)[12] intercept   : AIC=21343.325, Time=2.98 sec\n",
      " ARIMA(1,1,4)(1,0,2)[12] intercept   : AIC=21343.289, Time=2.51 sec\n",
      " ARIMA(1,1,4)(0,0,0)[12] intercept   : AIC=21341.017, Time=0.33 sec\n",
      " ARIMA(0,1,4)(0,0,0)[12] intercept   : AIC=21345.846, Time=0.16 sec\n",
      " ARIMA(2,1,4)(0,0,0)[12] intercept   : AIC=21340.829, Time=0.53 sec\n",
      " ARIMA(2,1,4)(1,0,0)[12] intercept   : AIC=21341.899, Time=1.17 sec\n",
      " ARIMA(2,1,4)(0,0,1)[12] intercept   : AIC=21342.017, Time=1.32 sec\n",
      " ARIMA(2,1,4)(1,0,1)[12] intercept   : AIC=21343.349, Time=1.59 sec\n",
      " ARIMA(2,1,3)(0,0,0)[12] intercept   : AIC=21339.974, Time=0.64 sec\n",
      " ARIMA(2,1,3)(1,0,0)[12] intercept   : AIC=21341.071, Time=2.24 sec\n",
      " ARIMA(2,1,3)(0,0,1)[12] intercept   : AIC=21341.213, Time=1.56 sec\n",
      " ARIMA(2,1,3)(1,0,1)[12] intercept   : AIC=21343.021, Time=2.00 sec\n",
      " ARIMA(3,1,3)(0,0,0)[12] intercept   : AIC=21344.354, Time=0.50 sec\n",
      " ARIMA(3,1,2)(0,0,0)[12] intercept   : AIC=inf, Time=0.48 sec\n",
      " ARIMA(3,1,4)(0,0,0)[12] intercept   : AIC=inf, Time=0.76 sec\n",
      " ARIMA(2,1,3)(0,0,0)[12]             : AIC=21330.865, Time=0.52 sec\n",
      " ARIMA(2,1,3)(1,0,0)[12]             : AIC=21332.848, Time=1.24 sec\n",
      " ARIMA(2,1,3)(0,0,1)[12]             : AIC=21332.849, Time=1.40 sec\n",
      " ARIMA(2,1,3)(1,0,1)[12]             : AIC=inf, Time=1.80 sec\n",
      " ARIMA(1,1,3)(0,0,0)[12]             : AIC=inf, Time=0.41 sec\n",
      " ARIMA(2,1,2)(0,0,0)[12]             : AIC=21347.484, Time=0.14 sec\n",
      " ARIMA(3,1,3)(0,0,0)[12]             : AIC=inf, Time=0.53 sec\n",
      " ARIMA(2,1,4)(0,0,0)[12]             : AIC=21340.122, Time=0.45 sec\n",
      " ARIMA(1,1,2)(0,0,0)[12]             : AIC=21341.630, Time=0.10 sec\n",
      " ARIMA(1,1,4)(0,0,0)[12]             : AIC=21337.671, Time=0.18 sec\n",
      " ARIMA(3,1,2)(0,0,0)[12]             : AIC=inf, Time=0.41 sec\n",
      " ARIMA(3,1,4)(0,0,0)[12]             : AIC=inf, Time=1.02 sec\n",
      "\n",
      "Best model:  ARIMA(2,1,3)(0,0,0)[12]          \n",
      "Total fit time: 52.160 seconds\n",
      "Performing stepwise search to minimize aic\n"
     ]
    },
    {
     "name": "stderr",
     "output_type": "stream",
     "text": [
      "c:\\Users\\MinhDH\\AppData\\Local\\Programs\\Python\\Python312\\Lib\\site-packages\\sklearn\\model_selection\\_validation.py:993: UserWarning: Scoring failed. The score on this train-test partition for these parameters will be set to nan. Details: \n",
      "Traceback (most recent call last):\n",
      "  File \"c:\\Users\\MinhDH\\AppData\\Local\\Programs\\Python\\Python312\\Lib\\site-packages\\sklearn\\model_selection\\_validation.py\", line 982, in _score\n",
      "    scores = scorer(estimator, X_test, y_test, **score_params)\n",
      "             ^^^^^^^^^^^^^^^^^^^^^^^^^^^^^^^^^^^^^^^^^^^^^^^^^\n",
      "  File \"c:\\Users\\MinhDH\\AppData\\Local\\Programs\\Python\\Python312\\Lib\\site-packages\\sklearn\\metrics\\_scorer.py\", line 253, in __call__\n",
      "    return self._score(partial(_cached_call, None), estimator, X, y_true, **_kwargs)\n",
      "           ^^^^^^^^^^^^^^^^^^^^^^^^^^^^^^^^^^^^^^^^^^^^^^^^^^^^^^^^^^^^^^^^^^^^^^^^^\n",
      "  File \"c:\\Users\\MinhDH\\AppData\\Local\\Programs\\Python\\Python312\\Lib\\site-packages\\sklearn\\metrics\\_scorer.py\", line 345, in _score\n",
      "    y_pred = method_caller(\n",
      "             ^^^^^^^^^^^^^^\n",
      "  File \"c:\\Users\\MinhDH\\AppData\\Local\\Programs\\Python\\Python312\\Lib\\site-packages\\sklearn\\metrics\\_scorer.py\", line 87, in _cached_call\n",
      "    result, _ = _get_response_values(\n",
      "                ^^^^^^^^^^^^^^^^^^^^^\n",
      "  File \"c:\\Users\\MinhDH\\AppData\\Local\\Programs\\Python\\Python312\\Lib\\site-packages\\sklearn\\utils\\_response.py\", line 238, in _get_response_values\n",
      "    y_pred, pos_label = prediction_method(X), None\n",
      "                        ^^^^^^^^^^^^^^^^^^^^\n",
      "TypeError: AutoArimaEstimator.predict() missing 1 required positional argument: 'n_periods'\n",
      "\n",
      "  warnings.warn(\n",
      "c:\\Users\\MinhDH\\AppData\\Local\\Programs\\Python\\Python312\\Lib\\site-packages\\sklearn\\model_selection\\_search.py:1051: UserWarning: One or more of the test scores are non-finite: [nan]\n",
      "  warnings.warn(\n"
     ]
    },
    {
     "name": "stdout",
     "output_type": "stream",
     "text": [
      " ARIMA(2,1,2)(1,0,1)[12] intercept   : AIC=inf, Time=1.54 sec\n",
      " ARIMA(0,1,0)(0,0,0)[12] intercept   : AIC=27887.352, Time=0.02 sec\n",
      " ARIMA(1,1,0)(1,0,0)[12] intercept   : AIC=27602.979, Time=0.14 sec\n",
      " ARIMA(0,1,1)(0,0,1)[12] intercept   : AIC=27353.464, Time=0.23 sec\n",
      " ARIMA(0,1,0)(0,0,0)[12]             : AIC=27885.353, Time=0.01 sec\n",
      " ARIMA(0,1,1)(0,0,0)[12] intercept   : AIC=27351.634, Time=0.06 sec\n",
      " ARIMA(0,1,1)(1,0,0)[12] intercept   : AIC=27353.256, Time=0.21 sec\n",
      " ARIMA(0,1,1)(1,0,1)[12] intercept   : AIC=inf, Time=0.85 sec\n",
      " ARIMA(1,1,1)(0,0,0)[12] intercept   : AIC=27344.541, Time=0.11 sec\n",
      " ARIMA(1,1,1)(1,0,0)[12] intercept   : AIC=27346.021, Time=0.30 sec\n",
      " ARIMA(1,1,1)(0,0,1)[12] intercept   : AIC=27346.182, Time=0.33 sec\n",
      " ARIMA(1,1,1)(1,0,1)[12] intercept   : AIC=inf, Time=1.11 sec\n",
      " ARIMA(1,1,0)(0,0,0)[12] intercept   : AIC=27602.323, Time=0.03 sec\n",
      " ARIMA(2,1,1)(0,0,0)[12] intercept   : AIC=27345.287, Time=0.15 sec\n",
      " ARIMA(1,1,2)(0,0,0)[12] intercept   : AIC=27340.391, Time=0.17 sec\n",
      " ARIMA(1,1,2)(1,0,0)[12] intercept   : AIC=27341.285, Time=0.59 sec\n",
      " ARIMA(1,1,2)(0,0,1)[12] intercept   : AIC=27341.622, Time=0.61 sec\n",
      " ARIMA(1,1,2)(1,0,1)[12] intercept   : AIC=inf, Time=1.18 sec\n",
      " ARIMA(0,1,2)(0,0,0)[12] intercept   : AIC=27346.705, Time=0.09 sec\n",
      " ARIMA(2,1,2)(0,0,0)[12] intercept   : AIC=27340.152, Time=0.25 sec\n",
      " ARIMA(2,1,2)(1,0,0)[12] intercept   : AIC=27340.977, Time=0.87 sec\n",
      " ARIMA(2,1,2)(0,0,1)[12] intercept   : AIC=27341.236, Time=0.79 sec\n",
      " ARIMA(3,1,2)(0,0,0)[12] intercept   : AIC=27341.489, Time=0.38 sec\n",
      " ARIMA(2,1,3)(0,0,0)[12] intercept   : AIC=27342.187, Time=0.45 sec\n",
      " ARIMA(1,1,3)(0,0,0)[12] intercept   : AIC=27340.056, Time=0.31 sec\n",
      " ARIMA(1,1,3)(1,0,0)[12] intercept   : AIC=27340.613, Time=0.69 sec\n",
      " ARIMA(1,1,3)(0,0,1)[12] intercept   : AIC=27340.984, Time=0.90 sec\n",
      " ARIMA(1,1,3)(1,0,1)[12] intercept   : AIC=inf, Time=1.28 sec\n",
      " ARIMA(0,1,3)(0,0,0)[12] intercept   : AIC=27348.232, Time=0.16 sec\n",
      " ARIMA(1,1,4)(0,0,0)[12] intercept   : AIC=27343.138, Time=0.41 sec\n",
      " ARIMA(0,1,4)(0,0,0)[12] intercept   : AIC=27353.105, Time=0.19 sec\n",
      " ARIMA(2,1,4)(0,0,0)[12] intercept   : AIC=27339.934, Time=1.18 sec\n",
      " ARIMA(2,1,4)(1,0,0)[12] intercept   : AIC=27340.784, Time=2.83 sec\n",
      " ARIMA(2,1,4)(0,0,1)[12] intercept   : AIC=27341.033, Time=2.72 sec\n",
      " ARIMA(2,1,4)(1,0,1)[12] intercept   : AIC=inf, Time=2.66 sec\n",
      " ARIMA(3,1,4)(0,0,0)[12] intercept   : AIC=27339.261, Time=1.29 sec\n",
      " ARIMA(3,1,4)(1,0,0)[12] intercept   : AIC=27342.116, Time=2.44 sec\n",
      " ARIMA(3,1,4)(0,0,1)[12] intercept   : AIC=27342.044, Time=2.85 sec\n",
      " ARIMA(3,1,4)(1,0,1)[12] intercept   : AIC=inf, Time=3.07 sec\n",
      " ARIMA(3,1,3)(0,0,0)[12] intercept   : AIC=27338.598, Time=1.10 sec\n",
      " ARIMA(3,1,3)(1,0,0)[12] intercept   : AIC=27342.134, Time=1.90 sec\n",
      " ARIMA(3,1,3)(0,0,1)[12] intercept   : AIC=27341.521, Time=2.54 sec\n",
      " ARIMA(3,1,3)(1,0,1)[12] intercept   : AIC=inf, Time=2.65 sec\n",
      " ARIMA(4,1,3)(0,0,0)[12] intercept   : AIC=27339.146, Time=1.28 sec\n",
      " ARIMA(4,1,2)(0,0,0)[12] intercept   : AIC=27342.819, Time=0.60 sec\n",
      " ARIMA(4,1,4)(0,0,0)[12] intercept   : AIC=27339.639, Time=1.49 sec\n",
      " ARIMA(3,1,3)(0,0,0)[12]             : AIC=inf, Time=0.88 sec\n",
      "\n",
      "Best model:  ARIMA(3,1,3)(0,0,0)[12] intercept\n",
      "Total fit time: 45.898 seconds\n",
      "Performing stepwise search to minimize aic\n",
      " ARIMA(2,0,2)(1,0,1)[12] intercept   : AIC=inf, Time=2.40 sec\n",
      " ARIMA(0,0,0)(0,0,0)[12] intercept   : AIC=1063.655, Time=0.05 sec\n",
      " ARIMA(1,0,0)(1,0,0)[12] intercept   : AIC=845.718, Time=0.73 sec\n",
      " ARIMA(0,0,1)(0,0,1)[12] intercept   : AIC=inf, Time=1.51 sec\n",
      " ARIMA(0,0,0)(0,0,0)[12]             : AIC=2742.542, Time=0.01 sec\n",
      " ARIMA(1,0,0)(0,0,0)[12] intercept   : AIC=852.581, Time=0.04 sec\n",
      " ARIMA(1,0,0)(2,0,0)[12] intercept   : AIC=847.687, Time=2.56 sec\n",
      " ARIMA(1,0,0)(1,0,1)[12] intercept   : AIC=855.058, Time=1.21 sec\n",
      " ARIMA(1,0,0)(0,0,1)[12] intercept   : AIC=845.884, Time=0.35 sec\n",
      " ARIMA(1,0,0)(2,0,1)[12] intercept   : AIC=inf, Time=3.49 sec\n",
      " ARIMA(0,0,0)(1,0,0)[12] intercept   : AIC=1062.702, Time=0.39 sec\n",
      " ARIMA(2,0,0)(1,0,0)[12] intercept   : AIC=766.448, Time=1.48 sec\n",
      " ARIMA(2,0,0)(0,0,0)[12] intercept   : AIC=770.158, Time=0.08 sec\n",
      " ARIMA(2,0,0)(2,0,0)[12] intercept   : AIC=768.430, Time=3.79 sec\n",
      " ARIMA(2,0,0)(1,0,1)[12] intercept   : AIC=772.062, Time=1.56 sec\n",
      " ARIMA(2,0,0)(0,0,1)[12] intercept   : AIC=766.518, Time=0.50 sec\n",
      " ARIMA(2,0,0)(2,0,1)[12] intercept   : AIC=770.233, Time=4.97 sec\n",
      " ARIMA(3,0,0)(1,0,0)[12] intercept   : AIC=724.234, Time=2.28 sec\n",
      " ARIMA(3,0,0)(0,0,0)[12] intercept   : AIC=726.847, Time=0.14 sec\n",
      " ARIMA(3,0,0)(2,0,0)[12] intercept   : AIC=726.074, Time=4.85 sec\n",
      " ARIMA(3,0,0)(1,0,1)[12] intercept   : AIC=728.570, Time=2.04 sec\n",
      " ARIMA(3,0,0)(0,0,1)[12] intercept   : AIC=724.368, Time=0.72 sec\n",
      " ARIMA(3,0,0)(2,0,1)[12] intercept   : AIC=730.403, Time=4.68 sec\n",
      " ARIMA(4,0,0)(1,0,0)[12] intercept   : AIC=697.270, Time=2.18 sec\n",
      " ARIMA(4,0,0)(0,0,0)[12] intercept   : AIC=699.340, Time=0.17 sec\n",
      " ARIMA(4,0,0)(2,0,0)[12] intercept   : AIC=inf, Time=4.85 sec\n",
      " ARIMA(4,0,0)(1,0,1)[12] intercept   : AIC=699.078, Time=2.13 sec\n",
      " ARIMA(4,0,0)(0,0,1)[12] intercept   : AIC=697.350, Time=1.70 sec\n",
      " ARIMA(4,0,0)(2,0,1)[12] intercept   : AIC=701.256, Time=5.28 sec\n",
      " ARIMA(5,0,0)(1,0,0)[12] intercept   : AIC=684.660, Time=3.27 sec\n",
      " ARIMA(5,0,0)(0,0,0)[12] intercept   : AIC=684.172, Time=0.39 sec\n",
      " ARIMA(5,0,0)(0,0,1)[12] intercept   : AIC=681.867, Time=0.66 sec\n",
      " ARIMA(5,0,0)(1,0,1)[12] intercept   : AIC=758.959, Time=3.22 sec\n",
      " ARIMA(5,0,0)(0,0,2)[12] intercept   : AIC=683.726, Time=1.84 sec\n",
      " ARIMA(5,0,0)(1,0,2)[12] intercept   : AIC=inf, Time=5.11 sec\n",
      " ARIMA(5,0,1)(0,0,1)[12] intercept   : AIC=671.287, Time=1.92 sec\n",
      " ARIMA(5,0,1)(0,0,0)[12] intercept   : AIC=670.423, Time=1.04 sec\n",
      " ARIMA(5,0,1)(1,0,0)[12] intercept   : AIC=701.435, Time=3.38 sec\n",
      " ARIMA(5,0,1)(1,0,1)[12] intercept   : AIC=706.226, Time=3.14 sec\n",
      " ARIMA(4,0,1)(0,0,0)[12] intercept   : AIC=652.993, Time=0.87 sec\n",
      " ARIMA(4,0,1)(1,0,0)[12] intercept   : AIC=719.599, Time=2.35 sec\n",
      " ARIMA(4,0,1)(0,0,1)[12] intercept   : AIC=629.674, Time=1.86 sec\n",
      " ARIMA(4,0,1)(1,0,1)[12] intercept   : AIC=725.943, Time=2.26 sec\n",
      " ARIMA(4,0,1)(0,0,2)[12] intercept   : AIC=634.718, Time=4.55 sec\n",
      " ARIMA(4,0,1)(1,0,2)[12] intercept   : AIC=inf, Time=4.56 sec\n",
      " ARIMA(3,0,1)(0,0,1)[12] intercept   : AIC=600.402, Time=2.43 sec\n",
      " ARIMA(3,0,1)(0,0,0)[12] intercept   : AIC=620.942, Time=0.82 sec\n",
      " ARIMA(3,0,1)(1,0,1)[12] intercept   : AIC=777.055, Time=2.21 sec\n",
      " ARIMA(3,0,1)(0,0,2)[12] intercept   : AIC=612.045, Time=3.74 sec\n",
      " ARIMA(3,0,1)(1,0,0)[12] intercept   : AIC=770.398, Time=2.32 sec\n",
      " ARIMA(3,0,1)(1,0,2)[12] intercept   : AIC=inf, Time=4.40 sec\n",
      " ARIMA(2,0,1)(0,0,1)[12] intercept   : AIC=587.678, Time=2.08 sec\n",
      " ARIMA(2,0,1)(0,0,0)[12] intercept   : AIC=589.725, Time=0.94 sec\n",
      " ARIMA(2,0,1)(1,0,1)[12] intercept   : AIC=743.124, Time=2.02 sec\n",
      " ARIMA(2,0,1)(0,0,2)[12] intercept   : AIC=591.953, Time=4.95 sec\n",
      " ARIMA(2,0,1)(1,0,0)[12] intercept   : AIC=791.607, Time=1.70 sec\n",
      " ARIMA(2,0,1)(1,0,2)[12] intercept   : AIC=inf, Time=3.92 sec\n",
      " ARIMA(1,0,1)(0,0,1)[12] intercept   : AIC=583.933, Time=2.53 sec\n",
      " ARIMA(1,0,1)(0,0,0)[12] intercept   : AIC=583.718, Time=0.63 sec\n",
      " ARIMA(1,0,1)(1,0,0)[12] intercept   : AIC=988.676, Time=0.79 sec\n",
      " ARIMA(1,0,1)(1,0,1)[12] intercept   : AIC=617.581, Time=1.85 sec\n",
      " ARIMA(0,0,1)(0,0,0)[12] intercept   : AIC=inf, Time=0.44 sec\n",
      " ARIMA(1,0,2)(0,0,0)[12] intercept   : AIC=inf, Time=0.66 sec\n",
      " ARIMA(0,0,2)(0,0,0)[12] intercept   : AIC=inf, Time=0.62 sec\n",
      " ARIMA(2,0,2)(0,0,0)[12] intercept   : AIC=579.116, Time=1.65 sec\n",
      " ARIMA(2,0,2)(1,0,0)[12] intercept   : AIC=639.598, Time=2.41 sec\n",
      " ARIMA(2,0,2)(0,0,1)[12] intercept   : AIC=592.115, Time=2.24 sec\n",
      " ARIMA(3,0,2)(0,0,0)[12] intercept   : AIC=580.104, Time=2.07 sec\n",
      " ARIMA(2,0,3)(0,0,0)[12] intercept   : AIC=576.405, Time=1.63 sec\n",
      " ARIMA(2,0,3)(1,0,0)[12] intercept   : AIC=648.792, Time=2.88 sec\n",
      " ARIMA(2,0,3)(0,0,1)[12] intercept   : AIC=576.237, Time=2.12 sec\n",
      " ARIMA(2,0,3)(1,0,1)[12] intercept   : AIC=612.177, Time=3.52 sec\n",
      " ARIMA(2,0,3)(0,0,2)[12] intercept   : AIC=582.386, Time=4.66 sec\n",
      " ARIMA(2,0,3)(1,0,2)[12] intercept   : AIC=inf, Time=5.93 sec\n",
      " ARIMA(1,0,3)(0,0,1)[12] intercept   : AIC=inf, Time=2.19 sec\n",
      " ARIMA(3,0,3)(0,0,1)[12] intercept   : AIC=inf, Time=3.09 sec\n",
      " ARIMA(2,0,4)(0,0,1)[12] intercept   : AIC=578.659, Time=3.55 sec\n",
      " ARIMA(1,0,2)(0,0,1)[12] intercept   : AIC=inf, Time=1.93 sec\n",
      " ARIMA(1,0,4)(0,0,1)[12] intercept   : AIC=inf, Time=3.34 sec\n",
      " ARIMA(3,0,2)(0,0,1)[12] intercept   : AIC=594.275, Time=3.16 sec\n",
      " ARIMA(3,0,4)(0,0,1)[12] intercept   : AIC=586.091, Time=3.03 sec\n",
      " ARIMA(2,0,3)(0,0,1)[12]             : AIC=inf, Time=1.68 sec\n",
      "\n",
      "Best model:  ARIMA(2,0,3)(0,0,1)[12] intercept\n",
      "Total fit time: 186.753 seconds\n"
     ]
    },
    {
     "name": "stderr",
     "output_type": "stream",
     "text": [
      "c:\\Users\\MinhDH\\AppData\\Local\\Programs\\Python\\Python312\\Lib\\site-packages\\statsmodels\\tsa\\base\\tsa_model.py:836: ValueWarning: No supported index is available. Prediction results will be given with an integer index beginning at `start`.\n",
      "  return get_prediction_index(\n",
      "c:\\Users\\MinhDH\\AppData\\Local\\Programs\\Python\\Python312\\Lib\\site-packages\\statsmodels\\tsa\\base\\tsa_model.py:836: FutureWarning: No supported index is available. In the next version, calling this method in a model without a supported index will result in an exception.\n",
      "  return get_prediction_index(\n"
     ]
    },
    {
     "name": "stdout",
     "output_type": "stream",
     "text": [
      "Performing stepwise search to minimize aic\n",
      " ARIMA(2,1,2)(1,0,1)[12] intercept   : AIC=7098.905, Time=1.32 sec\n",
      " ARIMA(0,1,0)(0,0,0)[12] intercept   : AIC=7445.296, Time=0.02 sec\n",
      " ARIMA(1,1,0)(1,0,0)[12] intercept   : AIC=7220.742, Time=0.29 sec\n",
      " ARIMA(0,1,1)(0,0,1)[12] intercept   : AIC=7139.545, Time=0.28 sec\n",
      " ARIMA(0,1,0)(0,0,0)[12]             : AIC=7443.315, Time=0.01 sec\n",
      " ARIMA(2,1,2)(0,0,1)[12] intercept   : AIC=7097.008, Time=1.27 sec\n",
      " ARIMA(2,1,2)(0,0,0)[12] intercept   : AIC=7097.985, Time=0.56 sec\n",
      " ARIMA(2,1,2)(0,0,2)[12] intercept   : AIC=7098.892, Time=3.02 sec\n",
      " ARIMA(2,1,2)(1,0,0)[12] intercept   : AIC=7097.100, Time=1.25 sec\n",
      " ARIMA(2,1,2)(1,0,2)[12] intercept   : AIC=inf, Time=4.33 sec\n",
      " ARIMA(1,1,2)(0,0,1)[12] intercept   : AIC=7143.438, Time=0.75 sec\n",
      " ARIMA(2,1,1)(0,0,1)[12] intercept   : AIC=7097.146, Time=1.01 sec\n",
      " ARIMA(3,1,2)(0,0,1)[12] intercept   : AIC=7096.797, Time=1.12 sec\n",
      " ARIMA(3,1,2)(0,0,0)[12] intercept   : AIC=7097.686, Time=0.56 sec\n",
      " ARIMA(3,1,2)(1,0,1)[12] intercept   : AIC=7098.583, Time=1.32 sec\n",
      " ARIMA(3,1,2)(0,0,2)[12] intercept   : AIC=7098.583, Time=2.74 sec\n",
      " ARIMA(3,1,2)(1,0,0)[12] intercept   : AIC=7096.911, Time=1.10 sec\n",
      " ARIMA(3,1,2)(1,0,2)[12] intercept   : AIC=inf, Time=4.70 sec\n",
      " ARIMA(3,1,1)(0,0,1)[12] intercept   : AIC=7096.242, Time=1.05 sec\n",
      " ARIMA(3,1,1)(0,0,0)[12] intercept   : AIC=7097.082, Time=0.38 sec\n",
      " ARIMA(3,1,1)(1,0,1)[12] intercept   : AIC=7098.118, Time=1.37 sec\n",
      " ARIMA(3,1,1)(0,0,2)[12] intercept   : AIC=7098.106, Time=2.64 sec\n",
      " ARIMA(3,1,1)(1,0,0)[12] intercept   : AIC=7096.335, Time=1.04 sec\n",
      " ARIMA(3,1,1)(1,0,2)[12] intercept   : AIC=inf, Time=4.42 sec\n",
      " ARIMA(3,1,0)(0,0,1)[12] intercept   : AIC=7174.315, Time=0.38 sec\n",
      " ARIMA(4,1,1)(0,0,1)[12] intercept   : AIC=7097.219, Time=1.24 sec\n",
      " ARIMA(2,1,0)(0,0,1)[12] intercept   : AIC=7180.520, Time=0.31 sec\n",
      " ARIMA(4,1,0)(0,0,1)[12] intercept   : AIC=7160.559, Time=0.49 sec\n",
      " ARIMA(4,1,2)(0,0,1)[12] intercept   : AIC=7098.796, Time=1.44 sec\n",
      " ARIMA(3,1,1)(0,0,1)[12]             : AIC=7099.145, Time=0.58 sec\n",
      "\n",
      "Best model:  ARIMA(3,1,1)(0,0,1)[12] intercept\n",
      "Total fit time: 41.028 seconds\n",
      "Performing stepwise search to minimize aic\n"
     ]
    },
    {
     "name": "stderr",
     "output_type": "stream",
     "text": [
      "c:\\Users\\MinhDH\\AppData\\Local\\Programs\\Python\\Python312\\Lib\\site-packages\\statsmodels\\tsa\\base\\tsa_model.py:836: ValueWarning: No supported index is available. Prediction results will be given with an integer index beginning at `start`.\n",
      "  return get_prediction_index(\n",
      "c:\\Users\\MinhDH\\AppData\\Local\\Programs\\Python\\Python312\\Lib\\site-packages\\statsmodels\\tsa\\base\\tsa_model.py:836: FutureWarning: No supported index is available. In the next version, calling this method in a model without a supported index will result in an exception.\n",
      "  return get_prediction_index(\n"
     ]
    },
    {
     "name": "stdout",
     "output_type": "stream",
     "text": [
      " ARIMA(2,1,2)(1,0,1)[12] intercept   : AIC=inf, Time=1.53 sec\n",
      " ARIMA(0,1,0)(0,0,0)[12] intercept   : AIC=27887.352, Time=0.01 sec\n",
      " ARIMA(1,1,0)(1,0,0)[12] intercept   : AIC=27602.979, Time=0.14 sec\n",
      " ARIMA(0,1,1)(0,0,1)[12] intercept   : AIC=27353.464, Time=0.23 sec\n",
      " ARIMA(0,1,0)(0,0,0)[12]             : AIC=27885.353, Time=0.01 sec\n",
      " ARIMA(0,1,1)(0,0,0)[12] intercept   : AIC=27351.634, Time=0.05 sec\n",
      " ARIMA(0,1,1)(1,0,0)[12] intercept   : AIC=27353.256, Time=0.20 sec\n",
      " ARIMA(0,1,1)(1,0,1)[12] intercept   : AIC=inf, Time=0.66 sec\n",
      " ARIMA(1,1,1)(0,0,0)[12] intercept   : AIC=27344.541, Time=0.11 sec\n",
      " ARIMA(1,1,1)(1,0,0)[12] intercept   : AIC=27346.021, Time=0.38 sec\n",
      " ARIMA(1,1,1)(0,0,1)[12] intercept   : AIC=27346.182, Time=0.41 sec\n",
      " ARIMA(1,1,1)(1,0,1)[12] intercept   : AIC=inf, Time=1.02 sec\n",
      " ARIMA(1,1,0)(0,0,0)[12] intercept   : AIC=27602.323, Time=0.03 sec\n",
      " ARIMA(2,1,1)(0,0,0)[12] intercept   : AIC=27345.287, Time=0.14 sec\n",
      " ARIMA(1,1,2)(0,0,0)[12] intercept   : AIC=27340.391, Time=0.22 sec\n",
      " ARIMA(1,1,2)(1,0,0)[12] intercept   : AIC=27341.285, Time=0.61 sec\n",
      " ARIMA(1,1,2)(0,0,1)[12] intercept   : AIC=27341.622, Time=0.69 sec\n",
      " ARIMA(1,1,2)(1,0,1)[12] intercept   : AIC=inf, Time=1.56 sec\n",
      " ARIMA(0,1,2)(0,0,0)[12] intercept   : AIC=27346.705, Time=0.09 sec\n",
      " ARIMA(2,1,2)(0,0,0)[12] intercept   : AIC=27340.152, Time=0.36 sec\n",
      " ARIMA(2,1,2)(1,0,0)[12] intercept   : AIC=27340.977, Time=0.85 sec\n",
      " ARIMA(2,1,2)(0,0,1)[12] intercept   : AIC=27341.236, Time=0.75 sec\n",
      " ARIMA(3,1,2)(0,0,0)[12] intercept   : AIC=27341.489, Time=0.36 sec\n",
      " ARIMA(2,1,3)(0,0,0)[12] intercept   : AIC=27342.187, Time=0.45 sec\n",
      " ARIMA(1,1,3)(0,0,0)[12] intercept   : AIC=27340.056, Time=0.34 sec\n",
      " ARIMA(1,1,3)(1,0,0)[12] intercept   : AIC=27340.613, Time=0.70 sec\n",
      " ARIMA(1,1,3)(0,0,1)[12] intercept   : AIC=27340.984, Time=0.89 sec\n",
      " ARIMA(1,1,3)(1,0,1)[12] intercept   : AIC=inf, Time=1.27 sec\n",
      " ARIMA(0,1,3)(0,0,0)[12] intercept   : AIC=27348.232, Time=0.15 sec\n",
      " ARIMA(1,1,4)(0,0,0)[12] intercept   : AIC=27343.138, Time=0.41 sec\n",
      " ARIMA(0,1,4)(0,0,0)[12] intercept   : AIC=27353.105, Time=0.19 sec\n",
      " ARIMA(2,1,4)(0,0,0)[12] intercept   : AIC=27339.934, Time=1.18 sec\n",
      " ARIMA(2,1,4)(1,0,0)[12] intercept   : AIC=27340.784, Time=2.22 sec\n",
      " ARIMA(2,1,4)(0,0,1)[12] intercept   : AIC=27341.033, Time=2.65 sec\n",
      " ARIMA(2,1,4)(1,0,1)[12] intercept   : AIC=inf, Time=2.66 sec\n",
      " ARIMA(3,1,4)(0,0,0)[12] intercept   : AIC=27339.261, Time=1.32 sec\n",
      " ARIMA(3,1,4)(1,0,0)[12] intercept   : AIC=27342.116, Time=2.40 sec\n",
      " ARIMA(3,1,4)(0,0,1)[12] intercept   : AIC=27342.044, Time=2.99 sec\n",
      " ARIMA(3,1,4)(1,0,1)[12] intercept   : AIC=inf, Time=2.92 sec\n",
      " ARIMA(3,1,3)(0,0,0)[12] intercept   : AIC=27338.598, Time=1.13 sec\n",
      " ARIMA(3,1,3)(1,0,0)[12] intercept   : AIC=27342.134, Time=1.93 sec\n",
      " ARIMA(3,1,3)(0,0,1)[12] intercept   : AIC=27341.521, Time=2.54 sec\n",
      " ARIMA(3,1,3)(1,0,1)[12] intercept   : AIC=inf, Time=2.65 sec\n",
      " ARIMA(4,1,3)(0,0,0)[12] intercept   : AIC=27339.146, Time=1.25 sec\n",
      " ARIMA(4,1,2)(0,0,0)[12] intercept   : AIC=27342.819, Time=0.59 sec\n",
      " ARIMA(4,1,4)(0,0,0)[12] intercept   : AIC=27339.639, Time=1.65 sec\n",
      " ARIMA(3,1,3)(0,0,0)[12]             : AIC=inf, Time=0.89 sec\n",
      "\n",
      "Best model:  ARIMA(3,1,3)(0,0,0)[12] intercept\n",
      "Total fit time: 45.804 seconds\n"
     ]
    },
    {
     "name": "stderr",
     "output_type": "stream",
     "text": [
      "c:\\Users\\MinhDH\\AppData\\Local\\Programs\\Python\\Python312\\Lib\\site-packages\\statsmodels\\tsa\\base\\tsa_model.py:836: ValueWarning: No supported index is available. Prediction results will be given with an integer index beginning at `start`.\n",
      "  return get_prediction_index(\n",
      "c:\\Users\\MinhDH\\AppData\\Local\\Programs\\Python\\Python312\\Lib\\site-packages\\statsmodels\\tsa\\base\\tsa_model.py:836: FutureWarning: No supported index is available. In the next version, calling this method in a model without a supported index will result in an exception.\n",
      "  return get_prediction_index(\n"
     ]
    }
   ],
   "source": [
    "\n",
    "\n",
    "class AutoArimaEstimator(BaseEstimator):\n",
    "    def __init__(self, **kwargs):\n",
    "        self.kwargs = kwargs\n",
    "\n",
    "    def fit(self, X, y=None):\n",
    "        return auto_arima(X, seasonal=True, m=12, trace=True, error_action='ignore', suppress_warnings=True, **self.kwargs)\n",
    "\n",
    "    def predict(self, X, n_periods):\n",
    "        model = self.fit(X)\n",
    "        return model.predict(n_periods=n_periods)\n",
    "\n",
    "    def score(self, X, y, **kwargs):\n",
    "        y_pred = self.predict(X, len(y))\n",
    "        return -mean_squared_error(y, y_pred)\n",
    "\n",
    "\n",
    "# Tạo estimator\n",
    "estimator_customers = AutoArimaEstimator(order=(2, 1, 2), seasonal_order=(1, 0, 1, 12))\n",
    "estimator_sales = AutoArimaEstimator(order=(2, 1, 2), seasonal_order=(1, 0, 1, 12))\n",
    "estimator_revenue = AutoArimaEstimator(order=(2, 1, 2), seasonal_order=(1, 0, 1, 12))\n",
    "\n",
    "# Tìm kiếm tham số cho số lượng khách hàng\n",
    "grid_customers = GridSearchCV(estimator_customers, param_grid={}, scoring='neg_mean_squared_error')\n",
    "grid_customers.fit(df['Customer'], df['Customer'])\n",
    "\n",
    "grid_sales = GridSearchCV(estimator_sales, param_grid={}, scoring='neg_mean_squared_error')\n",
    "grid_sales.fit(df['Qty Sold'], df['Qty Sold'])\n",
    "\n",
    "grid_revenue = GridSearchCV(estimator_revenue, param_grid={}, scoring='neg_mean_squared_error')\n",
    "grid_revenue.fit(df['Revenue'], df['Revenue'])\n",
    "\n",
    "# Dự báo\n",
    "forecast_customers = grid_customers.best_estimator_.predict(df['Customer'], n_periods=60)\n",
    "forecast_sales = grid_sales.best_estimator_.predict(df['Qty Sold'], n_periods=60)\n",
    "forecast_revenue = grid_revenue.best_estimator_.predict(df['Revenue'], n_periods=60)\n",
    "\n"
   ]
  },
  {
   "cell_type": "code",
   "execution_count": 7,
   "metadata": {},
   "outputs": [
    {
     "data": {
      "text/html": [
       "<div>\n",
       "<style scoped>\n",
       "    .dataframe tbody tr th:only-of-type {\n",
       "        vertical-align: middle;\n",
       "    }\n",
       "\n",
       "    .dataframe tbody tr th {\n",
       "        vertical-align: top;\n",
       "    }\n",
       "\n",
       "    .dataframe thead th {\n",
       "        text-align: right;\n",
       "    }\n",
       "</style>\n",
       "<table border=\"1\" class=\"dataframe\">\n",
       "  <thead>\n",
       "    <tr style=\"text-align: right;\">\n",
       "      <th></th>\n",
       "      <th>Date</th>\n",
       "      <th>Customers</th>\n",
       "      <th>Sales</th>\n",
       "      <th>Revenue</th>\n",
       "    </tr>\n",
       "  </thead>\n",
       "  <tbody>\n",
       "    <tr>\n",
       "      <th>730</th>\n",
       "      <td>2024-10-01</td>\n",
       "      <td>1.447373</td>\n",
       "      <td>134.036088</td>\n",
       "      <td>6.193326e+07</td>\n",
       "    </tr>\n",
       "    <tr>\n",
       "      <th>731</th>\n",
       "      <td>2024-10-02</td>\n",
       "      <td>1.537294</td>\n",
       "      <td>140.257068</td>\n",
       "      <td>5.408909e+07</td>\n",
       "    </tr>\n",
       "    <tr>\n",
       "      <th>732</th>\n",
       "      <td>2024-10-03</td>\n",
       "      <td>1.451584</td>\n",
       "      <td>147.494527</td>\n",
       "      <td>5.617277e+07</td>\n",
       "    </tr>\n",
       "    <tr>\n",
       "      <th>733</th>\n",
       "      <td>2024-10-04</td>\n",
       "      <td>1.555762</td>\n",
       "      <td>143.048796</td>\n",
       "      <td>5.970770e+07</td>\n",
       "    </tr>\n",
       "    <tr>\n",
       "      <th>734</th>\n",
       "      <td>2024-10-05</td>\n",
       "      <td>1.511371</td>\n",
       "      <td>144.617453</td>\n",
       "      <td>5.372747e+07</td>\n",
       "    </tr>\n",
       "    <tr>\n",
       "      <th>735</th>\n",
       "      <td>2024-10-06</td>\n",
       "      <td>1.486676</td>\n",
       "      <td>151.447286</td>\n",
       "      <td>5.813100e+07</td>\n",
       "    </tr>\n",
       "    <tr>\n",
       "      <th>736</th>\n",
       "      <td>2024-10-07</td>\n",
       "      <td>1.523953</td>\n",
       "      <td>146.347194</td>\n",
       "      <td>5.860665e+07</td>\n",
       "    </tr>\n",
       "    <tr>\n",
       "      <th>737</th>\n",
       "      <td>2024-10-08</td>\n",
       "      <td>1.467895</td>\n",
       "      <td>152.277668</td>\n",
       "      <td>5.413023e+07</td>\n",
       "    </tr>\n",
       "    <tr>\n",
       "      <th>738</th>\n",
       "      <td>2024-10-09</td>\n",
       "      <td>1.540469</td>\n",
       "      <td>147.824359</td>\n",
       "      <td>5.956791e+07</td>\n",
       "    </tr>\n",
       "    <tr>\n",
       "      <th>739</th>\n",
       "      <td>2024-10-10</td>\n",
       "      <td>1.452490</td>\n",
       "      <td>154.763827</td>\n",
       "      <td>5.732371e+07</td>\n",
       "    </tr>\n",
       "    <tr>\n",
       "      <th>740</th>\n",
       "      <td>2024-10-11</td>\n",
       "      <td>1.476698</td>\n",
       "      <td>154.871207</td>\n",
       "      <td>5.526277e+07</td>\n",
       "    </tr>\n",
       "    <tr>\n",
       "      <th>741</th>\n",
       "      <td>2024-10-12</td>\n",
       "      <td>1.522531</td>\n",
       "      <td>149.677304</td>\n",
       "      <td>6.026546e+07</td>\n",
       "    </tr>\n",
       "    <tr>\n",
       "      <th>742</th>\n",
       "      <td>2024-10-13</td>\n",
       "      <td>1.511387</td>\n",
       "      <td>151.950137</td>\n",
       "      <td>5.627152e+07</td>\n",
       "    </tr>\n",
       "    <tr>\n",
       "      <th>743</th>\n",
       "      <td>2024-10-14</td>\n",
       "      <td>1.492469</td>\n",
       "      <td>151.288067</td>\n",
       "      <td>5.680898e+07</td>\n",
       "    </tr>\n",
       "    <tr>\n",
       "      <th>744</th>\n",
       "      <td>2024-10-15</td>\n",
       "      <td>1.500587</td>\n",
       "      <td>151.419628</td>\n",
       "      <td>6.022725e+07</td>\n",
       "    </tr>\n",
       "    <tr>\n",
       "      <th>745</th>\n",
       "      <td>2024-10-16</td>\n",
       "      <td>1.505714</td>\n",
       "      <td>151.527479</td>\n",
       "      <td>5.574559e+07</td>\n",
       "    </tr>\n",
       "    <tr>\n",
       "      <th>746</th>\n",
       "      <td>2024-10-17</td>\n",
       "      <td>1.489668</td>\n",
       "      <td>151.616812</td>\n",
       "      <td>5.839634e+07</td>\n",
       "    </tr>\n",
       "    <tr>\n",
       "      <th>747</th>\n",
       "      <td>2024-10-18</td>\n",
       "      <td>1.512197</td>\n",
       "      <td>151.749703</td>\n",
       "      <td>5.963805e+07</td>\n",
       "    </tr>\n",
       "    <tr>\n",
       "      <th>748</th>\n",
       "      <td>2024-10-19</td>\n",
       "      <td>1.488591</td>\n",
       "      <td>151.884939</td>\n",
       "      <td>5.586878e+07</td>\n",
       "    </tr>\n",
       "    <tr>\n",
       "      <th>749</th>\n",
       "      <td>2024-10-20</td>\n",
       "      <td>1.508141</td>\n",
       "      <td>152.029243</td>\n",
       "      <td>5.969598e+07</td>\n",
       "    </tr>\n",
       "    <tr>\n",
       "      <th>750</th>\n",
       "      <td>2024-10-21</td>\n",
       "      <td>1.496437</td>\n",
       "      <td>152.178638</td>\n",
       "      <td>5.879200e+07</td>\n",
       "    </tr>\n",
       "    <tr>\n",
       "      <th>751</th>\n",
       "      <td>2024-10-22</td>\n",
       "      <td>1.498530</td>\n",
       "      <td>152.331185</td>\n",
       "      <td>5.658594e+07</td>\n",
       "    </tr>\n",
       "    <tr>\n",
       "      <th>752</th>\n",
       "      <td>2024-10-23</td>\n",
       "      <td>1.505600</td>\n",
       "      <td>152.486069</td>\n",
       "      <td>6.049759e+07</td>\n",
       "    </tr>\n",
       "    <tr>\n",
       "      <th>753</th>\n",
       "      <td>2024-10-24</td>\n",
       "      <td>1.491727</td>\n",
       "      <td>152.642436</td>\n",
       "      <td>5.800415e+07</td>\n",
       "    </tr>\n",
       "    <tr>\n",
       "      <th>754</th>\n",
       "      <td>2024-10-25</td>\n",
       "      <td>1.508813</td>\n",
       "      <td>152.799816</td>\n",
       "      <td>5.770319e+07</td>\n",
       "    </tr>\n",
       "    <tr>\n",
       "      <th>755</th>\n",
       "      <td>2024-10-26</td>\n",
       "      <td>1.492456</td>\n",
       "      <td>152.957873</td>\n",
       "      <td>6.074422e+07</td>\n",
       "    </tr>\n",
       "    <tr>\n",
       "      <th>756</th>\n",
       "      <td>2024-10-27</td>\n",
       "      <td>1.504665</td>\n",
       "      <td>153.116384</td>\n",
       "      <td>5.752967e+07</td>\n",
       "    </tr>\n",
       "    <tr>\n",
       "      <th>757</th>\n",
       "      <td>2024-10-28</td>\n",
       "      <td>1.498820</td>\n",
       "      <td>153.275199</td>\n",
       "      <td>5.895589e+07</td>\n",
       "    </tr>\n",
       "    <tr>\n",
       "      <th>758</th>\n",
       "      <td>2024-10-29</td>\n",
       "      <td>1.497646</td>\n",
       "      <td>153.434217</td>\n",
       "      <td>6.052419e+07</td>\n",
       "    </tr>\n",
       "    <tr>\n",
       "      <th>759</th>\n",
       "      <td>2024-10-30</td>\n",
       "      <td>1.504936</td>\n",
       "      <td>153.593373</td>\n",
       "      <td>5.750947e+07</td>\n",
       "    </tr>\n",
       "    <tr>\n",
       "      <th>760</th>\n",
       "      <td>2024-10-31</td>\n",
       "      <td>1.493654</td>\n",
       "      <td>153.752620</td>\n",
       "      <td>6.008418e+07</td>\n",
       "    </tr>\n",
       "    <tr>\n",
       "      <th>761</th>\n",
       "      <td>2024-11-01</td>\n",
       "      <td>1.506151</td>\n",
       "      <td>153.911928</td>\n",
       "      <td>6.002828e+07</td>\n",
       "    </tr>\n",
       "    <tr>\n",
       "      <th>762</th>\n",
       "      <td>2024-11-02</td>\n",
       "      <td>1.495216</td>\n",
       "      <td>154.071278</td>\n",
       "      <td>5.795195e+07</td>\n",
       "    </tr>\n",
       "    <tr>\n",
       "      <th>763</th>\n",
       "      <td>2024-11-03</td>\n",
       "      <td>1.502404</td>\n",
       "      <td>154.230655</td>\n",
       "      <td>6.089647e+07</td>\n",
       "    </tr>\n",
       "    <tr>\n",
       "      <th>764</th>\n",
       "      <td>2024-11-04</td>\n",
       "      <td>1.500147</td>\n",
       "      <td>154.390050</td>\n",
       "      <td>5.948785e+07</td>\n",
       "    </tr>\n",
       "    <tr>\n",
       "      <th>765</th>\n",
       "      <td>2024-11-05</td>\n",
       "      <td>1.497450</td>\n",
       "      <td>154.549458</td>\n",
       "      <td>5.875004e+07</td>\n",
       "    </tr>\n",
       "    <tr>\n",
       "      <th>766</th>\n",
       "      <td>2024-11-06</td>\n",
       "      <td>1.504065</td>\n",
       "      <td>154.708875</td>\n",
       "      <td>6.130687e+07</td>\n",
       "    </tr>\n",
       "    <tr>\n",
       "      <th>767</th>\n",
       "      <td>2024-11-07</td>\n",
       "      <td>1.495307</td>\n",
       "      <td>154.868297</td>\n",
       "      <td>5.911180e+07</td>\n",
       "    </tr>\n",
       "    <tr>\n",
       "      <th>768</th>\n",
       "      <td>2024-11-08</td>\n",
       "      <td>1.504141</td>\n",
       "      <td>155.027722</td>\n",
       "      <td>5.972432e+07</td>\n",
       "    </tr>\n",
       "    <tr>\n",
       "      <th>769</th>\n",
       "      <td>2024-11-09</td>\n",
       "      <td>1.497121</td>\n",
       "      <td>155.187150</td>\n",
       "      <td>6.134114e+07</td>\n",
       "    </tr>\n",
       "    <tr>\n",
       "      <th>770</th>\n",
       "      <td>2024-11-10</td>\n",
       "      <td>1.501000</td>\n",
       "      <td>155.346580</td>\n",
       "      <td>5.903828e+07</td>\n",
       "    </tr>\n",
       "    <tr>\n",
       "      <th>771</th>\n",
       "      <td>2024-11-11</td>\n",
       "      <td>1.500797</td>\n",
       "      <td>155.506011</td>\n",
       "      <td>6.067780e+07</td>\n",
       "    </tr>\n",
       "    <tr>\n",
       "      <th>772</th>\n",
       "      <td>2024-11-12</td>\n",
       "      <td>1.497622</td>\n",
       "      <td>155.665443</td>\n",
       "      <td>6.111420e+07</td>\n",
       "    </tr>\n",
       "    <tr>\n",
       "      <th>773</th>\n",
       "      <td>2024-11-13</td>\n",
       "      <td>1.503183</td>\n",
       "      <td>155.824875</td>\n",
       "      <td>5.931076e+07</td>\n",
       "    </tr>\n",
       "    <tr>\n",
       "      <th>774</th>\n",
       "      <td>2024-11-14</td>\n",
       "      <td>1.496643</td>\n",
       "      <td>155.984307</td>\n",
       "      <td>6.144709e+07</td>\n",
       "    </tr>\n",
       "    <tr>\n",
       "      <th>775</th>\n",
       "      <td>2024-11-15</td>\n",
       "      <td>1.502677</td>\n",
       "      <td>156.143740</td>\n",
       "      <td>6.078886e+07</td>\n",
       "    </tr>\n",
       "    <tr>\n",
       "      <th>776</th>\n",
       "      <td>2024-11-16</td>\n",
       "      <td>1.498389</td>\n",
       "      <td>156.303173</td>\n",
       "      <td>5.988102e+07</td>\n",
       "    </tr>\n",
       "    <tr>\n",
       "      <th>777</th>\n",
       "      <td>2024-11-17</td>\n",
       "      <td>1.500180</td>\n",
       "      <td>156.462606</td>\n",
       "      <td>6.193786e+07</td>\n",
       "    </tr>\n",
       "    <tr>\n",
       "      <th>778</th>\n",
       "      <td>2024-11-18</td>\n",
       "      <td>1.501036</td>\n",
       "      <td>156.622039</td>\n",
       "      <td>6.052870e+07</td>\n",
       "    </tr>\n",
       "    <tr>\n",
       "      <th>779</th>\n",
       "      <td>2024-11-19</td>\n",
       "      <td>1.497962</td>\n",
       "      <td>156.781472</td>\n",
       "      <td>6.063425e+07</td>\n",
       "    </tr>\n",
       "    <tr>\n",
       "      <th>780</th>\n",
       "      <td>2024-11-20</td>\n",
       "      <td>1.502392</td>\n",
       "      <td>156.940905</td>\n",
       "      <td>6.213822e+07</td>\n",
       "    </tr>\n",
       "    <tr>\n",
       "      <th>781</th>\n",
       "      <td>2024-11-21</td>\n",
       "      <td>1.497676</td>\n",
       "      <td>157.100338</td>\n",
       "      <td>6.045759e+07</td>\n",
       "    </tr>\n",
       "    <tr>\n",
       "      <th>782</th>\n",
       "      <td>2024-11-22</td>\n",
       "      <td>1.501646</td>\n",
       "      <td>157.259772</td>\n",
       "      <td>6.142706e+07</td>\n",
       "    </tr>\n",
       "    <tr>\n",
       "      <th>783</th>\n",
       "      <td>2024-11-23</td>\n",
       "      <td>1.499199</td>\n",
       "      <td>157.419205</td>\n",
       "      <td>6.210968e+07</td>\n",
       "    </tr>\n",
       "    <tr>\n",
       "      <th>784</th>\n",
       "      <td>2024-11-24</td>\n",
       "      <td>1.499743</td>\n",
       "      <td>157.578638</td>\n",
       "      <td>6.063480e+07</td>\n",
       "    </tr>\n",
       "    <tr>\n",
       "      <th>785</th>\n",
       "      <td>2024-11-25</td>\n",
       "      <td>1.501041</td>\n",
       "      <td>157.738071</td>\n",
       "      <td>6.212700e+07</td>\n",
       "    </tr>\n",
       "    <tr>\n",
       "      <th>786</th>\n",
       "      <td>2024-11-26</td>\n",
       "      <td>1.498349</td>\n",
       "      <td>157.897504</td>\n",
       "      <td>6.196139e+07</td>\n",
       "    </tr>\n",
       "    <tr>\n",
       "      <th>787</th>\n",
       "      <td>2024-11-27</td>\n",
       "      <td>1.501731</td>\n",
       "      <td>158.056938</td>\n",
       "      <td>6.104973e+07</td>\n",
       "    </tr>\n",
       "    <tr>\n",
       "      <th>788</th>\n",
       "      <td>2024-11-28</td>\n",
       "      <td>1.498444</td>\n",
       "      <td>158.216371</td>\n",
       "      <td>6.264369e+07</td>\n",
       "    </tr>\n",
       "    <tr>\n",
       "      <th>789</th>\n",
       "      <td>2024-11-29</td>\n",
       "      <td>1.500944</td>\n",
       "      <td>158.375804</td>\n",
       "      <td>6.181631e+07</td>\n",
       "    </tr>\n",
       "  </tbody>\n",
       "</table>\n",
       "</div>"
      ],
      "text/plain": [
       "          Date  Customers       Sales       Revenue\n",
       "730 2024-10-01   1.447373  134.036088  6.193326e+07\n",
       "731 2024-10-02   1.537294  140.257068  5.408909e+07\n",
       "732 2024-10-03   1.451584  147.494527  5.617277e+07\n",
       "733 2024-10-04   1.555762  143.048796  5.970770e+07\n",
       "734 2024-10-05   1.511371  144.617453  5.372747e+07\n",
       "735 2024-10-06   1.486676  151.447286  5.813100e+07\n",
       "736 2024-10-07   1.523953  146.347194  5.860665e+07\n",
       "737 2024-10-08   1.467895  152.277668  5.413023e+07\n",
       "738 2024-10-09   1.540469  147.824359  5.956791e+07\n",
       "739 2024-10-10   1.452490  154.763827  5.732371e+07\n",
       "740 2024-10-11   1.476698  154.871207  5.526277e+07\n",
       "741 2024-10-12   1.522531  149.677304  6.026546e+07\n",
       "742 2024-10-13   1.511387  151.950137  5.627152e+07\n",
       "743 2024-10-14   1.492469  151.288067  5.680898e+07\n",
       "744 2024-10-15   1.500587  151.419628  6.022725e+07\n",
       "745 2024-10-16   1.505714  151.527479  5.574559e+07\n",
       "746 2024-10-17   1.489668  151.616812  5.839634e+07\n",
       "747 2024-10-18   1.512197  151.749703  5.963805e+07\n",
       "748 2024-10-19   1.488591  151.884939  5.586878e+07\n",
       "749 2024-10-20   1.508141  152.029243  5.969598e+07\n",
       "750 2024-10-21   1.496437  152.178638  5.879200e+07\n",
       "751 2024-10-22   1.498530  152.331185  5.658594e+07\n",
       "752 2024-10-23   1.505600  152.486069  6.049759e+07\n",
       "753 2024-10-24   1.491727  152.642436  5.800415e+07\n",
       "754 2024-10-25   1.508813  152.799816  5.770319e+07\n",
       "755 2024-10-26   1.492456  152.957873  6.074422e+07\n",
       "756 2024-10-27   1.504665  153.116384  5.752967e+07\n",
       "757 2024-10-28   1.498820  153.275199  5.895589e+07\n",
       "758 2024-10-29   1.497646  153.434217  6.052419e+07\n",
       "759 2024-10-30   1.504936  153.593373  5.750947e+07\n",
       "760 2024-10-31   1.493654  153.752620  6.008418e+07\n",
       "761 2024-11-01   1.506151  153.911928  6.002828e+07\n",
       "762 2024-11-02   1.495216  154.071278  5.795195e+07\n",
       "763 2024-11-03   1.502404  154.230655  6.089647e+07\n",
       "764 2024-11-04   1.500147  154.390050  5.948785e+07\n",
       "765 2024-11-05   1.497450  154.549458  5.875004e+07\n",
       "766 2024-11-06   1.504065  154.708875  6.130687e+07\n",
       "767 2024-11-07   1.495307  154.868297  5.911180e+07\n",
       "768 2024-11-08   1.504141  155.027722  5.972432e+07\n",
       "769 2024-11-09   1.497121  155.187150  6.134114e+07\n",
       "770 2024-11-10   1.501000  155.346580  5.903828e+07\n",
       "771 2024-11-11   1.500797  155.506011  6.067780e+07\n",
       "772 2024-11-12   1.497622  155.665443  6.111420e+07\n",
       "773 2024-11-13   1.503183  155.824875  5.931076e+07\n",
       "774 2024-11-14   1.496643  155.984307  6.144709e+07\n",
       "775 2024-11-15   1.502677  156.143740  6.078886e+07\n",
       "776 2024-11-16   1.498389  156.303173  5.988102e+07\n",
       "777 2024-11-17   1.500180  156.462606  6.193786e+07\n",
       "778 2024-11-18   1.501036  156.622039  6.052870e+07\n",
       "779 2024-11-19   1.497962  156.781472  6.063425e+07\n",
       "780 2024-11-20   1.502392  156.940905  6.213822e+07\n",
       "781 2024-11-21   1.497676  157.100338  6.045759e+07\n",
       "782 2024-11-22   1.501646  157.259772  6.142706e+07\n",
       "783 2024-11-23   1.499199  157.419205  6.210968e+07\n",
       "784 2024-11-24   1.499743  157.578638  6.063480e+07\n",
       "785 2024-11-25   1.501041  157.738071  6.212700e+07\n",
       "786 2024-11-26   1.498349  157.897504  6.196139e+07\n",
       "787 2024-11-27   1.501731  158.056938  6.104973e+07\n",
       "788 2024-11-28   1.498444  158.216371  6.264369e+07\n",
       "789 2024-11-29   1.500944  158.375804  6.181631e+07"
      ]
     },
     "execution_count": 7,
     "metadata": {},
     "output_type": "execute_result"
    }
   ],
   "source": [
    "# Tạo Dataframe\n",
    "forecast_dates = pd.date_range(start='2024-10-01', periods=60)\n",
    "forecast_df = pd.DataFrame({\n",
    "    'Date': forecast_dates,\n",
    "    'Customers': forecast_customers,\n",
    "    'Sales': forecast_sales,\n",
    "    'Revenue': forecast_revenue\n",
    "})\n",
    "\n",
    "forecast_df\n",
    "# forecast_df.to_excel(\"Kamereo_Forcast.xlsx\", index = False)"
   ]
  },
  {
   "cell_type": "markdown",
   "metadata": {},
   "source": [
    "Sử dụng mô hình SARIMA (Autoregressive Integrated Moving Average) để thống kê các dữ liệu quá khứ để dự báo chuối thời gian. Sử dụng các yếu tố chính là chuỗi tự hồi quy AR (auto regression), trung bình động (Moving Average) và bậc của sai phân để thể hiện tính dừng, Như vậy các tham số sẽ bao gôm ARIMA(p, d, q). Việc lựa chọn các tham số phù hợp cho mô hình chủ yếu dựa trên chỉ số AIC. Do đó mô hình này sử dụng phương pháp auto arima để có thể tự động thực hiện quy trình. Sử dụng một grid search và chúng ta truyền vào các hệ số giới hạn của các bậc (p,d,q), sau đó thuật toán sẽ đưa ra một mô hình tối ưu nhất."
   ]
  },
  {
   "cell_type": "code",
   "execution_count": 16,
   "metadata": {},
   "outputs": [
    {
     "data": {
      "application/vnd.plotly.v1+json": {
       "config": {
        "plotlyServerURL": "https://plot.ly"
       },
       "data": [
        {
         "name": "Revenue",
         "type": "bar",
         "x": [
          "2024-10-01",
          "2024-10-02",
          "2024-10-03",
          "2024-10-04",
          "2024-10-05",
          "2024-10-06",
          "2024-10-07",
          "2024-10-08",
          "2024-10-09",
          "2024-10-10",
          "2024-10-11",
          "2024-10-12",
          "2024-10-13",
          "2024-10-14",
          "2024-10-15",
          "2024-10-16",
          "2024-10-17",
          "2024-10-18",
          "2024-10-19",
          "2024-10-20",
          "2024-10-21",
          "2024-10-22",
          "2024-10-23",
          "2024-10-24",
          "2024-10-25",
          "2024-10-26",
          "2024-10-27",
          "2024-10-28",
          "2024-10-29",
          "2024-10-30",
          "2024-10-31",
          "2024-11-01",
          "2024-11-02",
          "2024-11-03",
          "2024-11-04",
          "2024-11-05",
          "2024-11-06",
          "2024-11-07",
          "2024-11-08",
          "2024-11-09",
          "2024-11-10",
          "2024-11-11",
          "2024-11-12",
          "2024-11-13",
          "2024-11-14",
          "2024-11-15",
          "2024-11-16",
          "2024-11-17",
          "2024-11-18",
          "2024-11-19",
          "2024-11-20",
          "2024-11-21",
          "2024-11-22",
          "2024-11-23",
          "2024-11-24",
          "2024-11-25",
          "2024-11-26",
          "2024-11-27",
          "2024-11-28",
          "2024-11-29"
         ],
         "xaxis": "x",
         "y": [
          61933255.00506134,
          54089094.438622095,
          56172772.34015216,
          59707696.49057552,
          53727472.096226275,
          58130999.6492213,
          58606653.022716716,
          54130233.343548216,
          59567914.37325986,
          57323710.09067145,
          55262765.40021504,
          60265457.18357198,
          56271517.93933315,
          56808978.27919724,
          60227247.149792306,
          55745586.01541584,
          58396340.41524185,
          59638053.69799088,
          55868782.63321331,
          59695981.719024144,
          58792003.0652277,
          56585938.16805247,
          60497591.86312018,
          58004151.52409668,
          57703190.24115937,
          60744222.05735178,
          57529666.0973471,
          58955891.18001544,
          60524189.915883645,
          57509469.98215243,
          60084183.08713561,
          60028283.93078792,
          57951950.66083975,
          60896471.32450318,
          59487848.264185965,
          58750037.196153775,
          61306871.60445936,
          59111798.64847243,
          59724319.85669312,
          61341144.26987789,
          59038276.194708094,
          60677802.22413254,
          61114203.319363825,
          59310762.16586067,
          61447085.47268869,
          60788860.56757133,
          59881017.5328917,
          61937861.595136754,
          60528703.145956405,
          60634245.895716615,
          62138218.39686553,
          60457587.680700175,
          61427055.63891521,
          62109676.609552786,
          60634797.10291897,
          62126998.30788411,
          61961389.48714421,
          61049731.61216284,
          62643692.451046556,
          61816308.293337025
         ],
         "yaxis": "y"
        }
       ],
       "layout": {
        "template": {
         "data": {
          "bar": [
           {
            "error_x": {
             "color": "#2a3f5f"
            },
            "error_y": {
             "color": "#2a3f5f"
            },
            "marker": {
             "line": {
              "color": "#E5ECF6",
              "width": 0.5
             },
             "pattern": {
              "fillmode": "overlay",
              "size": 10,
              "solidity": 0.2
             }
            },
            "type": "bar"
           }
          ],
          "barpolar": [
           {
            "marker": {
             "line": {
              "color": "#E5ECF6",
              "width": 0.5
             },
             "pattern": {
              "fillmode": "overlay",
              "size": 10,
              "solidity": 0.2
             }
            },
            "type": "barpolar"
           }
          ],
          "carpet": [
           {
            "aaxis": {
             "endlinecolor": "#2a3f5f",
             "gridcolor": "white",
             "linecolor": "white",
             "minorgridcolor": "white",
             "startlinecolor": "#2a3f5f"
            },
            "baxis": {
             "endlinecolor": "#2a3f5f",
             "gridcolor": "white",
             "linecolor": "white",
             "minorgridcolor": "white",
             "startlinecolor": "#2a3f5f"
            },
            "type": "carpet"
           }
          ],
          "choropleth": [
           {
            "colorbar": {
             "outlinewidth": 0,
             "ticks": ""
            },
            "type": "choropleth"
           }
          ],
          "contour": [
           {
            "colorbar": {
             "outlinewidth": 0,
             "ticks": ""
            },
            "colorscale": [
             [
              0,
              "#0d0887"
             ],
             [
              0.1111111111111111,
              "#46039f"
             ],
             [
              0.2222222222222222,
              "#7201a8"
             ],
             [
              0.3333333333333333,
              "#9c179e"
             ],
             [
              0.4444444444444444,
              "#bd3786"
             ],
             [
              0.5555555555555556,
              "#d8576b"
             ],
             [
              0.6666666666666666,
              "#ed7953"
             ],
             [
              0.7777777777777778,
              "#fb9f3a"
             ],
             [
              0.8888888888888888,
              "#fdca26"
             ],
             [
              1,
              "#f0f921"
             ]
            ],
            "type": "contour"
           }
          ],
          "contourcarpet": [
           {
            "colorbar": {
             "outlinewidth": 0,
             "ticks": ""
            },
            "type": "contourcarpet"
           }
          ],
          "heatmap": [
           {
            "colorbar": {
             "outlinewidth": 0,
             "ticks": ""
            },
            "colorscale": [
             [
              0,
              "#0d0887"
             ],
             [
              0.1111111111111111,
              "#46039f"
             ],
             [
              0.2222222222222222,
              "#7201a8"
             ],
             [
              0.3333333333333333,
              "#9c179e"
             ],
             [
              0.4444444444444444,
              "#bd3786"
             ],
             [
              0.5555555555555556,
              "#d8576b"
             ],
             [
              0.6666666666666666,
              "#ed7953"
             ],
             [
              0.7777777777777778,
              "#fb9f3a"
             ],
             [
              0.8888888888888888,
              "#fdca26"
             ],
             [
              1,
              "#f0f921"
             ]
            ],
            "type": "heatmap"
           }
          ],
          "heatmapgl": [
           {
            "colorbar": {
             "outlinewidth": 0,
             "ticks": ""
            },
            "colorscale": [
             [
              0,
              "#0d0887"
             ],
             [
              0.1111111111111111,
              "#46039f"
             ],
             [
              0.2222222222222222,
              "#7201a8"
             ],
             [
              0.3333333333333333,
              "#9c179e"
             ],
             [
              0.4444444444444444,
              "#bd3786"
             ],
             [
              0.5555555555555556,
              "#d8576b"
             ],
             [
              0.6666666666666666,
              "#ed7953"
             ],
             [
              0.7777777777777778,
              "#fb9f3a"
             ],
             [
              0.8888888888888888,
              "#fdca26"
             ],
             [
              1,
              "#f0f921"
             ]
            ],
            "type": "heatmapgl"
           }
          ],
          "histogram": [
           {
            "marker": {
             "pattern": {
              "fillmode": "overlay",
              "size": 10,
              "solidity": 0.2
             }
            },
            "type": "histogram"
           }
          ],
          "histogram2d": [
           {
            "colorbar": {
             "outlinewidth": 0,
             "ticks": ""
            },
            "colorscale": [
             [
              0,
              "#0d0887"
             ],
             [
              0.1111111111111111,
              "#46039f"
             ],
             [
              0.2222222222222222,
              "#7201a8"
             ],
             [
              0.3333333333333333,
              "#9c179e"
             ],
             [
              0.4444444444444444,
              "#bd3786"
             ],
             [
              0.5555555555555556,
              "#d8576b"
             ],
             [
              0.6666666666666666,
              "#ed7953"
             ],
             [
              0.7777777777777778,
              "#fb9f3a"
             ],
             [
              0.8888888888888888,
              "#fdca26"
             ],
             [
              1,
              "#f0f921"
             ]
            ],
            "type": "histogram2d"
           }
          ],
          "histogram2dcontour": [
           {
            "colorbar": {
             "outlinewidth": 0,
             "ticks": ""
            },
            "colorscale": [
             [
              0,
              "#0d0887"
             ],
             [
              0.1111111111111111,
              "#46039f"
             ],
             [
              0.2222222222222222,
              "#7201a8"
             ],
             [
              0.3333333333333333,
              "#9c179e"
             ],
             [
              0.4444444444444444,
              "#bd3786"
             ],
             [
              0.5555555555555556,
              "#d8576b"
             ],
             [
              0.6666666666666666,
              "#ed7953"
             ],
             [
              0.7777777777777778,
              "#fb9f3a"
             ],
             [
              0.8888888888888888,
              "#fdca26"
             ],
             [
              1,
              "#f0f921"
             ]
            ],
            "type": "histogram2dcontour"
           }
          ],
          "mesh3d": [
           {
            "colorbar": {
             "outlinewidth": 0,
             "ticks": ""
            },
            "type": "mesh3d"
           }
          ],
          "parcoords": [
           {
            "line": {
             "colorbar": {
              "outlinewidth": 0,
              "ticks": ""
             }
            },
            "type": "parcoords"
           }
          ],
          "pie": [
           {
            "automargin": true,
            "type": "pie"
           }
          ],
          "scatter": [
           {
            "fillpattern": {
             "fillmode": "overlay",
             "size": 10,
             "solidity": 0.2
            },
            "type": "scatter"
           }
          ],
          "scatter3d": [
           {
            "line": {
             "colorbar": {
              "outlinewidth": 0,
              "ticks": ""
             }
            },
            "marker": {
             "colorbar": {
              "outlinewidth": 0,
              "ticks": ""
             }
            },
            "type": "scatter3d"
           }
          ],
          "scattercarpet": [
           {
            "marker": {
             "colorbar": {
              "outlinewidth": 0,
              "ticks": ""
             }
            },
            "type": "scattercarpet"
           }
          ],
          "scattergeo": [
           {
            "marker": {
             "colorbar": {
              "outlinewidth": 0,
              "ticks": ""
             }
            },
            "type": "scattergeo"
           }
          ],
          "scattergl": [
           {
            "marker": {
             "colorbar": {
              "outlinewidth": 0,
              "ticks": ""
             }
            },
            "type": "scattergl"
           }
          ],
          "scattermapbox": [
           {
            "marker": {
             "colorbar": {
              "outlinewidth": 0,
              "ticks": ""
             }
            },
            "type": "scattermapbox"
           }
          ],
          "scatterpolar": [
           {
            "marker": {
             "colorbar": {
              "outlinewidth": 0,
              "ticks": ""
             }
            },
            "type": "scatterpolar"
           }
          ],
          "scatterpolargl": [
           {
            "marker": {
             "colorbar": {
              "outlinewidth": 0,
              "ticks": ""
             }
            },
            "type": "scatterpolargl"
           }
          ],
          "scatterternary": [
           {
            "marker": {
             "colorbar": {
              "outlinewidth": 0,
              "ticks": ""
             }
            },
            "type": "scatterternary"
           }
          ],
          "surface": [
           {
            "colorbar": {
             "outlinewidth": 0,
             "ticks": ""
            },
            "colorscale": [
             [
              0,
              "#0d0887"
             ],
             [
              0.1111111111111111,
              "#46039f"
             ],
             [
              0.2222222222222222,
              "#7201a8"
             ],
             [
              0.3333333333333333,
              "#9c179e"
             ],
             [
              0.4444444444444444,
              "#bd3786"
             ],
             [
              0.5555555555555556,
              "#d8576b"
             ],
             [
              0.6666666666666666,
              "#ed7953"
             ],
             [
              0.7777777777777778,
              "#fb9f3a"
             ],
             [
              0.8888888888888888,
              "#fdca26"
             ],
             [
              1,
              "#f0f921"
             ]
            ],
            "type": "surface"
           }
          ],
          "table": [
           {
            "cells": {
             "fill": {
              "color": "#EBF0F8"
             },
             "line": {
              "color": "white"
             }
            },
            "header": {
             "fill": {
              "color": "#C8D4E3"
             },
             "line": {
              "color": "white"
             }
            },
            "type": "table"
           }
          ]
         },
         "layout": {
          "annotationdefaults": {
           "arrowcolor": "#2a3f5f",
           "arrowhead": 0,
           "arrowwidth": 1
          },
          "autotypenumbers": "strict",
          "coloraxis": {
           "colorbar": {
            "outlinewidth": 0,
            "ticks": ""
           }
          },
          "colorscale": {
           "diverging": [
            [
             0,
             "#8e0152"
            ],
            [
             0.1,
             "#c51b7d"
            ],
            [
             0.2,
             "#de77ae"
            ],
            [
             0.3,
             "#f1b6da"
            ],
            [
             0.4,
             "#fde0ef"
            ],
            [
             0.5,
             "#f7f7f7"
            ],
            [
             0.6,
             "#e6f5d0"
            ],
            [
             0.7,
             "#b8e186"
            ],
            [
             0.8,
             "#7fbc41"
            ],
            [
             0.9,
             "#4d9221"
            ],
            [
             1,
             "#276419"
            ]
           ],
           "sequential": [
            [
             0,
             "#0d0887"
            ],
            [
             0.1111111111111111,
             "#46039f"
            ],
            [
             0.2222222222222222,
             "#7201a8"
            ],
            [
             0.3333333333333333,
             "#9c179e"
            ],
            [
             0.4444444444444444,
             "#bd3786"
            ],
            [
             0.5555555555555556,
             "#d8576b"
            ],
            [
             0.6666666666666666,
             "#ed7953"
            ],
            [
             0.7777777777777778,
             "#fb9f3a"
            ],
            [
             0.8888888888888888,
             "#fdca26"
            ],
            [
             1,
             "#f0f921"
            ]
           ],
           "sequentialminus": [
            [
             0,
             "#0d0887"
            ],
            [
             0.1111111111111111,
             "#46039f"
            ],
            [
             0.2222222222222222,
             "#7201a8"
            ],
            [
             0.3333333333333333,
             "#9c179e"
            ],
            [
             0.4444444444444444,
             "#bd3786"
            ],
            [
             0.5555555555555556,
             "#d8576b"
            ],
            [
             0.6666666666666666,
             "#ed7953"
            ],
            [
             0.7777777777777778,
             "#fb9f3a"
            ],
            [
             0.8888888888888888,
             "#fdca26"
            ],
            [
             1,
             "#f0f921"
            ]
           ]
          },
          "colorway": [
           "#636efa",
           "#EF553B",
           "#00cc96",
           "#ab63fa",
           "#FFA15A",
           "#19d3f3",
           "#FF6692",
           "#B6E880",
           "#FF97FF",
           "#FECB52"
          ],
          "font": {
           "color": "#2a3f5f"
          },
          "geo": {
           "bgcolor": "white",
           "lakecolor": "white",
           "landcolor": "#E5ECF6",
           "showlakes": true,
           "showland": true,
           "subunitcolor": "white"
          },
          "hoverlabel": {
           "align": "left"
          },
          "hovermode": "closest",
          "mapbox": {
           "style": "light"
          },
          "paper_bgcolor": "white",
          "plot_bgcolor": "#E5ECF6",
          "polar": {
           "angularaxis": {
            "gridcolor": "white",
            "linecolor": "white",
            "ticks": ""
           },
           "bgcolor": "#E5ECF6",
           "radialaxis": {
            "gridcolor": "white",
            "linecolor": "white",
            "ticks": ""
           }
          },
          "scene": {
           "xaxis": {
            "backgroundcolor": "#E5ECF6",
            "gridcolor": "white",
            "gridwidth": 2,
            "linecolor": "white",
            "showbackground": true,
            "ticks": "",
            "zerolinecolor": "white"
           },
           "yaxis": {
            "backgroundcolor": "#E5ECF6",
            "gridcolor": "white",
            "gridwidth": 2,
            "linecolor": "white",
            "showbackground": true,
            "ticks": "",
            "zerolinecolor": "white"
           },
           "zaxis": {
            "backgroundcolor": "#E5ECF6",
            "gridcolor": "white",
            "gridwidth": 2,
            "linecolor": "white",
            "showbackground": true,
            "ticks": "",
            "zerolinecolor": "white"
           }
          },
          "shapedefaults": {
           "line": {
            "color": "#2a3f5f"
           }
          },
          "ternary": {
           "aaxis": {
            "gridcolor": "white",
            "linecolor": "white",
            "ticks": ""
           },
           "baxis": {
            "gridcolor": "white",
            "linecolor": "white",
            "ticks": ""
           },
           "bgcolor": "#E5ECF6",
           "caxis": {
            "gridcolor": "white",
            "linecolor": "white",
            "ticks": ""
           }
          },
          "title": {
           "x": 0.05
          },
          "xaxis": {
           "automargin": true,
           "gridcolor": "white",
           "linecolor": "white",
           "ticks": "",
           "title": {
            "standoff": 15
           },
           "zerolinecolor": "white",
           "zerolinewidth": 2
          },
          "yaxis": {
           "automargin": true,
           "gridcolor": "white",
           "linecolor": "white",
           "ticks": "",
           "title": {
            "standoff": 15
           },
           "zerolinecolor": "white",
           "zerolinewidth": 2
          }
         }
        },
        "title": {
         "text": "Revenue Forecast"
        },
        "xaxis": {
         "anchor": "y",
         "domain": [
          0,
          0.94
         ],
         "title": {
          "text": "Date"
         },
         "type": "category"
        },
        "yaxis": {
         "anchor": "x",
         "domain": [
          0,
          1
         ],
         "title": {
          "text": "Revenue"
         }
        },
        "yaxis2": {
         "anchor": "x",
         "overlaying": "y",
         "side": "right"
        }
       }
      }
     },
     "metadata": {},
     "output_type": "display_data"
    }
   ],
   "source": [
    "forecast_df['Date'] = pd.to_datetime(forecast_df['Date']).dt.date\n",
    "fig = make_subplots(rows=1, cols=1, specs=[[{\"secondary_y\": True}]])\n",
    "fig.add_trace(\n",
    "    go.Bar(\n",
    "        x=forecast_df['Date'],\n",
    "        y=forecast_df['Revenue'],\n",
    "        name='Revenue'),\n",
    "    secondary_y=False\n",
    ")\n",
    "\n",
    "\n",
    "fig.update_layout(\n",
    "    xaxis={\"title\": \"Date\", \"type\": \"category\"},\n",
    "    yaxis={\"title\": \"Revenue\"},\n",
    "    title='Revenue Forecast'\n",
    ")\n",
    "\n",
    "\n",
    "fig.show()\n"
   ]
  },
  {
   "cell_type": "code",
   "execution_count": 22,
   "metadata": {},
   "outputs": [
    {
     "data": {
      "application/vnd.plotly.v1+json": {
       "config": {
        "plotlyServerURL": "https://plot.ly"
       },
       "data": [
        {
         "name": "Quantity Sold",
         "type": "bar",
         "x": [
          "2024-10-01",
          "2024-10-02",
          "2024-10-03",
          "2024-10-04",
          "2024-10-05",
          "2024-10-06",
          "2024-10-07",
          "2024-10-08",
          "2024-10-09",
          "2024-10-10",
          "2024-10-11",
          "2024-10-12",
          "2024-10-13",
          "2024-10-14",
          "2024-10-15",
          "2024-10-16",
          "2024-10-17",
          "2024-10-18",
          "2024-10-19",
          "2024-10-20",
          "2024-10-21",
          "2024-10-22",
          "2024-10-23",
          "2024-10-24",
          "2024-10-25",
          "2024-10-26",
          "2024-10-27",
          "2024-10-28",
          "2024-10-29",
          "2024-10-30",
          "2024-10-31",
          "2024-11-01",
          "2024-11-02",
          "2024-11-03",
          "2024-11-04",
          "2024-11-05",
          "2024-11-06",
          "2024-11-07",
          "2024-11-08",
          "2024-11-09",
          "2024-11-10",
          "2024-11-11",
          "2024-11-12",
          "2024-11-13",
          "2024-11-14",
          "2024-11-15",
          "2024-11-16",
          "2024-11-17",
          "2024-11-18",
          "2024-11-19",
          "2024-11-20",
          "2024-11-21",
          "2024-11-22",
          "2024-11-23",
          "2024-11-24",
          "2024-11-25",
          "2024-11-26",
          "2024-11-27",
          "2024-11-28",
          "2024-11-29"
         ],
         "xaxis": "x",
         "y": [
          134.03608805266046,
          140.25706752902954,
          147.4945269400686,
          143.04879560435938,
          144.61745259439758,
          151.44728636438649,
          146.34719399937737,
          152.27766806948807,
          147.82435915699023,
          154.76382699240045,
          154.8712074046941,
          149.67730419395804,
          151.95013746413522,
          151.28806677264853,
          151.4196279024272,
          151.52747909416956,
          151.61681226364686,
          151.74970267971796,
          151.8849387582377,
          152.02924280413424,
          152.17863756863187,
          152.3311850742709,
          152.48606876195842,
          152.64243596103708,
          152.79981552860323,
          152.9578730875481,
          153.11638361921823,
          153.27519855256463,
          153.43421729483322,
          153.59337268430727,
          153.75261967343852,
          153.91192805519117,
          154.0712775905734,
          154.230654710467,
          154.39005032016627,
          154.5494583235339,
          154.70887463429702,
          154.86829651347534,
          155.02772212513503,
          155.18715023865934,
          155.34658002917195,
          155.50601094376185,
          155.6654426118155,
          155.8248747849124,
          155.9843072965374,
          156.14374003507618,
          156.30317292571422,
          156.46260591830367,
          156.62203897923067,
          156.78147208596403,
          156.94090522340116,
          157.10033838141888,
          157.25977155323167,
          157.41920473429124,
          157.57863792154888,
          157.73807111296105,
          157.89750430715802,
          158.05693750322158,
          158.21637070053632,
          158.37580389868972
         ],
         "yaxis": "y"
        },
        {
         "marker": {
          "color": "rgb(255, 140, 0)",
          "size": 8
         },
         "mode": "lines+markers",
         "name": "Number of Customer",
         "type": "scatter",
         "x": [
          "2024-10-01",
          "2024-10-02",
          "2024-10-03",
          "2024-10-04",
          "2024-10-05",
          "2024-10-06",
          "2024-10-07",
          "2024-10-08",
          "2024-10-09",
          "2024-10-10",
          "2024-10-11",
          "2024-10-12",
          "2024-10-13",
          "2024-10-14",
          "2024-10-15",
          "2024-10-16",
          "2024-10-17",
          "2024-10-18",
          "2024-10-19",
          "2024-10-20",
          "2024-10-21",
          "2024-10-22",
          "2024-10-23",
          "2024-10-24",
          "2024-10-25",
          "2024-10-26",
          "2024-10-27",
          "2024-10-28",
          "2024-10-29",
          "2024-10-30",
          "2024-10-31",
          "2024-11-01",
          "2024-11-02",
          "2024-11-03",
          "2024-11-04",
          "2024-11-05",
          "2024-11-06",
          "2024-11-07",
          "2024-11-08",
          "2024-11-09",
          "2024-11-10",
          "2024-11-11",
          "2024-11-12",
          "2024-11-13",
          "2024-11-14",
          "2024-11-15",
          "2024-11-16",
          "2024-11-17",
          "2024-11-18",
          "2024-11-19",
          "2024-11-20",
          "2024-11-21",
          "2024-11-22",
          "2024-11-23",
          "2024-11-24",
          "2024-11-25",
          "2024-11-26",
          "2024-11-27",
          "2024-11-28",
          "2024-11-29"
         ],
         "xaxis": "x",
         "y": [
          1.4473732918243485,
          1.5372942522182065,
          1.45158421395581,
          1.555761908976673,
          1.5113711066112043,
          1.4866755425537752,
          1.523952911705428,
          1.4678954703566687,
          1.540468790829311,
          1.452490132795909,
          1.4766977046169054,
          1.5225312740917918,
          1.5113871790636235,
          1.4924692814445786,
          1.5005873869808406,
          1.50571402721296,
          1.489667917677235,
          1.5121967381285453,
          1.488591143812878,
          1.5081410249694223,
          1.496437181294576,
          1.498529973903334,
          1.5056001118221953,
          1.4917268439622093,
          1.5088127027804177,
          1.4924555756408955,
          1.5046647244428177,
          1.4988203783007332,
          1.4976462275321771,
          1.5049355258242718,
          1.4936540185789808,
          1.506151257765672,
          1.4952155970369336,
          1.5024036868283464,
          1.5001468469570938,
          1.4974501499989556,
          1.5040645900033507,
          1.4953070185212667,
          1.5041413519545048,
          1.4971207235606476,
          1.5009997298193394,
          1.5007969671693826,
          1.4976223195009308,
          1.5031833448352714,
          1.496643496919992,
          1.5026769115328986,
          1.4983890267273798,
          1.5001796941199332,
          1.5010356275709755,
          1.497961818118564,
          1.5023918575574893,
          1.497676186072015,
          1.5016456144851782,
          1.4991992067951765,
          1.499742773195147,
          1.5010408756554203,
          1.4983491963647477,
          1.5017309674129526,
          1.4984442488408165,
          1.5009440885289993
         ],
         "yaxis": "y2"
        }
       ],
       "layout": {
        "template": {
         "data": {
          "bar": [
           {
            "error_x": {
             "color": "#2a3f5f"
            },
            "error_y": {
             "color": "#2a3f5f"
            },
            "marker": {
             "line": {
              "color": "#E5ECF6",
              "width": 0.5
             },
             "pattern": {
              "fillmode": "overlay",
              "size": 10,
              "solidity": 0.2
             }
            },
            "type": "bar"
           }
          ],
          "barpolar": [
           {
            "marker": {
             "line": {
              "color": "#E5ECF6",
              "width": 0.5
             },
             "pattern": {
              "fillmode": "overlay",
              "size": 10,
              "solidity": 0.2
             }
            },
            "type": "barpolar"
           }
          ],
          "carpet": [
           {
            "aaxis": {
             "endlinecolor": "#2a3f5f",
             "gridcolor": "white",
             "linecolor": "white",
             "minorgridcolor": "white",
             "startlinecolor": "#2a3f5f"
            },
            "baxis": {
             "endlinecolor": "#2a3f5f",
             "gridcolor": "white",
             "linecolor": "white",
             "minorgridcolor": "white",
             "startlinecolor": "#2a3f5f"
            },
            "type": "carpet"
           }
          ],
          "choropleth": [
           {
            "colorbar": {
             "outlinewidth": 0,
             "ticks": ""
            },
            "type": "choropleth"
           }
          ],
          "contour": [
           {
            "colorbar": {
             "outlinewidth": 0,
             "ticks": ""
            },
            "colorscale": [
             [
              0,
              "#0d0887"
             ],
             [
              0.1111111111111111,
              "#46039f"
             ],
             [
              0.2222222222222222,
              "#7201a8"
             ],
             [
              0.3333333333333333,
              "#9c179e"
             ],
             [
              0.4444444444444444,
              "#bd3786"
             ],
             [
              0.5555555555555556,
              "#d8576b"
             ],
             [
              0.6666666666666666,
              "#ed7953"
             ],
             [
              0.7777777777777778,
              "#fb9f3a"
             ],
             [
              0.8888888888888888,
              "#fdca26"
             ],
             [
              1,
              "#f0f921"
             ]
            ],
            "type": "contour"
           }
          ],
          "contourcarpet": [
           {
            "colorbar": {
             "outlinewidth": 0,
             "ticks": ""
            },
            "type": "contourcarpet"
           }
          ],
          "heatmap": [
           {
            "colorbar": {
             "outlinewidth": 0,
             "ticks": ""
            },
            "colorscale": [
             [
              0,
              "#0d0887"
             ],
             [
              0.1111111111111111,
              "#46039f"
             ],
             [
              0.2222222222222222,
              "#7201a8"
             ],
             [
              0.3333333333333333,
              "#9c179e"
             ],
             [
              0.4444444444444444,
              "#bd3786"
             ],
             [
              0.5555555555555556,
              "#d8576b"
             ],
             [
              0.6666666666666666,
              "#ed7953"
             ],
             [
              0.7777777777777778,
              "#fb9f3a"
             ],
             [
              0.8888888888888888,
              "#fdca26"
             ],
             [
              1,
              "#f0f921"
             ]
            ],
            "type": "heatmap"
           }
          ],
          "heatmapgl": [
           {
            "colorbar": {
             "outlinewidth": 0,
             "ticks": ""
            },
            "colorscale": [
             [
              0,
              "#0d0887"
             ],
             [
              0.1111111111111111,
              "#46039f"
             ],
             [
              0.2222222222222222,
              "#7201a8"
             ],
             [
              0.3333333333333333,
              "#9c179e"
             ],
             [
              0.4444444444444444,
              "#bd3786"
             ],
             [
              0.5555555555555556,
              "#d8576b"
             ],
             [
              0.6666666666666666,
              "#ed7953"
             ],
             [
              0.7777777777777778,
              "#fb9f3a"
             ],
             [
              0.8888888888888888,
              "#fdca26"
             ],
             [
              1,
              "#f0f921"
             ]
            ],
            "type": "heatmapgl"
           }
          ],
          "histogram": [
           {
            "marker": {
             "pattern": {
              "fillmode": "overlay",
              "size": 10,
              "solidity": 0.2
             }
            },
            "type": "histogram"
           }
          ],
          "histogram2d": [
           {
            "colorbar": {
             "outlinewidth": 0,
             "ticks": ""
            },
            "colorscale": [
             [
              0,
              "#0d0887"
             ],
             [
              0.1111111111111111,
              "#46039f"
             ],
             [
              0.2222222222222222,
              "#7201a8"
             ],
             [
              0.3333333333333333,
              "#9c179e"
             ],
             [
              0.4444444444444444,
              "#bd3786"
             ],
             [
              0.5555555555555556,
              "#d8576b"
             ],
             [
              0.6666666666666666,
              "#ed7953"
             ],
             [
              0.7777777777777778,
              "#fb9f3a"
             ],
             [
              0.8888888888888888,
              "#fdca26"
             ],
             [
              1,
              "#f0f921"
             ]
            ],
            "type": "histogram2d"
           }
          ],
          "histogram2dcontour": [
           {
            "colorbar": {
             "outlinewidth": 0,
             "ticks": ""
            },
            "colorscale": [
             [
              0,
              "#0d0887"
             ],
             [
              0.1111111111111111,
              "#46039f"
             ],
             [
              0.2222222222222222,
              "#7201a8"
             ],
             [
              0.3333333333333333,
              "#9c179e"
             ],
             [
              0.4444444444444444,
              "#bd3786"
             ],
             [
              0.5555555555555556,
              "#d8576b"
             ],
             [
              0.6666666666666666,
              "#ed7953"
             ],
             [
              0.7777777777777778,
              "#fb9f3a"
             ],
             [
              0.8888888888888888,
              "#fdca26"
             ],
             [
              1,
              "#f0f921"
             ]
            ],
            "type": "histogram2dcontour"
           }
          ],
          "mesh3d": [
           {
            "colorbar": {
             "outlinewidth": 0,
             "ticks": ""
            },
            "type": "mesh3d"
           }
          ],
          "parcoords": [
           {
            "line": {
             "colorbar": {
              "outlinewidth": 0,
              "ticks": ""
             }
            },
            "type": "parcoords"
           }
          ],
          "pie": [
           {
            "automargin": true,
            "type": "pie"
           }
          ],
          "scatter": [
           {
            "fillpattern": {
             "fillmode": "overlay",
             "size": 10,
             "solidity": 0.2
            },
            "type": "scatter"
           }
          ],
          "scatter3d": [
           {
            "line": {
             "colorbar": {
              "outlinewidth": 0,
              "ticks": ""
             }
            },
            "marker": {
             "colorbar": {
              "outlinewidth": 0,
              "ticks": ""
             }
            },
            "type": "scatter3d"
           }
          ],
          "scattercarpet": [
           {
            "marker": {
             "colorbar": {
              "outlinewidth": 0,
              "ticks": ""
             }
            },
            "type": "scattercarpet"
           }
          ],
          "scattergeo": [
           {
            "marker": {
             "colorbar": {
              "outlinewidth": 0,
              "ticks": ""
             }
            },
            "type": "scattergeo"
           }
          ],
          "scattergl": [
           {
            "marker": {
             "colorbar": {
              "outlinewidth": 0,
              "ticks": ""
             }
            },
            "type": "scattergl"
           }
          ],
          "scattermapbox": [
           {
            "marker": {
             "colorbar": {
              "outlinewidth": 0,
              "ticks": ""
             }
            },
            "type": "scattermapbox"
           }
          ],
          "scatterpolar": [
           {
            "marker": {
             "colorbar": {
              "outlinewidth": 0,
              "ticks": ""
             }
            },
            "type": "scatterpolar"
           }
          ],
          "scatterpolargl": [
           {
            "marker": {
             "colorbar": {
              "outlinewidth": 0,
              "ticks": ""
             }
            },
            "type": "scatterpolargl"
           }
          ],
          "scatterternary": [
           {
            "marker": {
             "colorbar": {
              "outlinewidth": 0,
              "ticks": ""
             }
            },
            "type": "scatterternary"
           }
          ],
          "surface": [
           {
            "colorbar": {
             "outlinewidth": 0,
             "ticks": ""
            },
            "colorscale": [
             [
              0,
              "#0d0887"
             ],
             [
              0.1111111111111111,
              "#46039f"
             ],
             [
              0.2222222222222222,
              "#7201a8"
             ],
             [
              0.3333333333333333,
              "#9c179e"
             ],
             [
              0.4444444444444444,
              "#bd3786"
             ],
             [
              0.5555555555555556,
              "#d8576b"
             ],
             [
              0.6666666666666666,
              "#ed7953"
             ],
             [
              0.7777777777777778,
              "#fb9f3a"
             ],
             [
              0.8888888888888888,
              "#fdca26"
             ],
             [
              1,
              "#f0f921"
             ]
            ],
            "type": "surface"
           }
          ],
          "table": [
           {
            "cells": {
             "fill": {
              "color": "#EBF0F8"
             },
             "line": {
              "color": "white"
             }
            },
            "header": {
             "fill": {
              "color": "#C8D4E3"
             },
             "line": {
              "color": "white"
             }
            },
            "type": "table"
           }
          ]
         },
         "layout": {
          "annotationdefaults": {
           "arrowcolor": "#2a3f5f",
           "arrowhead": 0,
           "arrowwidth": 1
          },
          "autotypenumbers": "strict",
          "coloraxis": {
           "colorbar": {
            "outlinewidth": 0,
            "ticks": ""
           }
          },
          "colorscale": {
           "diverging": [
            [
             0,
             "#8e0152"
            ],
            [
             0.1,
             "#c51b7d"
            ],
            [
             0.2,
             "#de77ae"
            ],
            [
             0.3,
             "#f1b6da"
            ],
            [
             0.4,
             "#fde0ef"
            ],
            [
             0.5,
             "#f7f7f7"
            ],
            [
             0.6,
             "#e6f5d0"
            ],
            [
             0.7,
             "#b8e186"
            ],
            [
             0.8,
             "#7fbc41"
            ],
            [
             0.9,
             "#4d9221"
            ],
            [
             1,
             "#276419"
            ]
           ],
           "sequential": [
            [
             0,
             "#0d0887"
            ],
            [
             0.1111111111111111,
             "#46039f"
            ],
            [
             0.2222222222222222,
             "#7201a8"
            ],
            [
             0.3333333333333333,
             "#9c179e"
            ],
            [
             0.4444444444444444,
             "#bd3786"
            ],
            [
             0.5555555555555556,
             "#d8576b"
            ],
            [
             0.6666666666666666,
             "#ed7953"
            ],
            [
             0.7777777777777778,
             "#fb9f3a"
            ],
            [
             0.8888888888888888,
             "#fdca26"
            ],
            [
             1,
             "#f0f921"
            ]
           ],
           "sequentialminus": [
            [
             0,
             "#0d0887"
            ],
            [
             0.1111111111111111,
             "#46039f"
            ],
            [
             0.2222222222222222,
             "#7201a8"
            ],
            [
             0.3333333333333333,
             "#9c179e"
            ],
            [
             0.4444444444444444,
             "#bd3786"
            ],
            [
             0.5555555555555556,
             "#d8576b"
            ],
            [
             0.6666666666666666,
             "#ed7953"
            ],
            [
             0.7777777777777778,
             "#fb9f3a"
            ],
            [
             0.8888888888888888,
             "#fdca26"
            ],
            [
             1,
             "#f0f921"
            ]
           ]
          },
          "colorway": [
           "#636efa",
           "#EF553B",
           "#00cc96",
           "#ab63fa",
           "#FFA15A",
           "#19d3f3",
           "#FF6692",
           "#B6E880",
           "#FF97FF",
           "#FECB52"
          ],
          "font": {
           "color": "#2a3f5f"
          },
          "geo": {
           "bgcolor": "white",
           "lakecolor": "white",
           "landcolor": "#E5ECF6",
           "showlakes": true,
           "showland": true,
           "subunitcolor": "white"
          },
          "hoverlabel": {
           "align": "left"
          },
          "hovermode": "closest",
          "mapbox": {
           "style": "light"
          },
          "paper_bgcolor": "white",
          "plot_bgcolor": "#E5ECF6",
          "polar": {
           "angularaxis": {
            "gridcolor": "white",
            "linecolor": "white",
            "ticks": ""
           },
           "bgcolor": "#E5ECF6",
           "radialaxis": {
            "gridcolor": "white",
            "linecolor": "white",
            "ticks": ""
           }
          },
          "scene": {
           "xaxis": {
            "backgroundcolor": "#E5ECF6",
            "gridcolor": "white",
            "gridwidth": 2,
            "linecolor": "white",
            "showbackground": true,
            "ticks": "",
            "zerolinecolor": "white"
           },
           "yaxis": {
            "backgroundcolor": "#E5ECF6",
            "gridcolor": "white",
            "gridwidth": 2,
            "linecolor": "white",
            "showbackground": true,
            "ticks": "",
            "zerolinecolor": "white"
           },
           "zaxis": {
            "backgroundcolor": "#E5ECF6",
            "gridcolor": "white",
            "gridwidth": 2,
            "linecolor": "white",
            "showbackground": true,
            "ticks": "",
            "zerolinecolor": "white"
           }
          },
          "shapedefaults": {
           "line": {
            "color": "#2a3f5f"
           }
          },
          "ternary": {
           "aaxis": {
            "gridcolor": "white",
            "linecolor": "white",
            "ticks": ""
           },
           "baxis": {
            "gridcolor": "white",
            "linecolor": "white",
            "ticks": ""
           },
           "bgcolor": "#E5ECF6",
           "caxis": {
            "gridcolor": "white",
            "linecolor": "white",
            "ticks": ""
           }
          },
          "title": {
           "x": 0.05
          },
          "xaxis": {
           "automargin": true,
           "gridcolor": "white",
           "linecolor": "white",
           "ticks": "",
           "title": {
            "standoff": 15
           },
           "zerolinecolor": "white",
           "zerolinewidth": 2
          },
          "yaxis": {
           "automargin": true,
           "gridcolor": "white",
           "linecolor": "white",
           "ticks": "",
           "title": {
            "standoff": 15
           },
           "zerolinecolor": "white",
           "zerolinewidth": 2
          }
         }
        },
        "title": {
         "text": "Quantity and Number of Customer Forecast"
        },
        "xaxis": {
         "anchor": "y",
         "domain": [
          0,
          0.94
         ],
         "title": {
          "text": "Date"
         },
         "type": "category"
        },
        "yaxis": {
         "anchor": "x",
         "domain": [
          0,
          1
         ],
         "title": {
          "text": "Quantity Sold"
         }
        },
        "yaxis2": {
         "anchor": "x",
         "overlaying": "y",
         "side": "right",
         "title": {
          "text": "Number of Customer"
         }
        }
       }
      }
     },
     "metadata": {},
     "output_type": "display_data"
    }
   ],
   "source": [
    "fig = make_subplots(rows=1, cols=1, specs=[[{\"secondary_y\": True}]])\n",
    "fig.add_trace(\n",
    "    go.Bar(\n",
    "        x=forecast_df['Date'],\n",
    "        y=forecast_df['Sales'],\n",
    "        name='Quantity Sold'),\n",
    "    secondary_y=False\n",
    ")\n",
    "fig.add_trace(\n",
    "    go.Scatter(\n",
    "        x=forecast_df['Date'],\n",
    "        y=forecast_df['Customers'],\n",
    "        mode='lines+markers',\n",
    "        name='Number of Customer',\n",
    "        marker=dict(\n",
    "            color='rgb(255, 140, 0)',\n",
    "            size=8\n",
    "    )\n",
    "    ),\n",
    "    secondary_y=True\n",
    ")\n",
    "\n",
    "fig.update_layout(\n",
    "    xaxis={\"title\": \"Date\", \"type\": \"category\"},\n",
    "    yaxis={\"title\": \"Quantity Sold\"},\n",
    "    yaxis2={\"title\": \"Number of Customer\", \"overlaying\": \"y\", \"side\": \"right\"},\n",
    "    title='Quantity and Number of Customer Forecast'\n",
    ")\n",
    "\n",
    "\n",
    "fig.show()"
   ]
  }
 ],
 "metadata": {
  "kernelspec": {
   "display_name": "Python 3",
   "language": "python",
   "name": "python3"
  },
  "language_info": {
   "codemirror_mode": {
    "name": "ipython",
    "version": 3
   },
   "file_extension": ".py",
   "mimetype": "text/x-python",
   "name": "python",
   "nbconvert_exporter": "python",
   "pygments_lexer": "ipython3",
   "version": "3.12.0"
  }
 },
 "nbformat": 4,
 "nbformat_minor": 2
}
